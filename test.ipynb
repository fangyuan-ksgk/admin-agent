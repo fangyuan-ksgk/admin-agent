{
 "cells": [
  {
   "cell_type": "markdown",
   "metadata": {},
   "source": [
    "#### Pre-Processing"
   ]
  },
  {
   "cell_type": "code",
   "execution_count": 1,
   "metadata": {},
   "outputs": [
    {
     "name": "stdout",
     "output_type": "stream",
     "text": [
      "Preprocessing AORs...\n"
     ]
    }
   ],
   "source": [
    "# Parse a PDF as well as a email invoice\n",
    "from src.utils import preprocess_aor\n",
    "pdf_path = \"database/aor/AOR-sample1.pdf\"\n",
    "preprocess_aor(aor_dir=\"database/aor\")"
   ]
  },
  {
   "cell_type": "markdown",
   "metadata": {},
   "source": [
    "#### Search & Query"
   ]
  },
  {
   "cell_type": "code",
   "execution_count": 2,
   "metadata": {},
   "outputs": [
    {
     "name": "stderr",
     "output_type": "stream",
     "text": [
      "/opt/homebrew/anaconda3/lib/python3.11/site-packages/sentence_transformers/cross_encoder/CrossEncoder.py:11: TqdmExperimentalWarning: Using `tqdm.autonotebook.tqdm` in notebook mode. Use `tqdm.tqdm` instead to force console mode (e.g. in jupyter console)\n",
      "  from tqdm.autonotebook import tqdm, trange\n"
     ]
    },
    {
     "name": "stdout",
     "output_type": "stream",
     "text": [
      "Item-based AOR searching:\n",
      "AOR No: DH928/6/4\n",
      "Description: Approval of requirement specifications for the implementation of Crew Mobile Digital Services Lite (CMDS-Lite) for First Flotilla, specifically for a Proof of Concept (PoC) trial on two Frigates (FFSes).\n",
      "Items: ['Hardware for 2 FFSes', 'Software and Licenses for 2 FFSes', 'IT man-effort and Professional Services']\n",
      "Budgets: [36000.0, 10000.0, 78000.0]\n",
      "Expiry Date: 2024-05-16\n",
      "---\n",
      "AOR No: DH928/6\n",
      "Description: Approval of requirement specifications for the trial of CMDS-Lite on two Frigates (FFSes).\n",
      "Items: ['Hardware for 2 FFSes', 'Software and Licenses for 2 FFSes', 'IT man-effort and Professional Services']\n",
      "Budgets: [36000.0, 10000.0, 78000.0]\n",
      "Expiry Date: 2025-06-16\n",
      "---\n"
     ]
    }
   ],
   "source": [
    "# Chat with the preprocessed AOR for real-time chat based on RAG \n",
    "from src.aor import load_aors\n",
    "from src.search import search_aor_with_item, search_aor_with_no\n",
    "\n",
    "\n",
    "aor_list = load_aors()\n",
    "\n",
    "# Quick routing: Item-based & Number-baseds\n",
    "\n",
    "# item_query = \"Hardware\"\n",
    "# matching_aors = search_aor_with_item(query, aor_list)\n",
    "\n",
    "no_query = \"DH928\"\n",
    "matching_aors = search_aor_with_no(no_query, aor_list)\n",
    "\n",
    "\n",
    "print(\"Item-based AOR searching:\")\n",
    "for aor in matching_aors:\n",
    "    print(f\"AOR No: {aor.no}\")\n",
    "    print(f\"Description: {aor.description}\")\n",
    "    print(f\"Items: {aor.items}\")\n",
    "    print(f\"Budgets: {aor.budgets}\")\n",
    "    print(f\"Expiry Date: {aor.expiry_date}\")\n",
    "    print(\"---\")\n"
   ]
  },
  {
   "cell_type": "markdown",
   "metadata": {},
   "source": [
    "#### RAG-based chat "
   ]
  },
  {
   "cell_type": "code",
   "execution_count": 3,
   "metadata": {},
   "outputs": [],
   "source": [
    "# How many budget is left in the AOR xxx \n",
    "# What kind of item is covered in AOR xxx\n",
    "\n",
    "from src.utils import get_oai_response\n",
    "\n",
    "query = \"How much is left in the budget of AOR DH928/6/4?\"\n",
    "\n",
    "def query_detail(aor, query):\n",
    "    \"\"\" \n",
    "    Naive implementation | TBD: structured RAG with cached dictionary\n",
    "    \"\"\"\n",
    "    text = aor.pdf_text \n",
    "    \n",
    "    QUERY_TEMPLATE = \"\"\"\n",
    "    Given the following AOR:\n",
    "    {txt}\n",
    "    Answer the following question:\n",
    "    {query}\n",
    "    \"\"\"\n",
    "    query_prompt = QUERY_TEMPLATE.format(txt=text, query=query)\n",
    "    \n",
    "    response = get_oai_response(query_prompt)\n",
    "    \n",
    "    return response"
   ]
  },
  {
   "cell_type": "code",
   "execution_count": 4,
   "metadata": {},
   "outputs": [],
   "source": [
    "response = query_detail(aor, query)"
   ]
  },
  {
   "cell_type": "code",
   "execution_count": 5,
   "metadata": {},
   "outputs": [
    {
     "name": "stdout",
     "output_type": "stream",
     "text": [
      "The AOR DH928/6-4 outlines the estimated contract value for the trial of the CMDS-Lite on two Frigates as not exceeding $124,000. The document also provides a detailed cost breakdown, which sums up to the same estimated contract value:\n",
      "\n",
      "1. Hardware for 2 FFSes: $36,000  \n",
      "2. Software and Licenses for 2 FFSes: $10,000  \n",
      "3. IT man-effort and Professional Services: $78,000  \n",
      "   \n",
      "Total: $124,000  \n",
      "\n",
      "Since the total estimated cost matches the contract value of $124,000, there is no amount left in the budget for AOR DH928/6-4. The entire budget has been allocated for this project.\n"
     ]
    }
   ],
   "source": [
    "print(response)"
   ]
  },
  {
   "cell_type": "code",
   "execution_count": null,
   "metadata": {},
   "outputs": [],
   "source": []
  }
 ],
 "metadata": {
  "kernelspec": {
   "display_name": "Python 3",
   "language": "python",
   "name": "python3"
  },
  "language_info": {
   "codemirror_mode": {
    "name": "ipython",
    "version": 3
   },
   "file_extension": ".py",
   "mimetype": "text/x-python",
   "name": "python",
   "nbconvert_exporter": "python",
   "pygments_lexer": "ipython3",
   "version": "3.11.5"
  }
 },
 "nbformat": 4,
 "nbformat_minor": 2
}

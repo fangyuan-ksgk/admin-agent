{
 "cells": [
  {
   "cell_type": "markdown",
   "metadata": {},
   "source": [
    "#### Pre-Processing"
   ]
  },
  {
   "cell_type": "code",
   "execution_count": 1,
   "metadata": {},
   "outputs": [
    {
     "name": "stdout",
     "output_type": "stream",
     "text": [
      "AOR pdf paths  ['database/aor/AOR-sample1.pdf']\n"
     ]
    }
   ],
   "source": [
    "# Parse a PDF as well as a email invoice\n",
    "from src.utils import preprocess_aor\n",
    "pdf_path = \"database/aor/AOR-sample1.pdf\"\n",
    "preprocess_aor(aor_dir=\"database/aor\")"
   ]
  },
  {
   "cell_type": "markdown",
   "metadata": {},
   "source": [
    "#### Search & Query"
   ]
  },
  {
   "cell_type": "code",
   "execution_count": 2,
   "metadata": {},
   "outputs": [
    {
     "name": "stdout",
     "output_type": "stream",
     "text": [
      "Item-based AOR searching:\n",
      "AOR No: DH928/6/4\n",
      "Description: Approval of requirement specifications for the implementation of Crew Mobile Digital Services Lite (CMDS-Lite) for First Flotilla, specifically for a Proof of Concept (PoC) trial on two Frigates (FFSes).\n",
      "Items: ['Hardware for 2 FFSes', 'Software and Licenses for 2 FFSes', 'IT man-effort and Professional Services']\n",
      "Budgets: [36000.0, 10000.0, 78000.0]\n",
      "Expiry Date: 2024-05-16\n",
      "---\n"
     ]
    }
   ],
   "source": [
    "# Chat with the preprocessed AOR for real-time chat based on RAG \n",
    "from src.aor import load_aors\n",
    "from src.search import search_aor_with_item, search_aor_with_no\n",
    "\n",
    "\n",
    "aor_list = load_aors()\n",
    "\n",
    "# Quick routing: Item-based & Number-baseds\n",
    "\n",
    "# item_query = \"Hardware\"\n",
    "# matching_aors = search_aor_with_item(query, aor_list)\n",
    "\n",
    "no_query = \"DH928\"\n",
    "matching_aors = search_aor_with_no(no_query, aor_list)\n",
    "\n",
    "\n",
    "print(\"Item-based AOR searching:\")\n",
    "for aor in matching_aors:\n",
    "    print(f\"AOR No: {aor.no}\")\n",
    "    print(f\"Description: {aor.description}\")\n",
    "    print(f\"Items: {aor.items}\")\n",
    "    print(f\"Budgets: {aor.budgets}\")\n",
    "    print(f\"Expiry Date: {aor.expiry_date}\")\n",
    "    print(\"---\")\n"
   ]
  },
  {
   "cell_type": "markdown",
   "metadata": {},
   "source": [
    "#### RAG-based chat "
   ]
  },
  {
   "cell_type": "code",
   "execution_count": 8,
   "metadata": {},
   "outputs": [],
   "source": [
    "# How many budget is left in the AOR xxx \n",
    "# What kind of item is covered in AOR xxx\n",
    "\n",
    "from typing import List\n",
    "from sentence_transformers import SentenceTransformer\n",
    "from sklearn.metrics.pairwise import cosine_similarity\n",
    "import numpy as np\n",
    "\n",
    "query = \"How much is left in the budget of AOR DH928/6/4?\"\n",
    "\n",
    "def query_detail(aor, query):\n",
    "    # RAG over details over an aor\n",
    "    text = aor.pdf_text \n",
    "    \n",
    "    # Initialize the sentence transformer model\n",
    "    model = SentenceTransformer('all-MiniLM-L6-v2')\n",
    "    \n",
    "    # Encode the query and the AOR text\n",
    "    query_embedding = model.encode([query])\n",
    "    \n",
    "    # Split the text into sentences\n",
    "    sentences = text.split('.')\n",
    "    sentence_embeddings = model.encode(sentences)\n",
    "    \n",
    "    # Calculate cosine similarity between query and sentences\n",
    "    similarities = cosine_similarity(query_embedding, sentence_embeddings)[0]\n",
    "    \n",
    "    # Get the top 3 most relevant sentences\n",
    "    top_indices = similarities.argsort()[-3:][::-1]\n",
    "    relevant_sentences = [sentences[i].strip() for i in top_indices]\n",
    "    \n",
    "    # Construct the response\n",
    "    response = \"\\n\".join(relevant_sentences)\n",
    "    \n",
    "    return response"
   ]
  },
  {
   "cell_type": "code",
   "execution_count": 10,
   "metadata": {},
   "outputs": [
    {
     "name": "stderr",
     "output_type": "stream",
     "text": [
      "/opt/homebrew/anaconda3/lib/python3.11/site-packages/huggingface_hub/file_download.py:1150: FutureWarning: `resume_download` is deprecated and will be removed in version 1.0.0. Downloads always resume when possible. If you want to force a new download, use `force_download=True`.\n",
      "  warnings.warn(\n"
     ]
    }
   ],
   "source": [
    "response = query_detail(aor, query)"
   ]
  },
  {
   "cell_type": "code",
   "execution_count": 11,
   "metadata": {},
   "outputs": [
    {
     "name": "stdout",
     "output_type": "stream",
     "text": [
      "Table 1: Cost Breakdown  \n",
      "S/N Description  Estimated Cost  \n",
      "1 Hardware for 2 FFSes  $36,000 \n",
      "2 Software and Licenses for 2 FFSes  $10,000 \n",
      "3 IT man -effort and Professional Services  $78,000 \n",
      "Total  $124,000  \n",
      " \n",
      "5\n",
      "The estimated contract value of this trial will not exceed  \n",
      "$124,000  (see the breakdown in Table 1)\n",
      "All \n",
      "hardware/infrastructure/software preparation/services costs shall be borne \n",
      "by the potential supplier\n"
     ]
    }
   ],
   "source": [
    "print(response)"
   ]
  },
  {
   "cell_type": "code",
   "execution_count": null,
   "metadata": {},
   "outputs": [],
   "source": []
  }
 ],
 "metadata": {
  "kernelspec": {
   "display_name": "Python 3",
   "language": "python",
   "name": "python3"
  },
  "language_info": {
   "codemirror_mode": {
    "name": "ipython",
    "version": 3
   },
   "file_extension": ".py",
   "mimetype": "text/x-python",
   "name": "python",
   "nbconvert_exporter": "python",
   "pygments_lexer": "ipython3",
   "version": "3.11.5"
  }
 },
 "nbformat": 4,
 "nbformat_minor": 2
}

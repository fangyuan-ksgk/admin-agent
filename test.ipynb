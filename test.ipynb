{
 "cells": [
  {
   "cell_type": "markdown",
   "metadata": {},
   "source": [
    "#### Pre-Processing"
   ]
  },
  {
   "cell_type": "code",
   "execution_count": 1,
   "metadata": {},
   "outputs": [
    {
     "name": "stdout",
     "output_type": "stream",
     "text": [
      "Preprocessing AORs...\n"
     ]
    }
   ],
   "source": [
    "# Parse a PDF as well as a email invoice\n",
    "from src.utils import preprocess_aor, preprocess_invoice\n",
    "# pdf_path = \"database/aor/AOR-sample1.pdf\"\n",
    "# preprocess_aor(aor_dir=\"database/aor\")\n",
    "\n",
    "# preprocess_invoice(invoice_dir=\"database/invoice\")"
   ]
  },
  {
   "cell_type": "markdown",
   "metadata": {},
   "source": [
    "#### Search & Query"
   ]
  },
  {
   "cell_type": "code",
   "execution_count": 2,
   "metadata": {},
   "outputs": [
    {
     "name": "stderr",
     "output_type": "stream",
     "text": [
      "/opt/homebrew/anaconda3/lib/python3.11/site-packages/sentence_transformers/cross_encoder/CrossEncoder.py:11: TqdmExperimentalWarning: Using `tqdm.autonotebook.tqdm` in notebook mode. Use `tqdm.tqdm` instead to force console mode (e.g. in jupyter console)\n",
      "  from tqdm.autonotebook import tqdm, trange\n"
     ]
    },
    {
     "name": "stdout",
     "output_type": "stream",
     "text": [
      "Item-based AOR searching:\n",
      "AOR No: DH928/6/4\n",
      "Description: Approval of requirement specifications for the implementation of Crew Mobile Digital Services Lite (CMDS-Lite) for First Flotilla, specifically for a Proof of Concept (PoC) trial on two Frigates (FFSes).\n",
      "Items: ['Hardware for 2 FFSes', 'Software and Licenses for 2 FFSes', 'IT man-effort and Professional Services']\n",
      "Budgets: [36000.0, 10000.0, 78000.0]\n",
      "Expiry Date: 2024-05-16\n",
      "---\n"
     ]
    }
   ],
   "source": [
    "# Chat with the preprocessed AOR for real-time chat based on RAG \n",
    "from src.aor import load_aors\n",
    "from src.search import search_aor_with_item, search_aor_with_no\n",
    "\n",
    "\n",
    "aor_list = load_aors()\n",
    "\n",
    "# Quick routing: Item-based & Number-baseds\n",
    "no_query = \"DH928\"\n",
    "matching_aors = search_aor_with_no(no_query, aor_list)\n",
    "\n",
    "\n",
    "print(\"Item-based AOR searching:\")\n",
    "for aor in matching_aors[:1]:\n",
    "    print(f\"AOR No: {aor.no}\")\n",
    "    print(f\"Description: {aor.description}\")\n",
    "    print(f\"Items: {aor.items}\")\n",
    "    print(f\"Budgets: {aor.budgets}\")\n",
    "    print(f\"Expiry Date: {aor.expiry_date}\")\n",
    "    print(\"---\")"
   ]
  },
  {
   "cell_type": "markdown",
   "metadata": {},
   "source": [
    "#### RAG-based chat "
   ]
  },
  {
   "cell_type": "code",
   "execution_count": 2,
   "metadata": {},
   "outputs": [
    {
     "name": "stdout",
     "output_type": "stream",
     "text": [
      "Calling Function:  search_aor_with_no  | Query:  DH928\n",
      "Retrived Information: Found AORDH928/6 /4 related to the query number DH928\n",
      "Calling Function:  direct_answer  | Query:  The AOR with number DH928/6 /4 has a budget for Hardware of 36000.0 for 2 FFSes, a budget for Software and Licenses of 10000.0 for 2 FFSes, and a budget for IT man-effort and Professional Services of 78000.0. This AOR is set to expire on 2025-06-16 and it involves the Approval of Requirement Specifications for the Implementation of Crew Mobile Digital Services Lite (CMDS-Lite) for the First Flotilla.\n",
      "Direct Answer\n",
      "Final Answer: AOR DH928 pertains to the Approval of Requirement Specifications for the Implementation of Crew Mobile Digital Services Lite (CMDS-Lite) for the First Flotilla. The budget allocated includes 36,000.0 for hardware for 2 FFSes, 10,000.0 for software and licenses, and 78,000.0 for IT man-effort and professional services. The AOR expires on June 16, 2025.\n",
      "Calling Function:  search_invoice_with_no  | Query:  01141833\n",
      "Retrived Information: Found Invoice01141833 related to the query number 01141833\n",
      "Calling Function:  query_invoice_detail  | Query:  Invoice no. 01141833\n",
      "Final Answer: The invoice no. 01141833 is about an agency service fee for Hongbai Trading (Shanghai) Co., Ltd., with a total amount of ¥742.00, including a 6% tax.\n"
     ]
    }
   ],
   "source": [
    "from src.agent import RagAgent \n",
    "\n",
    "# Example usage\n",
    "agent = RagAgent()\n",
    "user_message = \"Tell me about AOR DH928\"\n",
    "# user_message = \"Look for AOR which covers toilet paper\"\n",
    "# user_message = \"What is the invoice no.01141883 about?\"\n",
    "agent_response = agent.chat(user_message)\n",
    "\n",
    "user_message = \"What is the invoice no.01141833 about?\"\n",
    "agent_response = agent.chat(user_message)\n",
    "\n",
    "# user_message = \"Really?\"\n",
    "# agent_response = agent.chat(user_message)"
   ]
  },
  {
   "cell_type": "markdown",
   "metadata": {},
   "source": [
    "#### Invoice Processor"
   ]
  },
  {
   "cell_type": "code",
   "execution_count": 5,
   "metadata": {},
   "outputs": [
    {
     "name": "stdout",
     "output_type": "stream",
     "text": [
      "Retrived Information: Found Invoice01141833 related to the query number 01141833\n",
      "Direct Answer\n",
      "Final Answer: The invoice no. 01141833 is not mentioned or covered by AOR DH928.\n"
     ]
    }
   ],
   "source": [
    "# this is the last query to solve, before the front-end deployment \n",
    "# query = \"Is the invoice no.01141833 covered by any of the AORs?\"\n",
    "# query = \"What is the invoice no.01141883 about?\"\n",
    "\n",
    "# use_message = \"Is the invoice no.01141833 covered by any of the AORs?\"\n",
    "agent_response = agent.chat(\"Is the invoice no.01141833 covered by any of the AORs?\")"
   ]
  },
  {
   "cell_type": "code",
   "execution_count": 6,
   "metadata": {},
   "outputs": [],
   "source": [
    "# Chainlit front-end interface with logo change now\n"
   ]
  },
  {
   "cell_type": "code",
   "execution_count": null,
   "metadata": {},
   "outputs": [],
   "source": []
  }
 ],
 "metadata": {
  "kernelspec": {
   "display_name": "Python 3",
   "language": "python",
   "name": "python3"
  },
  "language_info": {
   "codemirror_mode": {
    "name": "ipython",
    "version": 3
   },
   "file_extension": ".py",
   "mimetype": "text/x-python",
   "name": "python",
   "nbconvert_exporter": "python",
   "pygments_lexer": "ipython3",
   "version": "3.11.5"
  }
 },
 "nbformat": 4,
 "nbformat_minor": 2
}

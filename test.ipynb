{
 "cells": [
  {
   "cell_type": "markdown",
   "metadata": {},
   "source": [
    "#### Pre-Processing"
   ]
  },
  {
   "cell_type": "code",
   "execution_count": 2,
   "metadata": {},
   "outputs": [],
   "source": [
    "# Parse a PDF as well as a email invoice\n",
    "from src.utils import preprocess_aor, preprocess_invoice\n",
    "\n",
    "# preprocess_aor(aor_dir=\"database/aor\")\n",
    "\n",
    "# preprocess_invoice(invoice_dir=\"database/invoice\")"
   ]
  },
  {
   "cell_type": "markdown",
   "metadata": {},
   "source": [
    "#### Search & Query"
   ]
  },
  {
   "cell_type": "code",
   "execution_count": null,
   "metadata": {},
   "outputs": [],
   "source": [
    "# Chat with the preprocessed AOR for real-time chat based on RAG \n",
    "from src.aor import load_aors\n",
    "from src.search import search_aor_with_item, search_aor_with_no\n",
    "\n",
    "\n",
    "aor_list = load_aors()\n",
    "\n",
    "# Quick routing: Item-based & Number-baseds\n",
    "no_query = \"DH928\"\n",
    "matching_aors = search_aor_with_no(no_query, aor_list)\n",
    "\n",
    "\n",
    "print(\"Item-based AOR searching:\")\n",
    "for aor in matching_aors[:1]:\n",
    "    print(f\"AOR No: {aor.no}\")\n",
    "    print(f\"Description: {aor.description}\")\n",
    "    print(f\"Items: {aor.items}\")\n",
    "    print(f\"Budgets: {aor.budgets}\")\n",
    "    print(f\"Expiry Date: {aor.expiry_date}\")\n",
    "    print(\"---\")"
   ]
  },
  {
   "cell_type": "markdown",
   "metadata": {},
   "source": [
    "#### RAG-based chat "
   ]
  },
  {
   "cell_type": "code",
   "execution_count": null,
   "metadata": {},
   "outputs": [],
   "source": [
    "from src.agent import RagAgent \n",
    "\n",
    "# Example usage\n",
    "agent = RagAgent()\n",
    "user_message = \"Tell me about AOR DH928\"\n",
    "agent_response = agent.chat(user_message)\n",
    "\n",
    "user_message = \"What is the invoice no.01141833 about?\"\n",
    "agent_response = agent.chat(user_message)\n",
    "\n",
    "user_message = \"Is this invoice covered by the AOR?\"\n",
    "agent_response = agent.chat(user_message)"
   ]
  },
  {
   "cell_type": "code",
   "execution_count": 2,
   "metadata": {},
   "outputs": [
    {
     "name": "stdout",
     "output_type": "stream",
     "text": [
      "Calling Function:  search_aor_with_item  | Query:  CAMP 1 OPS COST REQUIREMENTS\n",
      "Retrived Information: Found AORCAMP 1 OPS COST REQUIREMENTS related to the item CAMP 1 OPS COST REQUIREMENTS\n",
      "Calling Function:  direct_answer  | Query:  The AOR (Approval of Requirement) with AOR no. CAMP 1 OPS COST REQUIREMENTS includes budgets for various operational cost requirements such as Telco Subscription (424361.0), Bank charges (Cheque Book and annual bank statement) (1103.0), Newspaper and magazine Subscription (947.0), HSP (981.0), Antigen Test Kit and PCR Test (611.0), Annual Airport pass (1184.0), Purchase of Stationaries, office equipment and birthday cards (194.0), Ad-hoc Service and Maintenance (1343.0), Printing of Name Card (699.0), and Dip Bag via MFA (1158.0). The description mentions the approval of these requirements for operations cost, but the expiry date is not specified.\n",
      "Direct Answer\n",
      "Final Answer: The AOR titled \"CAMP 1 OPS COST REQUIREMENTS\" outlines the budget allocation for various operation-related expenses. Here are the details:\n",
      "\n",
      "- Telco Subscription: 424,361.0\n",
      "- Bank Charges (Cheque Book and Annual Bank Statement): 1,103.0\n",
      "- Newspaper and Magazine Subscription: 947.0\n",
      "- HSP: 981.0\n",
      "- Antigen Test Kit and PCR Test: 611.0\n",
      "- Annual Airport Pass: 1,184.0\n",
      "- Purchase of Stationaries, Office Equipment, and Birthday Cards: 194.0\n",
      "- Ad-hoc Service and Maintenance: 1,343.0\n",
      "- Printing of Name Card: 699.0\n",
      "- Dip Bag via MFA: 1,158.0\n",
      "\n",
      "The approval covers these operational cost requirements at their estimated costs. The expiry date for this AOR is not specified.\n",
      "Calling Function:  search_invoice_with_no  | Query:  1234567\n",
      "Retrived Information: Found Invoice1234567 related to the query number 1234567\n",
      "Calling Function:  query_invoice_detail  | Query:  What is the invoice no.1234567 about?\n",
      "Final Answer: The invoice no. 1234567 from Temus, dated 15 August 2024, includes various service fees and purchases such as telecom services, bank statements, membership fees, and equipment purchases, amounting to a total of 484,490.72 THB including VAT, with a due date of 15 September 2024.\n",
      "Calling Function:  search_invoice_with_no  | Query:  <invoice number>\n",
      "Retrived Information: No Invoice found related to the query number <invoice number>\n",
      "Calling Function:  direct_answer  | Query:  The invoice includes various service fees and purchases such as telecom services, bank statements, and equipment purchases which seem to align with some items listed in the AOR 'CAMP 1 OPS COST REQUIREMENTS'. Therefore, it is likely that the invoice is covered by the AOR.\n",
      "Direct Answer\n",
      "Final Answer: The invoice no. 1234567 does align with the AOR titled \"CAMP 1 OPS COST REQUIREMENTS\", as both documents list similar operational expenses such as telecom services, bank charges, and other office-related costs. Therefore, it appears that this invoice is covered by the AOR.\n"
     ]
    }
   ],
   "source": [
    "from src.agent import RagAgent \n",
    "\n",
    "agent = RagAgent()\n",
    "user_message = \"Tell me about AOR CAMP 1 OPS COST REQUIREMENTS\"\n",
    "agent_response = agent.chat(user_message)\n",
    "\n",
    "user_message = \"What is the invoice no.1234567 about?\"\n",
    "agent_response = agent.chat(user_message)\n",
    "\n",
    "user_message = \"Is this invoice covered by the AOR?\"\n",
    "agent_response = agent.chat(user_message)"
   ]
  },
  {
   "cell_type": "code",
   "execution_count": 15,
   "metadata": {},
   "outputs": [],
   "source": [
    "from src.utils import *\n",
    "import glob \n",
    "\n",
    "eml_files = glob.glob(\"database/aor/*.eml\")\n",
    "eml_file_path = eml_files[0]\n",
    "email_data = read_eml(eml_file_path)\n",
    "\n",
    "email_txt = email_data.get('body')\n",
    "prompt = PARSE_AOR_PROMPT.format(pdf_txt=email_txt)\n",
    "response = get_oai_response(prompt)\n",
    "parsed_aor_dict = parse_json_response(response)\n",
    "aor = AOR(**parsed_aor_dict)\n",
    "\n",
    "\n",
    "# print(email_data)"
   ]
  },
  {
   "cell_type": "code",
   "execution_count": 24,
   "metadata": {},
   "outputs": [],
   "source": []
  },
  {
   "cell_type": "code",
   "execution_count": 13,
   "metadata": {},
   "outputs": [
    {
     "data": {
      "text/plain": [
       "\"Message Classification: Restricted\\r\\n\\r\\nApproved. Tks.\\r\\n\\r\\nBest,\\r\\nHDM\\r\\n\\r\\nFrom: Seow Yuxin <yuxin.seow@temus.com>\\r\\nDate: Thursday, 15 August 2024 at 5:01\\u202fPM\\r\\nTo: Yu Fangyuan <Fangyuan.Yu@temus.com>\\r\\nSubject: [SAMPLE AOR] [For HDM's approval] APPROVAL OF REQUIREMENT FOR CAMP 1 OPS COST REQUIREMENTS [Restricted]\\r\\nMessage Classification: Restricted\\r\\n\\r\\nHDM sir,\\r\\n\\r\\nAPPROVAL OF REQUIREMENT FOR  OPS COST REQUIREMENTS FOR CAMP 1\\r\\n\\r\\nAIM:\\r\\n1. To seek HDM’s approval for Ops Cost requirements at an estimated cost of S$16,290 (26.56THB to 1 SGD)  – MAS Ex Rate for 2024.\\r\\n\\r\\nCOST BREAKDOWN AND JUSTIFICATION\\r\\n2. Approval is sought for the following requirements:\\r\\n\\r\\nItems\\r\\nForecast for 2022\\r\\n2022 Actual Expenditure (THB)\\r\\nForecast for FY23/24 (THB)\\r\\nRemarks\\r\\nTelco Subscription\\r\\n               339,488.00\\r\\n                                               282,907.00\\r\\n                                       424,361.00\\r\\nProjected amount derived from total monthly subscription (12 mths) + projected roaming package for official duty\\r\\nBank charges (Cheque Book and annual bank statement)\\r\\n                         882.00\\r\\n                                                          735.00\\r\\n                                             1,103.00\\r\\nDecrease in projected amount Estimated 3 – 4 cheque books required\\r\\nAllowance model and continued usage of Corporate Credit card for payment.\\r\\nNewspaper and magazine Subscription\\r\\n                         757.00\\r\\n                                                          631.00\\r\\n                                                 947.00\\r\\nReduced the subscription  from 3 copies to 2 copies in subsequently reduced to 1 copy\\r\\nHSP\\r\\n                         785.00\\r\\n                                                          654.00\\r\\n                                                 981.00\\r\\nAntigen Test Kit and PCR Test\\r\\n                         488.00\\r\\n                                                          407.00\\r\\n                                                 611.00\\r\\n\\r\\nAnnual Airport pass\\r\\n                         947.00\\r\\n                                                          789.00\\r\\n                                             1,184.00\\r\\nNo Change in Projection\\r\\nPurchase of Stationaries, office equipment and birthday cards\\r\\n                         155.00\\r\\n                                                          129.00\\r\\n                                                 194.00\\r\\nNo Change in Projection\\r\\nAd-hoc Service and Maintenance\\r\\n                     1,074.00\\r\\n                                                          895.00\\r\\n                                             1,343.00\\r\\nNo Change in Projection\\r\\nPrinting of Name Card\\r\\n                         559.00\\r\\n                                                          466.00\\r\\n                                                 699.00\\r\\nNo Change in Projection\\r\\nDip Bag via MFA\\r\\n                         926.00\\r\\n                                                          772.00\\r\\n                                             1,158.00\\r\\nTOTAL\\r\\n               346,061.00\\r\\n                                               288,385.00\\r\\n                                       432,581.00\\r\\n\\r\\n\\r\\n3. Supported by Director Yong Shan. Request is lower after review of past year’s expenditure and adjusted requirements.\\r\\n\\r\\n4. Submitted for HDM’s approval, please.\\r\\n\\r\\nENDORSEMENT BY AO(F) / URO\\r\\n\\r\\n  1.  Fund Sources and Amount: Cost Centre/IO: CAMP 1, S$17,000  (rounded up to nearest S$’000)\\r\\n  2.  I have checked that there are sufficient funds to support this requirement.\\r\\n  3.  Details of AO(F)/URO:\\r\\n(1) Rank & Name: Procurement Officer, Adam Khoo\\r\\n(2) Appointment: Sergeant\\r\\n(3) Date: <<as reflected in email>>\\r\\n\""
      ]
     },
     "execution_count": 13,
     "metadata": {},
     "output_type": "execute_result"
    }
   ],
   "source": [
    "# type(email_data)\n",
    "email_data['body']"
   ]
  },
  {
   "cell_type": "code",
   "execution_count": null,
   "metadata": {},
   "outputs": [],
   "source": [
    "from PIL import Image\n",
    "import glob\n",
    "# glob.glob(\"assets/*\")[1]\n",
    "icon_path = \"assets/flow-agent.png\"\n",
    "icon = Image.open(icon_path)"
   ]
  },
  {
   "cell_type": "markdown",
   "metadata": {},
   "source": [
    "#### Invoice Processor"
   ]
  },
  {
   "cell_type": "code",
   "execution_count": null,
   "metadata": {},
   "outputs": [],
   "source": [
    "# this is the last query to solve, before the front-end deployment \n",
    "# query = \"Is the invoice no.01141833 covered by any of the AORs?\"\n",
    "# query = \"What is the invoice no.01141883 about?\"\n",
    "\n",
    "# use_message = \"Is the invoice no.01141833 covered by any of the AORs?\"\n",
    "agent_response = agent.chat(\"Is the invoice no.01141833 covered by any of the AORs?\")"
   ]
  },
  {
   "cell_type": "code",
   "execution_count": null,
   "metadata": {},
   "outputs": [],
   "source": [
    "# Chainlit front-end interface with logo change now\n"
   ]
  },
  {
   "cell_type": "code",
   "execution_count": null,
   "metadata": {},
   "outputs": [],
   "source": []
  }
 ],
 "metadata": {
  "kernelspec": {
   "display_name": "Python 3",
   "language": "python",
   "name": "python3"
  },
  "language_info": {
   "codemirror_mode": {
    "name": "ipython",
    "version": 3
   },
   "file_extension": ".py",
   "mimetype": "text/x-python",
   "name": "python",
   "nbconvert_exporter": "python",
   "pygments_lexer": "ipython3",
   "version": "3.11.5"
  }
 },
 "nbformat": 4,
 "nbformat_minor": 2
}

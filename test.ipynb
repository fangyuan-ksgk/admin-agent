{
 "cells": [
  {
   "cell_type": "markdown",
   "metadata": {},
   "source": [
    "#### Pre-Processing"
   ]
  },
  {
   "cell_type": "code",
   "execution_count": 1,
   "metadata": {},
   "outputs": [],
   "source": [
    "# Parse a PDF as well as a email invoice\n",
    "from src.utils import preprocess_aor, preprocess_invoice\n",
    "\n",
    "# preprocess_aor(aor_dir=\"database/aor\")\n",
    "\n",
    "# preprocess_invoice(invoice_dir=\"database/invoice\")"
   ]
  },
  {
   "cell_type": "markdown",
   "metadata": {},
   "source": [
    "#### Search & Query"
   ]
  },
  {
   "cell_type": "code",
   "execution_count": null,
   "metadata": {},
   "outputs": [],
   "source": [
    "# Chat with the preprocessed AOR for real-time chat based on RAG \n",
    "from src.aor import load_aors\n",
    "from src.search import search_aor_with_item, search_aor_with_no\n",
    "\n",
    "\n",
    "aor_list = load_aors()\n",
    "\n",
    "# Quick routing: Item-based & Number-baseds\n",
    "no_query = \"DH928\"\n",
    "matching_aors = search_aor_with_no(no_query, aor_list)\n",
    "\n",
    "\n",
    "print(\"Item-based AOR searching:\")\n",
    "for aor in matching_aors[:1]:\n",
    "    print(f\"AOR No: {aor.no}\")\n",
    "    print(f\"Description: {aor.description}\")\n",
    "    print(f\"Items: {aor.items}\")\n",
    "    print(f\"Budgets: {aor.budgets}\")\n",
    "    print(f\"Expiry Date: {aor.expiry_date}\")\n",
    "    print(\"---\")"
   ]
  },
  {
   "cell_type": "markdown",
   "metadata": {},
   "source": [
    "#### RAG-based chat "
   ]
  },
  {
   "cell_type": "code",
   "execution_count": 1,
   "metadata": {},
   "outputs": [
    {
     "name": "stderr",
     "output_type": "stream",
     "text": [
      "/opt/homebrew/anaconda3/lib/python3.11/site-packages/sentence_transformers/cross_encoder/CrossEncoder.py:11: TqdmExperimentalWarning: Using `tqdm.autonotebook.tqdm` in notebook mode. Use `tqdm.tqdm` instead to force console mode (e.g. in jupyter console)\n",
      "  from tqdm.autonotebook import tqdm, trange\n"
     ]
    },
    {
     "name": "stdout",
     "output_type": "stream",
     "text": [
      "------- Initializing Agent --------\n",
      "**** Route to First Query ****\n",
      "Calling Function:  search_aor_with_no  | Query:  DH928\n",
      "-------- **** ------- After search aor with no, AOR list:  [AOR(items=['Hardware for 2 FFSes', 'Software and Licenses for 2 FFSes', 'IT man-effort and Professional Services'], budgets=[100000.0, 15000.0, 90000.0], no='DH928/6/4', description='Approval of requirement specifications for the implementation of MMMM-Lite on two Frigates as a trial for potential scale-up.', expiry_date='2024-11-16', pdf_text='OFFICIAL (CLOSED)  \\n1  OFFICIAL (CLOSED)         Pasir Panjang DH928/6-4  Singapore 117439      16 Aug 2024    Tel: 6888 8888    DD XXX Signed   APPROV AL OF REQUIREMENT SPECIFICATIONS FOR THE IMPLEMENTATION OF MMMM    References:  1. DC888-11/22 dated 4 Jan 2024, “XXX-XXXX-XXX”. Approved by HD XX, YYY on 16 Mar 2023.     BACKGROUND    1. Quartermasters (QMs) handle a wide spectrum of important tasks from tracking attendance and whereabouts of personnel, contractors, and visitors to flying flags and making announcements to ensuring safety onboard ship, amongst others. Tracking of attendance for a crew of between 70 to 90 is a tedious task, and QMs are also responsible for keeping track of contractors and visitors as they come onboard for works throughout the day. If tracking of attendance for ship crew and visitors can be completely automated, this will free up cognitive workload for the QMs to focus on other tasks that cannot yet be automated (eg. flying of flags). A secure mobile digital platform known as the Mighty Mobile Master Manager (MMMM) has previously been implemented.    AIM    2. This paper seeks HD DO’s approval for the requirement specifications for the trial of the MMMM-Lite for two Frigates (FFSes).             OFFICIAL (CLOSED)  \\n2  OFFICIAL (CLOSED)  SCOPE OF WORK AND CONTRACT V ALUE    3. Scope. The scope will include the hardware, software and support required for the Proof of Concept (PoC) trial of the MMMM-Lite on two FFSes.     4. Contract Value.  The estimated contract value of this trial will not exceed $124,000 (see the breakdown in Table 1).    Table 1: Cost Breakdown  S/N  Description  Estimated Cost  1  Hardware for 2 FFSes  $100,000  2  Software and Licenses for 2 FFSes  $15,000  3  IT man-effort and Professional Services  $90,000   Total  $205,000    5. Contract Duration. Contractor has up to 3 months to complete development, supply, installation, after which trial duration is for 30 days. After the trial, the findings will be evaluated through a report within 1 month before relevant RSN stakeholders decide if there is value to expand this to other ships.     6. Option for Scale-Up. The Supplier shall provide an option for proliferation should the PoC be successful in the form of supply and commission of additional ship-sets of MMMM-Lite. The scale up was shaped on a per ship basis with assumption of similar scale. The option shall be valid for 1 year after submission and acceptance of trial report. Each ship’s installation shall be completed within 3 months of PO.  Maintenance on a per-ship basis shall also be quoted (starting after warranty expiry).    EV ALUATION METHODOLOGY    7. Evaluation will be based on the Contractor’s ability to comply with the technical requirements stated in the requirement specifications and price reasonableness in comparison with existing market rates and past purchase prices. Quality (including innovation components) is not considered as the evaluation criteria as the nature of these buys is such that the quality is not differentiable and price is the primary consideration.      OFFICIAL (CLOSED)  \\n3  OFFICIAL (CLOSED)      RECOMMENDATION     8. It is recommended that HD DO approves the requirement specifications and evaluation methodology for the PoC trial of the MMMM-Lite on two FFSes.         ME4 Ng Teng Ooi  Senior Combat System Engineer, RSS Steadfast    Consulted : ME6, ME5, ME4    Annexes:   A.  Requirement Specifications  OFFICIAL (CLOSED)  \\nA-1 OFFICIAL (CLOSED)      ANNEX A    REQUIREMENT SPECIFICATIONS FOR THE IMPLEMENTATION OF CREW MOBILE DIGITAL SERVICES LITE (MMMM-LITE) FOR FIRST FLOTILLA    GENERAL REQUIREMENT    1. Functional Requirements. The Supplier shall meet the following functional requirements for the implementation of MMMM-Lite for two FFSes.     a. Proof-of-Concept (PoC) of Logic-Based Gantry System. The PoC shall demonstrate the capability to determine the presence and the direction of movement of personnel through rule-based programming from RFID tag returns from several readers within FFS hangar. The system shall be able to accurately determine which direction the personnel is travelling towards through the computation of detection by respective readers placed at different exit points of the hangar.     b. PoC of Automated Safety Monitoring. The PoC shall demonstrate that when personnel enter the pre-determined out-of-bound compartment, the system notifies the Quartermaster (QM) via the Man-MachineInterface (MMI) that personnel have entered the compartment1.    c. Automated Attendance Tracking within Ship. The system shall be able to keep track of all ship crew entering or leaving ship and provide a MMI for ship’s QM to monitor the real-time attendance onboard ship at any given time.    d. Digitised Attendance and Visitor Records. The system shall enable QMs to extract the attendance and visitor movement on and off ship over a 24-hour window. The system shall also provide data storage to keep up to 3 months of attendance and visitor records.    e. Other Operation Management Aids. User defined checklists, Duty Roster (including QM, HOTO, Occurrence, Rounds Logs, as well as QM details) and secure content repository shall be available and accessible.     1 Connectivity to this specific compartment if not within immediate vicinity, can be facilitated through powerline modems with RSN identifying a compartment on the same powerline circuit as the hangar  OFFICIAL (CLOSED)  \\nA-2 OFFICIAL (CLOSED)  TECHNICAL REQUIREMENTS FOR TRIAL OF MMMM-LITE      2. Technical Requirements. The Supplier shall meet the following technical requirements:    a. Hardware. The supplier shall supply all hardware required to meet the above functional requirements which includes but is not limited to (1) RFID sensors (and mounting brackets) and tags, (2) cables, (3) servers (in the form of desktop or laptops) for storage of attendance and visitor logs, (4) MMI for QMs to monitor and access data and (5) power-line modems.    b. Software. The Supplier shall supply the software required to run the program algorithm and also a User Interface (UI) for QM to access (1) realtime manpower movement, (2) Attendance and visitor records for up to 3 months and (3) notifications when personnel enters out-of-bound compartment.    3. Scope of PoC.     a. Demonstrate the ability to determine the presence of a personnel onboard ship through rule-based programming. The system shall be able to accurately determine which direction the personnel is travelling towards through the computation of detection by respective sensors placed at different exit points of the hangar.    b. The PoC shall be conducted onboard two Frigates (FFSes). All hardware/infrastructure/software preparation/services costs shall be borne by the potential supplier.     c. Duration. Active trial period of 30 days after which results to be tabulated and verified.    d. The supplier shall verify the accuracy of the presence tracking of personnel with the logic-based gantry system.    4. Security Requirements. The Supplier shall meet the following security requirements:    OFFICIAL (CLOSED)  \\nA-3 OFFICIAL (CLOSED)  a. Connectivity. Standalone and “Air-gap” from Internet.    b. Security Clearance. Only personnel cleared by the Authority shall be permitted to come into contact with data.    c. Cyber Security. To abide by same cyber security posture as MMMM    DETAILS OF POST-TRIAL REPORT    5.  Measures of Effectiveness for Trial Report. The measures of effectiveness are as follows:    a. PoC of Logic-Based Gantry System. The system shall be able to determine the accuracy of presence whether personnel:  (1) Is within ship  (2) have exited the hangar and left the ship or conducting works on the helideck.    b. PoC of Automated Safety Monitoring. The system shall measure accuracy on whether personnel have entered identified hazard area prior to safety measures being taken (i.e. RADHAZ/weapon training enforced and pipe made). Secondly, system shall flag out any personnel who has entered this compartment within 30 secs to the QM via the MMI.    c. Automated Attendance Tracking within Ship. The accuracy of the system in providing attendance at any point of time and the movement of personnel will have to be derived.]    d. Digitised Attendance and Visitor Records. Attendance records shall be saved upon trigger by QM as well as and crew and visitor tracking every minute so that it is possible to track back on personnel who has been onboard ship through the day. This data shall also be available to the Authority at any time.     FAMILIARISATION     OFFICIAL (CLOSED)  \\nA-4 OFFICIAL (CLOSED)  6. Prior to the commencement of the trial, the Supplier shall provide a familiarisation session on the operation and usage of the hardware and software for up to 20 participants at the Authority’s premises.     PUBLICATIONS    7.  The Supplier shall provide the following documents as part of the tender submission:     a. User Manual    b. Handling Instructions    QUALITY, INSPECTION, AND ACCEPTANCE    8. Deliverables. The Supplier shall (1) deliver two fully operational MMMMLite systems with the above functional requirements within 3 months to commence active trial of 30 days, and (2) a comprehensive trial report on the PoC (1 month after active trial period) quantifying the system’s accuracy and efficiency (based on the time taken to determine the location of a transiting personnel).    WARRANTY    9. The Supplier shall provide a guarantee against any manufacturing defects for the trial period. The Supplier shall repair or replace any above-mentioned defects at no additional cost to the Authority during which the trial will be considered paused. Hardware warranty shall be for 1 year.    OPTION FOR SCALE-UP    10. Option for Scale-Up. The Supplier shall provide an option for proliferation should the PoC be successful in the form of supply and commission of additional ship-sets of MMMM-Lite. The scale up shall be quoted on a per ship basis with assumption of similar scale. The option shall be valid for 1 year after submission and acceptance of trial report. Each ship’s installation shall be completed within 3 months of PO. Maintenance on a per-ship basis shall also be quoted.    CLARIFICATIONS    OFFICIAL (CLOSED)  \\nA-5 OFFICIAL (CLOSED)  11. For clarifications regarding the Requirement Specifications, please contact the following personnel:    S/N  Rank/Name  Contact Details  1  ME4 YYY YYY YYY 98888888 2  ME5 XXX XX  98888889      ME4 YYY YYY YYY Senior Combat System Engineer With Inputs from : ME6, ME5, ME4    ', pdf_path='database/aor/AOR-sample1.pdf', cached_dict={})]\n",
      "Retrived Information: Found AORDH928/6/4 related to the query number DH928\n",
      "**** Route to Invoice Search No Invoice ****\n",
      "Calling Function:  query_detail  | Query:  AOR no. DH928/6/4\n",
      "Final Answer: AOR DH928 involves the approval of requirement specifications for a trial implementation of MMMM-Lite on two Frigates (FFSes). It aims to automate attendance tracking to reduce the workload of Quartermasters. The project’s scope includes hardware, software, and support for a Proof of Concept (PoC) trial estimated at $124,000. The trial spans development, installation, a 30-day trial, and a subsequent evaluation. Emphasis is on price over quality in contractor evaluation, with an option for scaling up if successful. Key features include automated safety monitoring and digitized attendance records.\n",
      "**** Route to First Query ****\n",
      "Calling Function:  search_aor_with_item  | Query:  MMMM\n",
      "Retrived Information: No AOR found related to the item MMMM\n",
      "**** Route to Invoice Search No Invoice ****\n",
      "Calling Function:  query_detail  | Query:  What is MMMM mentioned in AOR DH928?\n",
      "Final Answer: MMMM, or Mighty Mobile Master Manager, is a secure mobile digital platform designed to automate the tracking of ship crew attendance and visitors, thereby reducing the cognitive workload of Quartermasters.\n"
     ]
    }
   ],
   "source": [
    "from src.agent import RagAgent \n",
    "\n",
    "# Example usage\n",
    "agent = RagAgent()\n",
    "user_message = \"Tell me about AOR DH928\"\n",
    "agent_response = agent.chat(user_message)\n",
    "\n",
    "user_message = \"What is MMMM mentioned in the AOR?\"\n",
    "agent_response = agent.chat(user_message)\n",
    "\n",
    "# user_message = \"What is the invoice no.01141833 about?\"\n",
    "# agent_response = agent.chat(user_message)\n",
    "\n",
    "# user_message = \"Is this invoice covered by the AOR?\"\n",
    "# agent_response = agent.chat(user_message)"
   ]
  },
  {
   "cell_type": "code",
   "execution_count": null,
   "metadata": {},
   "outputs": [],
   "source": []
  },
  {
   "cell_type": "code",
   "execution_count": null,
   "metadata": {},
   "outputs": [],
   "source": []
  },
  {
   "cell_type": "code",
   "execution_count": 4,
   "metadata": {},
   "outputs": [
    {
     "name": "stdout",
     "output_type": "stream",
     "text": [
      "Calling Function:  search_aor_with_item  | Query:  CAMP 1 OPS COST REQUIREMENTS\n",
      "Line 90: Item matching aors:  [AOR(items=['Telco Subscription', 'Bank charges (Cheque Book and annual bank statement)', 'Newspaper and magazine Subscription', 'HSP', 'Antigen Test Kit and PCR Test', 'Annual Airport pass', 'Purchase of Stationaries, office equipment and birthday cards', 'Ad-hoc Service and Maintenance', 'Printing of Name Card', 'Dip Bag via MFA'], budgets=[424361.0, 1103.0, 947.0, 981.0, 611.0, 1184.0, 194.0, 1343.0, 699.0, 1158.0], no='CAMP 1 OPS COST REQUIREMENTS', description='Approval of requirement for Operations Cost requirements at an estimated cost.', expiry_date='Not specified', pdf_text=\"Message Classification: Restricted\\r\\n\\r\\nApproved. Tks.\\r\\n\\r\\nBest,\\r\\nHDM\\r\\n\\r\\nFrom: Seow Yuxin <yuxin.seow@temus.com>\\r\\nDate: Thursday, 15 August 2024 at 5:01\\u202fPM\\r\\nTo: Yu Fangyuan <Fangyuan.Yu@temus.com>\\r\\nSubject: [SAMPLE AOR] [For HDM's approval] APPROVAL OF REQUIREMENT FOR CAMP 1 OPS COST REQUIREMENTS [Restricted]\\r\\nMessage Classification: Restricted\\r\\n\\r\\nHDM sir,\\r\\n\\r\\nAPPROVAL OF REQUIREMENT FOR  OPS COST REQUIREMENTS FOR CAMP 1\\r\\n\\r\\nAIM:\\r\\n1. To seek HDM’s approval for Ops Cost requirements at an estimated cost of S$16,290 (26.56THB to 1 SGD)  – MAS Ex Rate for 2024.\\r\\n\\r\\nCOST BREAKDOWN AND JUSTIFICATION\\r\\n2. Approval is sought for the following requirements:\\r\\n\\r\\nItems\\r\\nForecast for 2022\\r\\n2022 Actual Expenditure (THB)\\r\\nForecast for FY23/24 (THB)\\r\\nRemarks\\r\\nTelco Subscription\\r\\n               339,488.00\\r\\n                                               282,907.00\\r\\n                                       424,361.00\\r\\nProjected amount derived from total monthly subscription (12 mths) + projected roaming package for official duty\\r\\nBank charges (Cheque Book and annual bank statement)\\r\\n                         882.00\\r\\n                                                          735.00\\r\\n                                             1,103.00\\r\\nDecrease in projected amount Estimated 3 – 4 cheque books required\\r\\nAllowance model and continued usage of Corporate Credit card for payment.\\r\\nNewspaper and magazine Subscription\\r\\n                         757.00\\r\\n                                                          631.00\\r\\n                                                 947.00\\r\\nReduced the subscription  from 3 copies to 2 copies in subsequently reduced to 1 copy\\r\\nHSP\\r\\n                         785.00\\r\\n                                                          654.00\\r\\n                                                 981.00\\r\\nAntigen Test Kit and PCR Test\\r\\n                         488.00\\r\\n                                                          407.00\\r\\n                                                 611.00\\r\\n\\r\\nAnnual Airport pass\\r\\n                         947.00\\r\\n                                                          789.00\\r\\n                                             1,184.00\\r\\nNo Change in Projection\\r\\nPurchase of Stationaries, office equipment and birthday cards\\r\\n                         155.00\\r\\n                                                          129.00\\r\\n                                                 194.00\\r\\nNo Change in Projection\\r\\nAd-hoc Service and Maintenance\\r\\n                     1,074.00\\r\\n                                                          895.00\\r\\n                                             1,343.00\\r\\nNo Change in Projection\\r\\nPrinting of Name Card\\r\\n                         559.00\\r\\n                                                          466.00\\r\\n                                                 699.00\\r\\nNo Change in Projection\\r\\nDip Bag via MFA\\r\\n                         926.00\\r\\n                                                          772.00\\r\\n                                             1,158.00\\r\\nTOTAL\\r\\n               346,061.00\\r\\n                                               288,385.00\\r\\n                                       432,581.00\\r\\n\\r\\n\\r\\n3. Supported by Director Yong Shan. Request is lower after review of past year’s expenditure and adjusted requirements.\\r\\n\\r\\n4. Submitted for HDM’s approval, please.\\r\\n\\r\\nENDORSEMENT BY AO(F) / URO\\r\\n\\r\\n  1.  Fund Sources and Amount: Cost Centre/IO: CAMP 1, S$17,000  (rounded up to nearest S$’000)\\r\\n  2.  I have checked that there are sufficient funds to support this requirement.\\r\\n  3.  Details of AO(F)/URO:\\r\\n(1) Rank & Name: Procurement Officer, Adam Khoo\\r\\n(2) Appointment: Sergeant\\r\\n(3) Date: <<as reflected in email>>\\r\\n\", pdf_path='database/aor/AOR-sample2.eml', cached_dict={})]\n",
      "-------- **** ------- After search AOR with Item, AOR list:  [AOR(items=['Telco Subscription', 'Bank charges (Cheque Book and annual bank statement)', 'Newspaper and magazine Subscription', 'HSP', 'Antigen Test Kit and PCR Test', 'Annual Airport pass', 'Purchase of Stationaries, office equipment and birthday cards', 'Ad-hoc Service and Maintenance', 'Printing of Name Card', 'Dip Bag via MFA'], budgets=[424361.0, 1103.0, 947.0, 981.0, 611.0, 1184.0, 194.0, 1343.0, 699.0, 1158.0], no='CAMP 1 OPS COST REQUIREMENTS', description='Approval of requirement for Operations Cost requirements at an estimated cost.', expiry_date='Not specified', pdf_text=\"Message Classification: Restricted\\r\\n\\r\\nApproved. Tks.\\r\\n\\r\\nBest,\\r\\nHDM\\r\\n\\r\\nFrom: Seow Yuxin <yuxin.seow@temus.com>\\r\\nDate: Thursday, 15 August 2024 at 5:01\\u202fPM\\r\\nTo: Yu Fangyuan <Fangyuan.Yu@temus.com>\\r\\nSubject: [SAMPLE AOR] [For HDM's approval] APPROVAL OF REQUIREMENT FOR CAMP 1 OPS COST REQUIREMENTS [Restricted]\\r\\nMessage Classification: Restricted\\r\\n\\r\\nHDM sir,\\r\\n\\r\\nAPPROVAL OF REQUIREMENT FOR  OPS COST REQUIREMENTS FOR CAMP 1\\r\\n\\r\\nAIM:\\r\\n1. To seek HDM’s approval for Ops Cost requirements at an estimated cost of S$16,290 (26.56THB to 1 SGD)  – MAS Ex Rate for 2024.\\r\\n\\r\\nCOST BREAKDOWN AND JUSTIFICATION\\r\\n2. Approval is sought for the following requirements:\\r\\n\\r\\nItems\\r\\nForecast for 2022\\r\\n2022 Actual Expenditure (THB)\\r\\nForecast for FY23/24 (THB)\\r\\nRemarks\\r\\nTelco Subscription\\r\\n               339,488.00\\r\\n                                               282,907.00\\r\\n                                       424,361.00\\r\\nProjected amount derived from total monthly subscription (12 mths) + projected roaming package for official duty\\r\\nBank charges (Cheque Book and annual bank statement)\\r\\n                         882.00\\r\\n                                                          735.00\\r\\n                                             1,103.00\\r\\nDecrease in projected amount Estimated 3 – 4 cheque books required\\r\\nAllowance model and continued usage of Corporate Credit card for payment.\\r\\nNewspaper and magazine Subscription\\r\\n                         757.00\\r\\n                                                          631.00\\r\\n                                                 947.00\\r\\nReduced the subscription  from 3 copies to 2 copies in subsequently reduced to 1 copy\\r\\nHSP\\r\\n                         785.00\\r\\n                                                          654.00\\r\\n                                                 981.00\\r\\nAntigen Test Kit and PCR Test\\r\\n                         488.00\\r\\n                                                          407.00\\r\\n                                                 611.00\\r\\n\\r\\nAnnual Airport pass\\r\\n                         947.00\\r\\n                                                          789.00\\r\\n                                             1,184.00\\r\\nNo Change in Projection\\r\\nPurchase of Stationaries, office equipment and birthday cards\\r\\n                         155.00\\r\\n                                                          129.00\\r\\n                                                 194.00\\r\\nNo Change in Projection\\r\\nAd-hoc Service and Maintenance\\r\\n                     1,074.00\\r\\n                                                          895.00\\r\\n                                             1,343.00\\r\\nNo Change in Projection\\r\\nPrinting of Name Card\\r\\n                         559.00\\r\\n                                                          466.00\\r\\n                                                 699.00\\r\\nNo Change in Projection\\r\\nDip Bag via MFA\\r\\n                         926.00\\r\\n                                                          772.00\\r\\n                                             1,158.00\\r\\nTOTAL\\r\\n               346,061.00\\r\\n                                               288,385.00\\r\\n                                       432,581.00\\r\\n\\r\\n\\r\\n3. Supported by Director Yong Shan. Request is lower after review of past year’s expenditure and adjusted requirements.\\r\\n\\r\\n4. Submitted for HDM’s approval, please.\\r\\n\\r\\nENDORSEMENT BY AO(F) / URO\\r\\n\\r\\n  1.  Fund Sources and Amount: Cost Centre/IO: CAMP 1, S$17,000  (rounded up to nearest S$’000)\\r\\n  2.  I have checked that there are sufficient funds to support this requirement.\\r\\n  3.  Details of AO(F)/URO:\\r\\n(1) Rank & Name: Procurement Officer, Adam Khoo\\r\\n(2) Appointment: Sergeant\\r\\n(3) Date: <<as reflected in email>>\\r\\n\", pdf_path='database/aor/AOR-sample2.eml', cached_dict={})]\n",
      "Retrived Information: Found AORCAMP 1 OPS COST REQUIREMENTS related to the item CAMP 1 OPS COST REQUIREMENTS\n",
      "Calling Function:  direct_answer  | Query:  The AOR no. CAMP 1 OPS COST REQUIREMENTS includes the following budget allocations: Telco Subscription (424361.0), Bank charges (Cheque Book and annual bank statement) (1103.0), Newspaper and magazine Subscription (947.0), HSP (981.0), Antigen Test Kit and PCR Test (611.0), Annual Airport pass (1184.0), Purchase of Stationaries, office equipment and birthday cards (194.0), Ad-hoc Service and Maintenance (1343.0), Printing of Name Card (699.0), and Dip Bag via MFA (1158.0). The description of this AOR is an approval of requirement for Operations Cost requirements at an estimated cost. The expiry date is not specified.\n",
      "Direct Answer\n",
      "Question:  \n",
      "Base on what you've found, provide your answer to the user query. Do you make up information, mention you did not find relevant information if the provided information is not relevant.\n",
      "\n",
      "Retrieved Invoice: \n",
      "\n",
      "Retrieved AOR: AOR no. CAMP 1 OPS COST REQUIREMENTS\n",
      "Budget for Telco Subscription is 424361.0\n",
      "Budget for Bank charges (Cheque Book and annual bank statement) is 1103.0\n",
      "Budget for Newspaper and magazine Subscription is 947.0\n",
      "Budget for HSP is 981.0\n",
      "Budget for Antigen Test Kit and PCR Test is 611.0\n",
      "Budget for Annual Airport pass is 1184.0\n",
      "Budget for Purchase of Stationaries, office equipment and birthday cards is 194.0\n",
      "Budget for Ad-hoc Service and Maintenance is 1343.0\n",
      "Budget for Printing of Name Card is 699.0\n",
      "Budget for Dip Bag via MFA is 1158.0\n",
      "Expiry date: Not specified\n",
      "Description: Approval of requirement for Operations Cost requirements at an estimated cost.\n",
      "\n",
      "User query: Tell me about AOR CAMP 1 OPS COST REQUIREMENTS\n",
      "\n",
      "Provide your thought and answer. For instance: \n",
      "Thought: xxx\n",
      "Answer: xxx\n",
      "\n",
      "        Thought: The user is asking for details about the AOR titled \"CAMP 1 OPS COST REQUIREMENTS.\" I have retrieved the relevant AOR information that outlines the budget allocations for various operational cost requirements.\n",
      "        Answer: The AOR \"CAMP 1 OPS COST REQUIREMENTS\" lists budget allocations for several operational expenses. The budget details are as follows:\n",
      "\n",
      "- Telco Subscription: 424,361.0\n",
      "- Bank charges (Cheque Book and annual bank statement): 1,103.0\n",
      "- Newspaper and magazine Subscription: 947.0\n",
      "- HSP: 981.0\n",
      "- Antigen Test Kit and PCR Test: 611.0\n",
      "- Annual Airport pass: 1,184.0\n",
      "- Purchase of Stationaries, office equipment and birthday cards: 194.0\n",
      "- Ad-hoc Service and Maintenance: 1,343.0\n",
      "- Printing of Name Card: 699.0\n",
      "- Dip Bag via MFA: 1,158.0\n",
      "\n",
      "The AOR does not specify an expiry date. It is an approval of requirements for operations cost at an estimated cost.\n",
      "Final Answer: The AOR \"CAMP 1 OPS COST REQUIREMENTS\" lists budget allocations for several operational expenses. The budget details are as follows:\n",
      "\n",
      "- Telco Subscription: 424,361.0\n",
      "- Bank charges (Cheque Book and annual bank statement): 1,103.0\n",
      "- Newspaper and magazine Subscription: 947.0\n",
      "- HSP: 981.0\n",
      "- Antigen Test Kit and PCR Test: 611.0\n",
      "- Annual Airport pass: 1,184.0\n",
      "- Purchase of Stationaries, office equipment and birthday cards: 194.0\n",
      "- Ad-hoc Service and Maintenance: 1,343.0\n",
      "- Printing of Name Card: 699.0\n",
      "- Dip Bag via MFA: 1,158.0\n",
      "\n",
      "The AOR does not specify an expiry date. It is an approval of requirements for operations cost at an estimated cost.\n",
      "Calling Function:  search_invoice_with_no  | Query:  1234567\n",
      "Retrived Information: Found Invoice1234567 related to the query number 1234567\n",
      "Calling Function:  query_invoice_detail  | Query:  Invoice no. 1234567\n",
      "Final Answer: The invoice no. 1234567 from Temus is for various fees and services, including telecom service, bank statement and annual report fees, membership for journals, service fees, antigen and PCR tests, an annual pass card, cooling and office equipment purchases, filing and archiving service, card printing, and express document service, totaling 484,490.72 THB including VAT.\n"
     ]
    }
   ],
   "source": [
    "from src.agent import RagAgent \n",
    "\n",
    "agent = RagAgent()\n",
    "user_message = \"Tell me about AOR CAMP 1 OPS COST REQUIREMENTS\"\n",
    "agent_response = agent.chat(user_message)\n",
    "\n",
    "user_message = \"What is the invoice no.1234567 about?\"\n",
    "agent_response = agent.chat(user_message)\n",
    "\n",
    "# user_message = \"Is this invoice covered by the AOR?\"\n",
    "# agent_response = agent.chat(user_message)"
   ]
  },
  {
   "cell_type": "code",
   "execution_count": 6,
   "metadata": {},
   "outputs": [
    {
     "data": {
      "text/plain": [
       "[AOR(items=['Telco Subscription', 'Bank charges (Cheque Book and annual bank statement)', 'Newspaper and magazine Subscription', 'HSP', 'Antigen Test Kit and PCR Test', 'Annual Airport pass', 'Purchase of Stationaries, office equipment and birthday cards', 'Ad-hoc Service and Maintenance', 'Printing of Name Card', 'Dip Bag via MFA'], budgets=[424361.0, 1103.0, 947.0, 981.0, 611.0, 1184.0, 194.0, 1343.0, 699.0, 1158.0], no='CAMP 1 OPS COST REQUIREMENTS', description='Approval of requirement for Operations Cost requirements at an estimated cost.', expiry_date='Not specified', pdf_text=\"Message Classification: Restricted\\r\\n\\r\\nApproved. Tks.\\r\\n\\r\\nBest,\\r\\nHDM\\r\\n\\r\\nFrom: Seow Yuxin <yuxin.seow@temus.com>\\r\\nDate: Thursday, 15 August 2024 at 5:01\\u202fPM\\r\\nTo: Yu Fangyuan <Fangyuan.Yu@temus.com>\\r\\nSubject: [SAMPLE AOR] [For HDM's approval] APPROVAL OF REQUIREMENT FOR CAMP 1 OPS COST REQUIREMENTS [Restricted]\\r\\nMessage Classification: Restricted\\r\\n\\r\\nHDM sir,\\r\\n\\r\\nAPPROVAL OF REQUIREMENT FOR  OPS COST REQUIREMENTS FOR CAMP 1\\r\\n\\r\\nAIM:\\r\\n1. To seek HDM’s approval for Ops Cost requirements at an estimated cost of S$16,290 (26.56THB to 1 SGD)  – MAS Ex Rate for 2024.\\r\\n\\r\\nCOST BREAKDOWN AND JUSTIFICATION\\r\\n2. Approval is sought for the following requirements:\\r\\n\\r\\nItems\\r\\nForecast for 2022\\r\\n2022 Actual Expenditure (THB)\\r\\nForecast for FY23/24 (THB)\\r\\nRemarks\\r\\nTelco Subscription\\r\\n               339,488.00\\r\\n                                               282,907.00\\r\\n                                       424,361.00\\r\\nProjected amount derived from total monthly subscription (12 mths) + projected roaming package for official duty\\r\\nBank charges (Cheque Book and annual bank statement)\\r\\n                         882.00\\r\\n                                                          735.00\\r\\n                                             1,103.00\\r\\nDecrease in projected amount Estimated 3 – 4 cheque books required\\r\\nAllowance model and continued usage of Corporate Credit card for payment.\\r\\nNewspaper and magazine Subscription\\r\\n                         757.00\\r\\n                                                          631.00\\r\\n                                                 947.00\\r\\nReduced the subscription  from 3 copies to 2 copies in subsequently reduced to 1 copy\\r\\nHSP\\r\\n                         785.00\\r\\n                                                          654.00\\r\\n                                                 981.00\\r\\nAntigen Test Kit and PCR Test\\r\\n                         488.00\\r\\n                                                          407.00\\r\\n                                                 611.00\\r\\n\\r\\nAnnual Airport pass\\r\\n                         947.00\\r\\n                                                          789.00\\r\\n                                             1,184.00\\r\\nNo Change in Projection\\r\\nPurchase of Stationaries, office equipment and birthday cards\\r\\n                         155.00\\r\\n                                                          129.00\\r\\n                                                 194.00\\r\\nNo Change in Projection\\r\\nAd-hoc Service and Maintenance\\r\\n                     1,074.00\\r\\n                                                          895.00\\r\\n                                             1,343.00\\r\\nNo Change in Projection\\r\\nPrinting of Name Card\\r\\n                         559.00\\r\\n                                                          466.00\\r\\n                                                 699.00\\r\\nNo Change in Projection\\r\\nDip Bag via MFA\\r\\n                         926.00\\r\\n                                                          772.00\\r\\n                                             1,158.00\\r\\nTOTAL\\r\\n               346,061.00\\r\\n                                               288,385.00\\r\\n                                       432,581.00\\r\\n\\r\\n\\r\\n3. Supported by Director Yong Shan. Request is lower after review of past year’s expenditure and adjusted requirements.\\r\\n\\r\\n4. Submitted for HDM’s approval, please.\\r\\n\\r\\nENDORSEMENT BY AO(F) / URO\\r\\n\\r\\n  1.  Fund Sources and Amount: Cost Centre/IO: CAMP 1, S$17,000  (rounded up to nearest S$’000)\\r\\n  2.  I have checked that there are sufficient funds to support this requirement.\\r\\n  3.  Details of AO(F)/URO:\\r\\n(1) Rank & Name: Procurement Officer, Adam Khoo\\r\\n(2) Appointment: Sergeant\\r\\n(3) Date: <<as reflected in email>>\\r\\n\", pdf_path='database/aor/AOR-sample2.eml', cached_dict={})]"
      ]
     },
     "execution_count": 6,
     "metadata": {},
     "output_type": "execute_result"
    }
   ],
   "source": [
    "agent.memory.aor_list"
   ]
  },
  {
   "cell_type": "code",
   "execution_count": 7,
   "metadata": {},
   "outputs": [
    {
     "data": {
      "text/plain": [
       "[Invoice(no='1234567', date='2024-08-15', currency='Thai Baht', seller='Temus', items=['Telecom service fee', 'Bank statement and annual report fee', 'Membership fee for journals and publications', 'Service fee', 'Antigen test kit and PCR test', 'Annual pass card', 'Purchase of cooling equipment, office equipment and ERP', 'Filing and archiving service', 'Card printing service', 'Express document service'], amounts=[424361.0, 1103.0, 947.0, 981.0, 611.0, 1184.0, 194.0, 1343.0, 699.0, 1158.0], description='', invoice_text='Invoice\\nCompany Name: Temus\\nAddress: Pasir Panjang\\nInvoice Number: 1234567\\nInvoice Date: 15 August 2024\\n\\nItems\\nTelecom service fee: 424,361.00 THB\\nBank statement and annual report fee: 1,103.00 THB\\nMembership fee for journals and publications: 947.00 THB\\nService fee: 981.00 THB\\nAntigen test kit and PCR test: 611.00 THB\\nAnnual pass card: 1,184.00 THB\\nPurchase of cooling equipment, office equipment and ERP: 194.00 THB\\nFiling and archiving service: 1,343.00 THB\\nCard printing service: 699.00 THB\\nExpress document service: 1,158.00 THB\\n\\nSubtotal: 432,581.00\\nVAT 12%: 51,909.72\\nTotal: 484,490.72\\n\\nPayment Terms: NET 30\\nPayment Method: Cheque\\nDue Date: 15 September 2024', invoice_path='database/invoice/invoice_thai.pdf')]"
      ]
     },
     "execution_count": 7,
     "metadata": {},
     "output_type": "execute_result"
    }
   ],
   "source": [
    "agent.memory.invoice_list"
   ]
  },
  {
   "cell_type": "code",
   "execution_count": 15,
   "metadata": {},
   "outputs": [],
   "source": [
    "from src.utils import *\n",
    "import glob \n",
    "\n",
    "eml_files = glob.glob(\"database/aor/*.eml\")\n",
    "eml_file_path = eml_files[0]\n",
    "email_data = read_eml(eml_file_path)\n",
    "\n",
    "email_txt = email_data.get('body')\n",
    "prompt = PARSE_AOR_PROMPT.format(pdf_txt=email_txt)\n",
    "response = get_oai_response(prompt)\n",
    "parsed_aor_dict = parse_json_response(response)\n",
    "aor = AOR(**parsed_aor_dict)\n",
    "\n",
    "\n",
    "# print(email_data)"
   ]
  },
  {
   "cell_type": "code",
   "execution_count": 24,
   "metadata": {},
   "outputs": [],
   "source": []
  },
  {
   "cell_type": "code",
   "execution_count": 13,
   "metadata": {},
   "outputs": [
    {
     "data": {
      "text/plain": [
       "\"Message Classification: Restricted\\r\\n\\r\\nApproved. Tks.\\r\\n\\r\\nBest,\\r\\nHDM\\r\\n\\r\\nFrom: Seow Yuxin <yuxin.seow@temus.com>\\r\\nDate: Thursday, 15 August 2024 at 5:01\\u202fPM\\r\\nTo: Yu Fangyuan <Fangyuan.Yu@temus.com>\\r\\nSubject: [SAMPLE AOR] [For HDM's approval] APPROVAL OF REQUIREMENT FOR CAMP 1 OPS COST REQUIREMENTS [Restricted]\\r\\nMessage Classification: Restricted\\r\\n\\r\\nHDM sir,\\r\\n\\r\\nAPPROVAL OF REQUIREMENT FOR  OPS COST REQUIREMENTS FOR CAMP 1\\r\\n\\r\\nAIM:\\r\\n1. To seek HDM’s approval for Ops Cost requirements at an estimated cost of S$16,290 (26.56THB to 1 SGD)  – MAS Ex Rate for 2024.\\r\\n\\r\\nCOST BREAKDOWN AND JUSTIFICATION\\r\\n2. Approval is sought for the following requirements:\\r\\n\\r\\nItems\\r\\nForecast for 2022\\r\\n2022 Actual Expenditure (THB)\\r\\nForecast for FY23/24 (THB)\\r\\nRemarks\\r\\nTelco Subscription\\r\\n               339,488.00\\r\\n                                               282,907.00\\r\\n                                       424,361.00\\r\\nProjected amount derived from total monthly subscription (12 mths) + projected roaming package for official duty\\r\\nBank charges (Cheque Book and annual bank statement)\\r\\n                         882.00\\r\\n                                                          735.00\\r\\n                                             1,103.00\\r\\nDecrease in projected amount Estimated 3 – 4 cheque books required\\r\\nAllowance model and continued usage of Corporate Credit card for payment.\\r\\nNewspaper and magazine Subscription\\r\\n                         757.00\\r\\n                                                          631.00\\r\\n                                                 947.00\\r\\nReduced the subscription  from 3 copies to 2 copies in subsequently reduced to 1 copy\\r\\nHSP\\r\\n                         785.00\\r\\n                                                          654.00\\r\\n                                                 981.00\\r\\nAntigen Test Kit and PCR Test\\r\\n                         488.00\\r\\n                                                          407.00\\r\\n                                                 611.00\\r\\n\\r\\nAnnual Airport pass\\r\\n                         947.00\\r\\n                                                          789.00\\r\\n                                             1,184.00\\r\\nNo Change in Projection\\r\\nPurchase of Stationaries, office equipment and birthday cards\\r\\n                         155.00\\r\\n                                                          129.00\\r\\n                                                 194.00\\r\\nNo Change in Projection\\r\\nAd-hoc Service and Maintenance\\r\\n                     1,074.00\\r\\n                                                          895.00\\r\\n                                             1,343.00\\r\\nNo Change in Projection\\r\\nPrinting of Name Card\\r\\n                         559.00\\r\\n                                                          466.00\\r\\n                                                 699.00\\r\\nNo Change in Projection\\r\\nDip Bag via MFA\\r\\n                         926.00\\r\\n                                                          772.00\\r\\n                                             1,158.00\\r\\nTOTAL\\r\\n               346,061.00\\r\\n                                               288,385.00\\r\\n                                       432,581.00\\r\\n\\r\\n\\r\\n3. Supported by Director Yong Shan. Request is lower after review of past year’s expenditure and adjusted requirements.\\r\\n\\r\\n4. Submitted for HDM’s approval, please.\\r\\n\\r\\nENDORSEMENT BY AO(F) / URO\\r\\n\\r\\n  1.  Fund Sources and Amount: Cost Centre/IO: CAMP 1, S$17,000  (rounded up to nearest S$’000)\\r\\n  2.  I have checked that there are sufficient funds to support this requirement.\\r\\n  3.  Details of AO(F)/URO:\\r\\n(1) Rank & Name: Procurement Officer, Adam Khoo\\r\\n(2) Appointment: Sergeant\\r\\n(3) Date: <<as reflected in email>>\\r\\n\""
      ]
     },
     "execution_count": 13,
     "metadata": {},
     "output_type": "execute_result"
    }
   ],
   "source": [
    "# type(email_data)\n",
    "email_data['body']"
   ]
  },
  {
   "cell_type": "code",
   "execution_count": null,
   "metadata": {},
   "outputs": [],
   "source": [
    "from PIL import Image\n",
    "import glob\n",
    "# glob.glob(\"assets/*\")[1]\n",
    "icon_path = \"assets/flow-agent.png\"\n",
    "icon = Image.open(icon_path)"
   ]
  },
  {
   "cell_type": "markdown",
   "metadata": {},
   "source": [
    "#### Invoice Processor"
   ]
  },
  {
   "cell_type": "code",
   "execution_count": null,
   "metadata": {},
   "outputs": [],
   "source": [
    "# this is the last query to solve, before the front-end deployment \n",
    "# query = \"Is the invoice no.01141833 covered by any of the AORs?\"\n",
    "# query = \"What is the invoice no.01141883 about?\"\n",
    "\n",
    "# use_message = \"Is the invoice no.01141833 covered by any of the AORs?\"\n",
    "agent_response = agent.chat(\"Is the invoice no.01141833 covered by any of the AORs?\")"
   ]
  },
  {
   "cell_type": "code",
   "execution_count": null,
   "metadata": {},
   "outputs": [],
   "source": [
    "# Chainlit front-end interface with logo change now\n"
   ]
  },
  {
   "cell_type": "code",
   "execution_count": null,
   "metadata": {},
   "outputs": [],
   "source": []
  }
 ],
 "metadata": {
  "kernelspec": {
   "display_name": "Python 3",
   "language": "python",
   "name": "python3"
  },
  "language_info": {
   "codemirror_mode": {
    "name": "ipython",
    "version": 3
   },
   "file_extension": ".py",
   "mimetype": "text/x-python",
   "name": "python",
   "nbconvert_exporter": "python",
   "pygments_lexer": "ipython3",
   "version": "3.11.5"
  }
 },
 "nbformat": 4,
 "nbformat_minor": 2
}

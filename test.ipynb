{
 "cells": [
  {
   "cell_type": "markdown",
   "metadata": {},
   "source": [
    "#### Pre-Processing"
   ]
  },
  {
   "cell_type": "code",
   "execution_count": 1,
   "metadata": {},
   "outputs": [
    {
     "name": "stdout",
     "output_type": "stream",
     "text": [
      "Preprocessing Invoices...\n"
     ]
    },
    {
     "ename": "PDFInfoNotInstalledError",
     "evalue": "Unable to get page count. Is poppler installed and in PATH?",
     "output_type": "error",
     "traceback": [
      "\u001b[0;31m---------------------------------------------------------------------------\u001b[0m",
      "\u001b[0;31mFileNotFoundError\u001b[0m                         Traceback (most recent call last)",
      "File \u001b[0;32m~/anaconda3/lib/python3.11/site-packages/pdf2image/pdf2image.py:581\u001b[0m, in \u001b[0;36mpdfinfo_from_path\u001b[0;34m(pdf_path, userpw, ownerpw, poppler_path, rawdates, timeout, first_page, last_page)\u001b[0m\n\u001b[1;32m    580\u001b[0m     env[\u001b[38;5;124m\"\u001b[39m\u001b[38;5;124mLD_LIBRARY_PATH\u001b[39m\u001b[38;5;124m\"\u001b[39m] \u001b[38;5;241m=\u001b[39m poppler_path \u001b[38;5;241m+\u001b[39m \u001b[38;5;124m\"\u001b[39m\u001b[38;5;124m:\u001b[39m\u001b[38;5;124m\"\u001b[39m \u001b[38;5;241m+\u001b[39m env\u001b[38;5;241m.\u001b[39mget(\u001b[38;5;124m\"\u001b[39m\u001b[38;5;124mLD_LIBRARY_PATH\u001b[39m\u001b[38;5;124m\"\u001b[39m, \u001b[38;5;124m\"\u001b[39m\u001b[38;5;124m\"\u001b[39m)\n\u001b[0;32m--> 581\u001b[0m proc \u001b[38;5;241m=\u001b[39m Popen(command, env\u001b[38;5;241m=\u001b[39menv, stdout\u001b[38;5;241m=\u001b[39mPIPE, stderr\u001b[38;5;241m=\u001b[39mPIPE)\n\u001b[1;32m    583\u001b[0m \u001b[38;5;28;01mtry\u001b[39;00m:\n",
      "File \u001b[0;32m~/anaconda3/lib/python3.11/subprocess.py:1026\u001b[0m, in \u001b[0;36mPopen.__init__\u001b[0;34m(self, args, bufsize, executable, stdin, stdout, stderr, preexec_fn, close_fds, shell, cwd, env, universal_newlines, startupinfo, creationflags, restore_signals, start_new_session, pass_fds, user, group, extra_groups, encoding, errors, text, umask, pipesize, process_group)\u001b[0m\n\u001b[1;32m   1023\u001b[0m             \u001b[38;5;28mself\u001b[39m\u001b[38;5;241m.\u001b[39mstderr \u001b[38;5;241m=\u001b[39m io\u001b[38;5;241m.\u001b[39mTextIOWrapper(\u001b[38;5;28mself\u001b[39m\u001b[38;5;241m.\u001b[39mstderr,\n\u001b[1;32m   1024\u001b[0m                     encoding\u001b[38;5;241m=\u001b[39mencoding, errors\u001b[38;5;241m=\u001b[39merrors)\n\u001b[0;32m-> 1026\u001b[0m     \u001b[38;5;28mself\u001b[39m\u001b[38;5;241m.\u001b[39m_execute_child(args, executable, preexec_fn, close_fds,\n\u001b[1;32m   1027\u001b[0m                         pass_fds, cwd, env,\n\u001b[1;32m   1028\u001b[0m                         startupinfo, creationflags, shell,\n\u001b[1;32m   1029\u001b[0m                         p2cread, p2cwrite,\n\u001b[1;32m   1030\u001b[0m                         c2pread, c2pwrite,\n\u001b[1;32m   1031\u001b[0m                         errread, errwrite,\n\u001b[1;32m   1032\u001b[0m                         restore_signals,\n\u001b[1;32m   1033\u001b[0m                         gid, gids, uid, umask,\n\u001b[1;32m   1034\u001b[0m                         start_new_session, process_group)\n\u001b[1;32m   1035\u001b[0m \u001b[38;5;28;01mexcept\u001b[39;00m:\n\u001b[1;32m   1036\u001b[0m     \u001b[38;5;66;03m# Cleanup if the child failed starting.\u001b[39;00m\n",
      "File \u001b[0;32m~/anaconda3/lib/python3.11/subprocess.py:1950\u001b[0m, in \u001b[0;36mPopen._execute_child\u001b[0;34m(self, args, executable, preexec_fn, close_fds, pass_fds, cwd, env, startupinfo, creationflags, shell, p2cread, p2cwrite, c2pread, c2pwrite, errread, errwrite, restore_signals, gid, gids, uid, umask, start_new_session, process_group)\u001b[0m\n\u001b[1;32m   1949\u001b[0m         err_msg \u001b[38;5;241m=\u001b[39m os\u001b[38;5;241m.\u001b[39mstrerror(errno_num)\n\u001b[0;32m-> 1950\u001b[0m     \u001b[38;5;28;01mraise\u001b[39;00m child_exception_type(errno_num, err_msg, err_filename)\n\u001b[1;32m   1951\u001b[0m \u001b[38;5;28;01mraise\u001b[39;00m child_exception_type(err_msg)\n",
      "\u001b[0;31mFileNotFoundError\u001b[0m: [Errno 2] No such file or directory: 'pdfinfo'",
      "\nDuring handling of the above exception, another exception occurred:\n",
      "\u001b[0;31mPDFInfoNotInstalledError\u001b[0m                  Traceback (most recent call last)",
      "Cell \u001b[0;32mIn[1], line 6\u001b[0m\n\u001b[1;32m      2\u001b[0m \u001b[38;5;28;01mfrom\u001b[39;00m \u001b[38;5;21;01msrc\u001b[39;00m\u001b[38;5;21;01m.\u001b[39;00m\u001b[38;5;21;01mutils\u001b[39;00m \u001b[38;5;28;01mimport\u001b[39;00m preprocess_aor, preprocess_invoice\n\u001b[1;32m      4\u001b[0m \u001b[38;5;66;03m# preprocess_aor(aor_dir=\"database/aor\")\u001b[39;00m\n\u001b[0;32m----> 6\u001b[0m preprocess_invoice(invoice_dir\u001b[38;5;241m=\u001b[39m\u001b[38;5;124m\"\u001b[39m\u001b[38;5;124mdatabase/invoice\u001b[39m\u001b[38;5;124m\"\u001b[39m)\n",
      "File \u001b[0;32m~/Implementation/payflow/src/utils.py:207\u001b[0m, in \u001b[0;36mpreprocess_invoice\u001b[0;34m(invoice_dir)\u001b[0m\n\u001b[1;32m    205\u001b[0m \u001b[38;5;28;01mfor\u001b[39;00m invoice_path \u001b[38;5;129;01min\u001b[39;00m invoice_paths:\n\u001b[1;32m    206\u001b[0m     \u001b[38;5;28;01mif\u001b[39;00m invoice_path\u001b[38;5;241m.\u001b[39mendswith(\u001b[38;5;124m\"\u001b[39m\u001b[38;5;124m.pdf\u001b[39m\u001b[38;5;124m\"\u001b[39m):\n\u001b[0;32m--> 207\u001b[0m         img \u001b[38;5;241m=\u001b[39m get_pdf_contents(invoice_path)[\u001b[38;5;241m0\u001b[39m]\n\u001b[1;32m    208\u001b[0m     \u001b[38;5;28;01melif\u001b[39;00m invoice_path\u001b[38;5;241m.\u001b[39mendswith(\u001b[38;5;124m\"\u001b[39m\u001b[38;5;124m.png\u001b[39m\u001b[38;5;124m\"\u001b[39m) \u001b[38;5;129;01mor\u001b[39;00m invoice_path\u001b[38;5;241m.\u001b[39mendswith(\u001b[38;5;124m\"\u001b[39m\u001b[38;5;124m.jpg\u001b[39m\u001b[38;5;124m\"\u001b[39m) \u001b[38;5;129;01mor\u001b[39;00m invoice_path\u001b[38;5;241m.\u001b[39mendswith(\u001b[38;5;124m\"\u001b[39m\u001b[38;5;124m.jpeg\u001b[39m\u001b[38;5;124m\"\u001b[39m):\n\u001b[1;32m    209\u001b[0m         \u001b[38;5;28;01mwith\u001b[39;00m Image\u001b[38;5;241m.\u001b[39mopen(invoice_path) \u001b[38;5;28;01mas\u001b[39;00m img_raw:\n",
      "File \u001b[0;32m~/Implementation/payflow/src/utils.py:59\u001b[0m, in \u001b[0;36mget_pdf_contents\u001b[0;34m(pdf_file, first_page, last_page)\u001b[0m\n\u001b[1;32m     57\u001b[0m \u001b[38;5;28;01mdef\u001b[39;00m \u001b[38;5;21mget_pdf_contents\u001b[39m(pdf_file, first_page\u001b[38;5;241m=\u001b[39m\u001b[38;5;241m1\u001b[39m, last_page\u001b[38;5;241m=\u001b[39m\u001b[38;5;241m1\u001b[39m):\n\u001b[1;32m     58\u001b[0m     \u001b[38;5;66;03m# Convert the first page of the PDF to an image\u001b[39;00m\n\u001b[0;32m---> 59\u001b[0m     images \u001b[38;5;241m=\u001b[39m convert_from_path(pdf_file, first_page\u001b[38;5;241m=\u001b[39mfirst_page, last_page\u001b[38;5;241m=\u001b[39mlast_page)\n\u001b[1;32m     61\u001b[0m     pdf_base64_images \u001b[38;5;241m=\u001b[39m []\n\u001b[1;32m     62\u001b[0m     \u001b[38;5;28;01mfor\u001b[39;00m pdf_image \u001b[38;5;129;01min\u001b[39;00m images:\n\u001b[1;32m     63\u001b[0m         \u001b[38;5;66;03m# Convert PIL Image to base64 string\u001b[39;00m\n",
      "File \u001b[0;32m~/anaconda3/lib/python3.11/site-packages/pdf2image/pdf2image.py:127\u001b[0m, in \u001b[0;36mconvert_from_path\u001b[0;34m(pdf_path, dpi, output_folder, first_page, last_page, fmt, jpegopt, thread_count, userpw, ownerpw, use_cropbox, strict, transparent, single_file, output_file, poppler_path, grayscale, size, paths_only, use_pdftocairo, timeout, hide_annotations)\u001b[0m\n\u001b[1;32m    124\u001b[0m \u001b[38;5;28;01mif\u001b[39;00m \u001b[38;5;28misinstance\u001b[39m(poppler_path, PurePath):\n\u001b[1;32m    125\u001b[0m     poppler_path \u001b[38;5;241m=\u001b[39m poppler_path\u001b[38;5;241m.\u001b[39mas_posix()\n\u001b[0;32m--> 127\u001b[0m page_count \u001b[38;5;241m=\u001b[39m pdfinfo_from_path(\n\u001b[1;32m    128\u001b[0m     pdf_path, userpw, ownerpw, poppler_path\u001b[38;5;241m=\u001b[39mpoppler_path\n\u001b[1;32m    129\u001b[0m )[\u001b[38;5;124m\"\u001b[39m\u001b[38;5;124mPages\u001b[39m\u001b[38;5;124m\"\u001b[39m]\n\u001b[1;32m    131\u001b[0m \u001b[38;5;66;03m# We start by getting the output format, the buffer processing function and if we need pdftocairo\u001b[39;00m\n\u001b[1;32m    132\u001b[0m parsed_fmt, final_extension, parse_buffer_func, use_pdfcairo_format \u001b[38;5;241m=\u001b[39m _parse_format(\n\u001b[1;32m    133\u001b[0m     fmt, grayscale\n\u001b[1;32m    134\u001b[0m )\n",
      "File \u001b[0;32m~/anaconda3/lib/python3.11/site-packages/pdf2image/pdf2image.py:607\u001b[0m, in \u001b[0;36mpdfinfo_from_path\u001b[0;34m(pdf_path, userpw, ownerpw, poppler_path, rawdates, timeout, first_page, last_page)\u001b[0m\n\u001b[1;32m    604\u001b[0m     \u001b[38;5;28;01mreturn\u001b[39;00m d\n\u001b[1;32m    606\u001b[0m \u001b[38;5;28;01mexcept\u001b[39;00m \u001b[38;5;167;01mOSError\u001b[39;00m:\n\u001b[0;32m--> 607\u001b[0m     \u001b[38;5;28;01mraise\u001b[39;00m PDFInfoNotInstalledError(\n\u001b[1;32m    608\u001b[0m         \u001b[38;5;124m\"\u001b[39m\u001b[38;5;124mUnable to get page count. Is poppler installed and in PATH?\u001b[39m\u001b[38;5;124m\"\u001b[39m\n\u001b[1;32m    609\u001b[0m     )\n\u001b[1;32m    610\u001b[0m \u001b[38;5;28;01mexcept\u001b[39;00m \u001b[38;5;167;01mValueError\u001b[39;00m:\n\u001b[1;32m    611\u001b[0m     \u001b[38;5;28;01mraise\u001b[39;00m PDFPageCountError(\n\u001b[1;32m    612\u001b[0m         \u001b[38;5;124mf\u001b[39m\u001b[38;5;124m\"\u001b[39m\u001b[38;5;124mUnable to get page count.\u001b[39m\u001b[38;5;130;01m\\n\u001b[39;00m\u001b[38;5;132;01m{\u001b[39;00merr\u001b[38;5;241m.\u001b[39mdecode(\u001b[38;5;124m'\u001b[39m\u001b[38;5;124mutf8\u001b[39m\u001b[38;5;124m'\u001b[39m,\u001b[38;5;250m \u001b[39m\u001b[38;5;124m'\u001b[39m\u001b[38;5;124mignore\u001b[39m\u001b[38;5;124m'\u001b[39m)\u001b[38;5;132;01m}\u001b[39;00m\u001b[38;5;124m\"\u001b[39m\n\u001b[1;32m    613\u001b[0m     )\n",
      "\u001b[0;31mPDFInfoNotInstalledError\u001b[0m: Unable to get page count. Is poppler installed and in PATH?"
     ]
    }
   ],
   "source": [
    "# Parse a PDF as well as a email invoice\n",
    "from src.utils import preprocess_aor, preprocess_invoice\n",
    "\n",
    "# preprocess_aor(aor_dir=\"database/aor\")\n",
    "\n",
    "preprocess_invoice(invoice_dir=\"database/invoice\")"
   ]
  },
  {
   "cell_type": "code",
   "execution_count": 3,
   "metadata": {},
   "outputs": [
    {
     "name": "stdout",
     "output_type": "stream",
     "text": [
      "\u001b[31mERROR: Could not find a version that satisfies the requirement poppler (from versions: none)\u001b[0m\u001b[31m\n",
      "\u001b[0m\u001b[31mERROR: No matching distribution found for poppler\u001b[0m\u001b[31m\n",
      "\u001b[0m"
     ]
    }
   ],
   "source": [
    "!pip install poppler"
   ]
  },
  {
   "cell_type": "markdown",
   "metadata": {},
   "source": [
    "#### Search & Query"
   ]
  },
  {
   "cell_type": "code",
   "execution_count": null,
   "metadata": {},
   "outputs": [],
   "source": [
    "# Chat with the preprocessed AOR for real-time chat based on RAG \n",
    "from src.aor import load_aors\n",
    "from src.search import search_aor_with_item, search_aor_with_no\n",
    "\n",
    "\n",
    "aor_list = load_aors()\n",
    "\n",
    "# Quick routing: Item-based & Number-baseds\n",
    "no_query = \"DH928\"\n",
    "matching_aors = search_aor_with_no(no_query, aor_list)\n",
    "\n",
    "\n",
    "print(\"Item-based AOR searching:\")\n",
    "for aor in matching_aors[:1]:\n",
    "    print(f\"AOR No: {aor.no}\")\n",
    "    print(f\"Description: {aor.description}\")\n",
    "    print(f\"Items: {aor.items}\")\n",
    "    print(f\"Budgets: {aor.budgets}\")\n",
    "    print(f\"Expiry Date: {aor.expiry_date}\")\n",
    "    print(\"---\")"
   ]
  },
  {
   "cell_type": "markdown",
   "metadata": {},
   "source": [
    "#### RAG-based chat "
   ]
  },
  {
   "cell_type": "code",
   "execution_count": null,
   "metadata": {},
   "outputs": [],
   "source": [
    "from src.agent import RagAgent \n",
    "\n",
    "# Example usage\n",
    "agent = RagAgent()\n",
    "user_message = \"Tell me about AOR DH928\"\n",
    "agent_response = agent.chat(user_message)\n",
    "\n",
    "user_message = \"What is the invoice no.01141833 about?\"\n",
    "agent_response = agent.chat(user_message)\n",
    "\n",
    "user_message = \"Is this invoice covered by the AOR?\"\n",
    "agent_response = agent.chat(user_message)"
   ]
  },
  {
   "cell_type": "code",
   "execution_count": 4,
   "metadata": {},
   "outputs": [
    {
     "name": "stdout",
     "output_type": "stream",
     "text": [
      "Calling Function:  search_aor_with_item  | Query:  CAMP 1 OPS COST REQUIREMENTS\n",
      "Line 90: Item matching aors:  [AOR(items=['Telco Subscription', 'Bank charges (Cheque Book and annual bank statement)', 'Newspaper and magazine Subscription', 'HSP', 'Antigen Test Kit and PCR Test', 'Annual Airport pass', 'Purchase of Stationaries, office equipment and birthday cards', 'Ad-hoc Service and Maintenance', 'Printing of Name Card', 'Dip Bag via MFA'], budgets=[424361.0, 1103.0, 947.0, 981.0, 611.0, 1184.0, 194.0, 1343.0, 699.0, 1158.0], no='CAMP 1 OPS COST REQUIREMENTS', description='Approval of requirement for Operations Cost requirements at an estimated cost.', expiry_date='Not specified', pdf_text=\"Message Classification: Restricted\\r\\n\\r\\nApproved. Tks.\\r\\n\\r\\nBest,\\r\\nHDM\\r\\n\\r\\nFrom: Seow Yuxin <yuxin.seow@temus.com>\\r\\nDate: Thursday, 15 August 2024 at 5:01\\u202fPM\\r\\nTo: Yu Fangyuan <Fangyuan.Yu@temus.com>\\r\\nSubject: [SAMPLE AOR] [For HDM's approval] APPROVAL OF REQUIREMENT FOR CAMP 1 OPS COST REQUIREMENTS [Restricted]\\r\\nMessage Classification: Restricted\\r\\n\\r\\nHDM sir,\\r\\n\\r\\nAPPROVAL OF REQUIREMENT FOR  OPS COST REQUIREMENTS FOR CAMP 1\\r\\n\\r\\nAIM:\\r\\n1. To seek HDM’s approval for Ops Cost requirements at an estimated cost of S$16,290 (26.56THB to 1 SGD)  – MAS Ex Rate for 2024.\\r\\n\\r\\nCOST BREAKDOWN AND JUSTIFICATION\\r\\n2. Approval is sought for the following requirements:\\r\\n\\r\\nItems\\r\\nForecast for 2022\\r\\n2022 Actual Expenditure (THB)\\r\\nForecast for FY23/24 (THB)\\r\\nRemarks\\r\\nTelco Subscription\\r\\n               339,488.00\\r\\n                                               282,907.00\\r\\n                                       424,361.00\\r\\nProjected amount derived from total monthly subscription (12 mths) + projected roaming package for official duty\\r\\nBank charges (Cheque Book and annual bank statement)\\r\\n                         882.00\\r\\n                                                          735.00\\r\\n                                             1,103.00\\r\\nDecrease in projected amount Estimated 3 – 4 cheque books required\\r\\nAllowance model and continued usage of Corporate Credit card for payment.\\r\\nNewspaper and magazine Subscription\\r\\n                         757.00\\r\\n                                                          631.00\\r\\n                                                 947.00\\r\\nReduced the subscription  from 3 copies to 2 copies in subsequently reduced to 1 copy\\r\\nHSP\\r\\n                         785.00\\r\\n                                                          654.00\\r\\n                                                 981.00\\r\\nAntigen Test Kit and PCR Test\\r\\n                         488.00\\r\\n                                                          407.00\\r\\n                                                 611.00\\r\\n\\r\\nAnnual Airport pass\\r\\n                         947.00\\r\\n                                                          789.00\\r\\n                                             1,184.00\\r\\nNo Change in Projection\\r\\nPurchase of Stationaries, office equipment and birthday cards\\r\\n                         155.00\\r\\n                                                          129.00\\r\\n                                                 194.00\\r\\nNo Change in Projection\\r\\nAd-hoc Service and Maintenance\\r\\n                     1,074.00\\r\\n                                                          895.00\\r\\n                                             1,343.00\\r\\nNo Change in Projection\\r\\nPrinting of Name Card\\r\\n                         559.00\\r\\n                                                          466.00\\r\\n                                                 699.00\\r\\nNo Change in Projection\\r\\nDip Bag via MFA\\r\\n                         926.00\\r\\n                                                          772.00\\r\\n                                             1,158.00\\r\\nTOTAL\\r\\n               346,061.00\\r\\n                                               288,385.00\\r\\n                                       432,581.00\\r\\n\\r\\n\\r\\n3. Supported by Director Yong Shan. Request is lower after review of past year’s expenditure and adjusted requirements.\\r\\n\\r\\n4. Submitted for HDM’s approval, please.\\r\\n\\r\\nENDORSEMENT BY AO(F) / URO\\r\\n\\r\\n  1.  Fund Sources and Amount: Cost Centre/IO: CAMP 1, S$17,000  (rounded up to nearest S$’000)\\r\\n  2.  I have checked that there are sufficient funds to support this requirement.\\r\\n  3.  Details of AO(F)/URO:\\r\\n(1) Rank & Name: Procurement Officer, Adam Khoo\\r\\n(2) Appointment: Sergeant\\r\\n(3) Date: <<as reflected in email>>\\r\\n\", pdf_path='database/aor/AOR-sample2.eml', cached_dict={})]\n",
      "-------- **** ------- After search AOR with Item, AOR list:  [AOR(items=['Telco Subscription', 'Bank charges (Cheque Book and annual bank statement)', 'Newspaper and magazine Subscription', 'HSP', 'Antigen Test Kit and PCR Test', 'Annual Airport pass', 'Purchase of Stationaries, office equipment and birthday cards', 'Ad-hoc Service and Maintenance', 'Printing of Name Card', 'Dip Bag via MFA'], budgets=[424361.0, 1103.0, 947.0, 981.0, 611.0, 1184.0, 194.0, 1343.0, 699.0, 1158.0], no='CAMP 1 OPS COST REQUIREMENTS', description='Approval of requirement for Operations Cost requirements at an estimated cost.', expiry_date='Not specified', pdf_text=\"Message Classification: Restricted\\r\\n\\r\\nApproved. Tks.\\r\\n\\r\\nBest,\\r\\nHDM\\r\\n\\r\\nFrom: Seow Yuxin <yuxin.seow@temus.com>\\r\\nDate: Thursday, 15 August 2024 at 5:01\\u202fPM\\r\\nTo: Yu Fangyuan <Fangyuan.Yu@temus.com>\\r\\nSubject: [SAMPLE AOR] [For HDM's approval] APPROVAL OF REQUIREMENT FOR CAMP 1 OPS COST REQUIREMENTS [Restricted]\\r\\nMessage Classification: Restricted\\r\\n\\r\\nHDM sir,\\r\\n\\r\\nAPPROVAL OF REQUIREMENT FOR  OPS COST REQUIREMENTS FOR CAMP 1\\r\\n\\r\\nAIM:\\r\\n1. To seek HDM’s approval for Ops Cost requirements at an estimated cost of S$16,290 (26.56THB to 1 SGD)  – MAS Ex Rate for 2024.\\r\\n\\r\\nCOST BREAKDOWN AND JUSTIFICATION\\r\\n2. Approval is sought for the following requirements:\\r\\n\\r\\nItems\\r\\nForecast for 2022\\r\\n2022 Actual Expenditure (THB)\\r\\nForecast for FY23/24 (THB)\\r\\nRemarks\\r\\nTelco Subscription\\r\\n               339,488.00\\r\\n                                               282,907.00\\r\\n                                       424,361.00\\r\\nProjected amount derived from total monthly subscription (12 mths) + projected roaming package for official duty\\r\\nBank charges (Cheque Book and annual bank statement)\\r\\n                         882.00\\r\\n                                                          735.00\\r\\n                                             1,103.00\\r\\nDecrease in projected amount Estimated 3 – 4 cheque books required\\r\\nAllowance model and continued usage of Corporate Credit card for payment.\\r\\nNewspaper and magazine Subscription\\r\\n                         757.00\\r\\n                                                          631.00\\r\\n                                                 947.00\\r\\nReduced the subscription  from 3 copies to 2 copies in subsequently reduced to 1 copy\\r\\nHSP\\r\\n                         785.00\\r\\n                                                          654.00\\r\\n                                                 981.00\\r\\nAntigen Test Kit and PCR Test\\r\\n                         488.00\\r\\n                                                          407.00\\r\\n                                                 611.00\\r\\n\\r\\nAnnual Airport pass\\r\\n                         947.00\\r\\n                                                          789.00\\r\\n                                             1,184.00\\r\\nNo Change in Projection\\r\\nPurchase of Stationaries, office equipment and birthday cards\\r\\n                         155.00\\r\\n                                                          129.00\\r\\n                                                 194.00\\r\\nNo Change in Projection\\r\\nAd-hoc Service and Maintenance\\r\\n                     1,074.00\\r\\n                                                          895.00\\r\\n                                             1,343.00\\r\\nNo Change in Projection\\r\\nPrinting of Name Card\\r\\n                         559.00\\r\\n                                                          466.00\\r\\n                                                 699.00\\r\\nNo Change in Projection\\r\\nDip Bag via MFA\\r\\n                         926.00\\r\\n                                                          772.00\\r\\n                                             1,158.00\\r\\nTOTAL\\r\\n               346,061.00\\r\\n                                               288,385.00\\r\\n                                       432,581.00\\r\\n\\r\\n\\r\\n3. Supported by Director Yong Shan. Request is lower after review of past year’s expenditure and adjusted requirements.\\r\\n\\r\\n4. Submitted for HDM’s approval, please.\\r\\n\\r\\nENDORSEMENT BY AO(F) / URO\\r\\n\\r\\n  1.  Fund Sources and Amount: Cost Centre/IO: CAMP 1, S$17,000  (rounded up to nearest S$’000)\\r\\n  2.  I have checked that there are sufficient funds to support this requirement.\\r\\n  3.  Details of AO(F)/URO:\\r\\n(1) Rank & Name: Procurement Officer, Adam Khoo\\r\\n(2) Appointment: Sergeant\\r\\n(3) Date: <<as reflected in email>>\\r\\n\", pdf_path='database/aor/AOR-sample2.eml', cached_dict={})]\n",
      "Retrived Information: Found AORCAMP 1 OPS COST REQUIREMENTS related to the item CAMP 1 OPS COST REQUIREMENTS\n",
      "Calling Function:  direct_answer  | Query:  The AOR no. CAMP 1 OPS COST REQUIREMENTS includes the following budget allocations: Telco Subscription (424361.0), Bank charges (Cheque Book and annual bank statement) (1103.0), Newspaper and magazine Subscription (947.0), HSP (981.0), Antigen Test Kit and PCR Test (611.0), Annual Airport pass (1184.0), Purchase of Stationaries, office equipment and birthday cards (194.0), Ad-hoc Service and Maintenance (1343.0), Printing of Name Card (699.0), and Dip Bag via MFA (1158.0). The description of this AOR is an approval of requirement for Operations Cost requirements at an estimated cost. The expiry date is not specified.\n",
      "Direct Answer\n",
      "Question:  \n",
      "Base on what you've found, provide your answer to the user query. Do you make up information, mention you did not find relevant information if the provided information is not relevant.\n",
      "\n",
      "Retrieved Invoice: \n",
      "\n",
      "Retrieved AOR: AOR no. CAMP 1 OPS COST REQUIREMENTS\n",
      "Budget for Telco Subscription is 424361.0\n",
      "Budget for Bank charges (Cheque Book and annual bank statement) is 1103.0\n",
      "Budget for Newspaper and magazine Subscription is 947.0\n",
      "Budget for HSP is 981.0\n",
      "Budget for Antigen Test Kit and PCR Test is 611.0\n",
      "Budget for Annual Airport pass is 1184.0\n",
      "Budget for Purchase of Stationaries, office equipment and birthday cards is 194.0\n",
      "Budget for Ad-hoc Service and Maintenance is 1343.0\n",
      "Budget for Printing of Name Card is 699.0\n",
      "Budget for Dip Bag via MFA is 1158.0\n",
      "Expiry date: Not specified\n",
      "Description: Approval of requirement for Operations Cost requirements at an estimated cost.\n",
      "\n",
      "User query: Tell me about AOR CAMP 1 OPS COST REQUIREMENTS\n",
      "\n",
      "Provide your thought and answer. For instance: \n",
      "Thought: xxx\n",
      "Answer: xxx\n",
      "\n",
      "        Thought: The user is asking for details about the AOR titled \"CAMP 1 OPS COST REQUIREMENTS.\" I have retrieved the relevant AOR information that outlines the budget allocations for various operational cost requirements.\n",
      "        Answer: The AOR \"CAMP 1 OPS COST REQUIREMENTS\" lists budget allocations for several operational expenses. The budget details are as follows:\n",
      "\n",
      "- Telco Subscription: 424,361.0\n",
      "- Bank charges (Cheque Book and annual bank statement): 1,103.0\n",
      "- Newspaper and magazine Subscription: 947.0\n",
      "- HSP: 981.0\n",
      "- Antigen Test Kit and PCR Test: 611.0\n",
      "- Annual Airport pass: 1,184.0\n",
      "- Purchase of Stationaries, office equipment and birthday cards: 194.0\n",
      "- Ad-hoc Service and Maintenance: 1,343.0\n",
      "- Printing of Name Card: 699.0\n",
      "- Dip Bag via MFA: 1,158.0\n",
      "\n",
      "The AOR does not specify an expiry date. It is an approval of requirements for operations cost at an estimated cost.\n",
      "Final Answer: The AOR \"CAMP 1 OPS COST REQUIREMENTS\" lists budget allocations for several operational expenses. The budget details are as follows:\n",
      "\n",
      "- Telco Subscription: 424,361.0\n",
      "- Bank charges (Cheque Book and annual bank statement): 1,103.0\n",
      "- Newspaper and magazine Subscription: 947.0\n",
      "- HSP: 981.0\n",
      "- Antigen Test Kit and PCR Test: 611.0\n",
      "- Annual Airport pass: 1,184.0\n",
      "- Purchase of Stationaries, office equipment and birthday cards: 194.0\n",
      "- Ad-hoc Service and Maintenance: 1,343.0\n",
      "- Printing of Name Card: 699.0\n",
      "- Dip Bag via MFA: 1,158.0\n",
      "\n",
      "The AOR does not specify an expiry date. It is an approval of requirements for operations cost at an estimated cost.\n",
      "Calling Function:  search_invoice_with_no  | Query:  1234567\n",
      "Retrived Information: Found Invoice1234567 related to the query number 1234567\n",
      "Calling Function:  query_invoice_detail  | Query:  Invoice no. 1234567\n",
      "Final Answer: The invoice no. 1234567 from Temus is for various fees and services, including telecom service, bank statement and annual report fees, membership for journals, service fees, antigen and PCR tests, an annual pass card, cooling and office equipment purchases, filing and archiving service, card printing, and express document service, totaling 484,490.72 THB including VAT.\n"
     ]
    }
   ],
   "source": [
    "from src.agent import RagAgent \n",
    "\n",
    "agent = RagAgent()\n",
    "user_message = \"Tell me about AOR CAMP 1 OPS COST REQUIREMENTS\"\n",
    "agent_response = agent.chat(user_message)\n",
    "\n",
    "user_message = \"What is the invoice no.1234567 about?\"\n",
    "agent_response = agent.chat(user_message)\n",
    "\n",
    "# user_message = \"Is this invoice covered by the AOR?\"\n",
    "# agent_response = agent.chat(user_message)"
   ]
  },
  {
   "cell_type": "code",
   "execution_count": 6,
   "metadata": {},
   "outputs": [
    {
     "data": {
      "text/plain": [
       "[AOR(items=['Telco Subscription', 'Bank charges (Cheque Book and annual bank statement)', 'Newspaper and magazine Subscription', 'HSP', 'Antigen Test Kit and PCR Test', 'Annual Airport pass', 'Purchase of Stationaries, office equipment and birthday cards', 'Ad-hoc Service and Maintenance', 'Printing of Name Card', 'Dip Bag via MFA'], budgets=[424361.0, 1103.0, 947.0, 981.0, 611.0, 1184.0, 194.0, 1343.0, 699.0, 1158.0], no='CAMP 1 OPS COST REQUIREMENTS', description='Approval of requirement for Operations Cost requirements at an estimated cost.', expiry_date='Not specified', pdf_text=\"Message Classification: Restricted\\r\\n\\r\\nApproved. Tks.\\r\\n\\r\\nBest,\\r\\nHDM\\r\\n\\r\\nFrom: Seow Yuxin <yuxin.seow@temus.com>\\r\\nDate: Thursday, 15 August 2024 at 5:01\\u202fPM\\r\\nTo: Yu Fangyuan <Fangyuan.Yu@temus.com>\\r\\nSubject: [SAMPLE AOR] [For HDM's approval] APPROVAL OF REQUIREMENT FOR CAMP 1 OPS COST REQUIREMENTS [Restricted]\\r\\nMessage Classification: Restricted\\r\\n\\r\\nHDM sir,\\r\\n\\r\\nAPPROVAL OF REQUIREMENT FOR  OPS COST REQUIREMENTS FOR CAMP 1\\r\\n\\r\\nAIM:\\r\\n1. To seek HDM’s approval for Ops Cost requirements at an estimated cost of S$16,290 (26.56THB to 1 SGD)  – MAS Ex Rate for 2024.\\r\\n\\r\\nCOST BREAKDOWN AND JUSTIFICATION\\r\\n2. Approval is sought for the following requirements:\\r\\n\\r\\nItems\\r\\nForecast for 2022\\r\\n2022 Actual Expenditure (THB)\\r\\nForecast for FY23/24 (THB)\\r\\nRemarks\\r\\nTelco Subscription\\r\\n               339,488.00\\r\\n                                               282,907.00\\r\\n                                       424,361.00\\r\\nProjected amount derived from total monthly subscription (12 mths) + projected roaming package for official duty\\r\\nBank charges (Cheque Book and annual bank statement)\\r\\n                         882.00\\r\\n                                                          735.00\\r\\n                                             1,103.00\\r\\nDecrease in projected amount Estimated 3 – 4 cheque books required\\r\\nAllowance model and continued usage of Corporate Credit card for payment.\\r\\nNewspaper and magazine Subscription\\r\\n                         757.00\\r\\n                                                          631.00\\r\\n                                                 947.00\\r\\nReduced the subscription  from 3 copies to 2 copies in subsequently reduced to 1 copy\\r\\nHSP\\r\\n                         785.00\\r\\n                                                          654.00\\r\\n                                                 981.00\\r\\nAntigen Test Kit and PCR Test\\r\\n                         488.00\\r\\n                                                          407.00\\r\\n                                                 611.00\\r\\n\\r\\nAnnual Airport pass\\r\\n                         947.00\\r\\n                                                          789.00\\r\\n                                             1,184.00\\r\\nNo Change in Projection\\r\\nPurchase of Stationaries, office equipment and birthday cards\\r\\n                         155.00\\r\\n                                                          129.00\\r\\n                                                 194.00\\r\\nNo Change in Projection\\r\\nAd-hoc Service and Maintenance\\r\\n                     1,074.00\\r\\n                                                          895.00\\r\\n                                             1,343.00\\r\\nNo Change in Projection\\r\\nPrinting of Name Card\\r\\n                         559.00\\r\\n                                                          466.00\\r\\n                                                 699.00\\r\\nNo Change in Projection\\r\\nDip Bag via MFA\\r\\n                         926.00\\r\\n                                                          772.00\\r\\n                                             1,158.00\\r\\nTOTAL\\r\\n               346,061.00\\r\\n                                               288,385.00\\r\\n                                       432,581.00\\r\\n\\r\\n\\r\\n3. Supported by Director Yong Shan. Request is lower after review of past year’s expenditure and adjusted requirements.\\r\\n\\r\\n4. Submitted for HDM’s approval, please.\\r\\n\\r\\nENDORSEMENT BY AO(F) / URO\\r\\n\\r\\n  1.  Fund Sources and Amount: Cost Centre/IO: CAMP 1, S$17,000  (rounded up to nearest S$’000)\\r\\n  2.  I have checked that there are sufficient funds to support this requirement.\\r\\n  3.  Details of AO(F)/URO:\\r\\n(1) Rank & Name: Procurement Officer, Adam Khoo\\r\\n(2) Appointment: Sergeant\\r\\n(3) Date: <<as reflected in email>>\\r\\n\", pdf_path='database/aor/AOR-sample2.eml', cached_dict={})]"
      ]
     },
     "execution_count": 6,
     "metadata": {},
     "output_type": "execute_result"
    }
   ],
   "source": [
    "agent.memory.aor_list"
   ]
  },
  {
   "cell_type": "code",
   "execution_count": 7,
   "metadata": {},
   "outputs": [
    {
     "data": {
      "text/plain": [
       "[Invoice(no='1234567', date='2024-08-15', currency='Thai Baht', seller='Temus', items=['Telecom service fee', 'Bank statement and annual report fee', 'Membership fee for journals and publications', 'Service fee', 'Antigen test kit and PCR test', 'Annual pass card', 'Purchase of cooling equipment, office equipment and ERP', 'Filing and archiving service', 'Card printing service', 'Express document service'], amounts=[424361.0, 1103.0, 947.0, 981.0, 611.0, 1184.0, 194.0, 1343.0, 699.0, 1158.0], description='', invoice_text='Invoice\\nCompany Name: Temus\\nAddress: Pasir Panjang\\nInvoice Number: 1234567\\nInvoice Date: 15 August 2024\\n\\nItems\\nTelecom service fee: 424,361.00 THB\\nBank statement and annual report fee: 1,103.00 THB\\nMembership fee for journals and publications: 947.00 THB\\nService fee: 981.00 THB\\nAntigen test kit and PCR test: 611.00 THB\\nAnnual pass card: 1,184.00 THB\\nPurchase of cooling equipment, office equipment and ERP: 194.00 THB\\nFiling and archiving service: 1,343.00 THB\\nCard printing service: 699.00 THB\\nExpress document service: 1,158.00 THB\\n\\nSubtotal: 432,581.00\\nVAT 12%: 51,909.72\\nTotal: 484,490.72\\n\\nPayment Terms: NET 30\\nPayment Method: Cheque\\nDue Date: 15 September 2024', invoice_path='database/invoice/invoice_thai.pdf')]"
      ]
     },
     "execution_count": 7,
     "metadata": {},
     "output_type": "execute_result"
    }
   ],
   "source": [
    "agent.memory.invoice_list"
   ]
  },
  {
   "cell_type": "code",
   "execution_count": 15,
   "metadata": {},
   "outputs": [],
   "source": [
    "from src.utils import *\n",
    "import glob \n",
    "\n",
    "eml_files = glob.glob(\"database/aor/*.eml\")\n",
    "eml_file_path = eml_files[0]\n",
    "email_data = read_eml(eml_file_path)\n",
    "\n",
    "email_txt = email_data.get('body')\n",
    "prompt = PARSE_AOR_PROMPT.format(pdf_txt=email_txt)\n",
    "response = get_oai_response(prompt)\n",
    "parsed_aor_dict = parse_json_response(response)\n",
    "aor = AOR(**parsed_aor_dict)\n",
    "\n",
    "\n",
    "# print(email_data)"
   ]
  },
  {
   "cell_type": "code",
   "execution_count": 24,
   "metadata": {},
   "outputs": [],
   "source": []
  },
  {
   "cell_type": "code",
   "execution_count": 13,
   "metadata": {},
   "outputs": [
    {
     "data": {
      "text/plain": [
       "\"Message Classification: Restricted\\r\\n\\r\\nApproved. Tks.\\r\\n\\r\\nBest,\\r\\nHDM\\r\\n\\r\\nFrom: Seow Yuxin <yuxin.seow@temus.com>\\r\\nDate: Thursday, 15 August 2024 at 5:01\\u202fPM\\r\\nTo: Yu Fangyuan <Fangyuan.Yu@temus.com>\\r\\nSubject: [SAMPLE AOR] [For HDM's approval] APPROVAL OF REQUIREMENT FOR CAMP 1 OPS COST REQUIREMENTS [Restricted]\\r\\nMessage Classification: Restricted\\r\\n\\r\\nHDM sir,\\r\\n\\r\\nAPPROVAL OF REQUIREMENT FOR  OPS COST REQUIREMENTS FOR CAMP 1\\r\\n\\r\\nAIM:\\r\\n1. To seek HDM’s approval for Ops Cost requirements at an estimated cost of S$16,290 (26.56THB to 1 SGD)  – MAS Ex Rate for 2024.\\r\\n\\r\\nCOST BREAKDOWN AND JUSTIFICATION\\r\\n2. Approval is sought for the following requirements:\\r\\n\\r\\nItems\\r\\nForecast for 2022\\r\\n2022 Actual Expenditure (THB)\\r\\nForecast for FY23/24 (THB)\\r\\nRemarks\\r\\nTelco Subscription\\r\\n               339,488.00\\r\\n                                               282,907.00\\r\\n                                       424,361.00\\r\\nProjected amount derived from total monthly subscription (12 mths) + projected roaming package for official duty\\r\\nBank charges (Cheque Book and annual bank statement)\\r\\n                         882.00\\r\\n                                                          735.00\\r\\n                                             1,103.00\\r\\nDecrease in projected amount Estimated 3 – 4 cheque books required\\r\\nAllowance model and continued usage of Corporate Credit card for payment.\\r\\nNewspaper and magazine Subscription\\r\\n                         757.00\\r\\n                                                          631.00\\r\\n                                                 947.00\\r\\nReduced the subscription  from 3 copies to 2 copies in subsequently reduced to 1 copy\\r\\nHSP\\r\\n                         785.00\\r\\n                                                          654.00\\r\\n                                                 981.00\\r\\nAntigen Test Kit and PCR Test\\r\\n                         488.00\\r\\n                                                          407.00\\r\\n                                                 611.00\\r\\n\\r\\nAnnual Airport pass\\r\\n                         947.00\\r\\n                                                          789.00\\r\\n                                             1,184.00\\r\\nNo Change in Projection\\r\\nPurchase of Stationaries, office equipment and birthday cards\\r\\n                         155.00\\r\\n                                                          129.00\\r\\n                                                 194.00\\r\\nNo Change in Projection\\r\\nAd-hoc Service and Maintenance\\r\\n                     1,074.00\\r\\n                                                          895.00\\r\\n                                             1,343.00\\r\\nNo Change in Projection\\r\\nPrinting of Name Card\\r\\n                         559.00\\r\\n                                                          466.00\\r\\n                                                 699.00\\r\\nNo Change in Projection\\r\\nDip Bag via MFA\\r\\n                         926.00\\r\\n                                                          772.00\\r\\n                                             1,158.00\\r\\nTOTAL\\r\\n               346,061.00\\r\\n                                               288,385.00\\r\\n                                       432,581.00\\r\\n\\r\\n\\r\\n3. Supported by Director Yong Shan. Request is lower after review of past year’s expenditure and adjusted requirements.\\r\\n\\r\\n4. Submitted for HDM’s approval, please.\\r\\n\\r\\nENDORSEMENT BY AO(F) / URO\\r\\n\\r\\n  1.  Fund Sources and Amount: Cost Centre/IO: CAMP 1, S$17,000  (rounded up to nearest S$’000)\\r\\n  2.  I have checked that there are sufficient funds to support this requirement.\\r\\n  3.  Details of AO(F)/URO:\\r\\n(1) Rank & Name: Procurement Officer, Adam Khoo\\r\\n(2) Appointment: Sergeant\\r\\n(3) Date: <<as reflected in email>>\\r\\n\""
      ]
     },
     "execution_count": 13,
     "metadata": {},
     "output_type": "execute_result"
    }
   ],
   "source": [
    "# type(email_data)\n",
    "email_data['body']"
   ]
  },
  {
   "cell_type": "code",
   "execution_count": null,
   "metadata": {},
   "outputs": [],
   "source": [
    "from PIL import Image\n",
    "import glob\n",
    "# glob.glob(\"assets/*\")[1]\n",
    "icon_path = \"assets/flow-agent.png\"\n",
    "icon = Image.open(icon_path)"
   ]
  },
  {
   "cell_type": "markdown",
   "metadata": {},
   "source": [
    "#### Invoice Processor"
   ]
  },
  {
   "cell_type": "code",
   "execution_count": null,
   "metadata": {},
   "outputs": [],
   "source": [
    "# this is the last query to solve, before the front-end deployment \n",
    "# query = \"Is the invoice no.01141833 covered by any of the AORs?\"\n",
    "# query = \"What is the invoice no.01141883 about?\"\n",
    "\n",
    "# use_message = \"Is the invoice no.01141833 covered by any of the AORs?\"\n",
    "agent_response = agent.chat(\"Is the invoice no.01141833 covered by any of the AORs?\")"
   ]
  },
  {
   "cell_type": "code",
   "execution_count": null,
   "metadata": {},
   "outputs": [],
   "source": [
    "# Chainlit front-end interface with logo change now\n"
   ]
  },
  {
   "cell_type": "code",
   "execution_count": null,
   "metadata": {},
   "outputs": [],
   "source": []
  }
 ],
 "metadata": {
  "kernelspec": {
   "display_name": "Python 3",
   "language": "python",
   "name": "python3"
  },
  "language_info": {
   "codemirror_mode": {
    "name": "ipython",
    "version": 3
   },
   "file_extension": ".py",
   "mimetype": "text/x-python",
   "name": "python",
   "nbconvert_exporter": "python",
   "pygments_lexer": "ipython3",
   "version": "3.11.5"
  }
 },
 "nbformat": 4,
 "nbformat_minor": 2
}

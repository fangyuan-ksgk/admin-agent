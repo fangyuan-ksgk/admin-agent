{
 "cells": [
  {
   "cell_type": "markdown",
   "metadata": {},
   "source": [
    "#### Pre-Processing"
   ]
  },
  {
   "cell_type": "code",
   "execution_count": 1,
   "metadata": {},
   "outputs": [],
   "source": [
    "# Parse a PDF as well as a email invoice\n",
    "from src.utils import preprocess_aor\n",
    "pdf_path = \"database/aor/AOR-sample1.pdf\"\n",
    "# preprocess_aor(aor_dir=\"database/aor\")"
   ]
  },
  {
   "cell_type": "markdown",
   "metadata": {},
   "source": [
    "#### Search & Query"
   ]
  },
  {
   "cell_type": "code",
   "execution_count": 2,
   "metadata": {},
   "outputs": [
    {
     "name": "stderr",
     "output_type": "stream",
     "text": [
      "/opt/homebrew/anaconda3/lib/python3.11/site-packages/sentence_transformers/cross_encoder/CrossEncoder.py:11: TqdmExperimentalWarning: Using `tqdm.autonotebook.tqdm` in notebook mode. Use `tqdm.tqdm` instead to force console mode (e.g. in jupyter console)\n",
      "  from tqdm.autonotebook import tqdm, trange\n"
     ]
    },
    {
     "name": "stdout",
     "output_type": "stream",
     "text": [
      "Item-based AOR searching:\n",
      "AOR No: DH928/6/4\n",
      "Description: Approval of requirement specifications for the implementation of Crew Mobile Digital Services Lite (CMDS-Lite) for First Flotilla, specifically for a Proof of Concept (PoC) trial on two Frigates (FFSes).\n",
      "Items: ['Hardware for 2 FFSes', 'Software and Licenses for 2 FFSes', 'IT man-effort and Professional Services']\n",
      "Budgets: [36000.0, 10000.0, 78000.0]\n",
      "Expiry Date: 2024-05-16\n",
      "---\n"
     ]
    }
   ],
   "source": [
    "# Chat with the preprocessed AOR for real-time chat based on RAG \n",
    "from src.aor import load_aors\n",
    "from src.search import search_aor_with_item, search_aor_with_no\n",
    "\n",
    "\n",
    "aor_list = load_aors()\n",
    "\n",
    "# Quick routing: Item-based & Number-baseds\n",
    "\n",
    "# item_query = \"Hardware\"\n",
    "# matching_aors = search_aor_with_item(query, aor_list)\n",
    "\n",
    "no_query = \"DH928\"\n",
    "matching_aors = search_aor_with_no(no_query, aor_list)\n",
    "\n",
    "\n",
    "print(\"Item-based AOR searching:\")\n",
    "for aor in matching_aors[:1]:\n",
    "    print(f\"AOR No: {aor.no}\")\n",
    "    print(f\"Description: {aor.description}\")\n",
    "    print(f\"Items: {aor.items}\")\n",
    "    print(f\"Budgets: {aor.budgets}\")\n",
    "    print(f\"Expiry Date: {aor.expiry_date}\")\n",
    "    print(\"---\")"
   ]
  },
  {
   "cell_type": "markdown",
   "metadata": {},
   "source": [
    "#### RAG-based chat "
   ]
  },
  {
   "cell_type": "code",
   "execution_count": 3,
   "metadata": {},
   "outputs": [],
   "source": [
    "# How many budget is left in the AOR xxx \n",
    "# What kind of item is covered in AOR xxx\n",
    "from src.search import query_detail, query_rough\n",
    "query = \"What does this AOR cover?\"\n",
    "\n",
    "# Detailed Query with access to full AOR text\n",
    "# query_detail(aor, query)\n",
    "\n",
    "# Rough Query with access to concise AOR summary\n",
    "# query_rough(aor, query)"
   ]
  },
  {
   "cell_type": "markdown",
   "metadata": {},
   "source": [
    "#### RAG Agent"
   ]
  },
  {
   "cell_type": "code",
   "execution_count": 4,
   "metadata": {},
   "outputs": [],
   "source": [
    "from src.search import query_memory, Memory\n",
    "\n",
    "class RagAgent:\n",
    "    def __init__(self):\n",
    "        self.memory = Memory()\n",
    "        self.messages = []\n",
    "\n",
    "    def chat(self, user_message):\n",
    "        self.messages.append({\"role\": \"user\", \"content\": user_message})\n",
    "        \n",
    "        # Determine if we need to query the memory\n",
    "        if self._should_query_memory(user_message):\n",
    "            memory_query = self._generate_memory_query(user_message)\n",
    "            memory_response, self.memory = query_memory(memory_query, self.memory)\n",
    "            \n",
    "            # Use the memory response to formulate the agent's response\n",
    "            agent_response = self._formulate_response(user_message, memory_response)\n",
    "        else:\n",
    "            # Generate a response without querying memory\n",
    "            agent_response = self._generate_response(user_message)\n",
    "        \n",
    "        self.messages.append({\"role\": \"assistant\", \"content\": agent_response})\n",
    "        return agent_response\n",
    "\n",
    "    def _should_query_memory(self, user_message):\n",
    "        # Implement logic to determine if memory should be queried\n",
    "        # This could be based on keywords, intent recognition, etc.\n",
    "        return \"AOR\" in user_message or \"budget\" in user_message.lower()\n",
    "\n",
    "    def _generate_memory_query(self, user_message):\n",
    "        # Implement logic to generate an appropriate memory query\n",
    "        # This could involve extracting key information from the user message\n",
    "        return f\"Find information related to: {user_message}\"\n",
    "\n",
    "    def _formulate_response(self, user_message, memory_response):\n",
    "        # Implement logic to formulate a response based on the memory query result\n",
    "        return f\"Based on the information I found: {memory_response}\"\n",
    "\n",
    "    def _generate_response(self, user_message):\n",
    "        # Implement logic for generating a response without querying memory\n",
    "        return f\"I understand you're asking about: {user_message}. How can I assist you further?\"\n",
    "\n",
    "    def get_conversation_history(self):\n",
    "        return self.messages\n",
    "\n",
    "# Example usage\n",
    "agent = RagAgent()\n",
    "user_message = \"Tell me about AOR DH928\"\n",
    "response = agent.chat(user_message)\n",
    "print(f\"User: {user_message}\")\n",
    "print(f\"Agent: {response}\")\n",
    "\n",
    "user_message = \"What's the weather like today?\"\n",
    "response = agent.chat(user_message)\n",
    "print(f\"\\nUser: {user_message}\")\n",
    "print(f\"Agent: {response}\")\n",
    "\n",
    "print(\"\\nConversation History:\")\n",
    "for message in agent.get_conversation_history():\n",
    "    print(f\"{message['role'].capitalize()}: {message['content']}\")\n",
    "    \n",
    "    "
   ]
  },
  {
   "cell_type": "code",
   "execution_count": null,
   "metadata": {},
   "outputs": [],
   "source": []
  }
 ],
 "metadata": {
  "kernelspec": {
   "display_name": "Python 3",
   "language": "python",
   "name": "python3"
  },
  "language_info": {
   "codemirror_mode": {
    "name": "ipython",
    "version": 3
   },
   "file_extension": ".py",
   "mimetype": "text/x-python",
   "name": "python",
   "nbconvert_exporter": "python",
   "pygments_lexer": "ipython3",
   "version": "3.11.5"
  }
 },
 "nbformat": 4,
 "nbformat_minor": 2
}

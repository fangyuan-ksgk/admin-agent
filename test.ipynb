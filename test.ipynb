{
 "cells": [
  {
   "cell_type": "markdown",
   "metadata": {},
   "source": [
    "#### Pre-Processing"
   ]
  },
  {
   "cell_type": "code",
   "execution_count": 1,
   "metadata": {},
   "outputs": [
    {
     "name": "stderr",
     "output_type": "stream",
     "text": [
      "Ignoring wrong pointing object 6 0 (offset 0)\n",
      "Ignoring wrong pointing object 8 0 (offset 0)\n",
      "Ignoring wrong pointing object 10 0 (offset 0)\n",
      "Ignoring wrong pointing object 12 0 (offset 0)\n",
      "Ignoring wrong pointing object 14 0 (offset 0)\n",
      "Ignoring wrong pointing object 20 0 (offset 0)\n",
      "Ignoring wrong pointing object 22 0 (offset 0)\n",
      "Ignoring wrong pointing object 24 0 (offset 0)\n",
      "Ignoring wrong pointing object 32 0 (offset 0)\n",
      "Ignoring wrong pointing object 34 0 (offset 0)\n",
      "Ignoring wrong pointing object 36 0 (offset 0)\n",
      "Ignoring wrong pointing object 41 0 (offset 0)\n"
     ]
    },
    {
     "name": "stdout",
     "output_type": "stream",
     "text": [
      "Preprocessing AORs...\n"
     ]
    }
   ],
   "source": [
    "# Parse a PDF as well as a email invoice\n",
    "from src.utils import preprocess_aor, preprocess_invoice\n",
    "\n",
    "preprocess_aor(aor_dir=\"database/aor\")\n",
    "\n",
    "# preprocess_invoice(invoice_dir=\"database/invoice\")"
   ]
  },
  {
   "cell_type": "markdown",
   "metadata": {},
   "source": [
    "#### Search & Query"
   ]
  },
  {
   "cell_type": "code",
   "execution_count": null,
   "metadata": {},
   "outputs": [],
   "source": [
    "# Chat with the preprocessed AOR for real-time chat based on RAG \n",
    "from src.aor import load_aors\n",
    "from src.search import search_aor_with_item, search_aor_with_no\n",
    "\n",
    "\n",
    "aor_list = load_aors()\n",
    "\n",
    "# Quick routing: Item-based & Number-baseds\n",
    "no_query = \"DH928\"\n",
    "matching_aors = search_aor_with_no(no_query, aor_list)\n",
    "\n",
    "\n",
    "print(\"Item-based AOR searching:\")\n",
    "for aor in matching_aors[:1]:\n",
    "    print(f\"AOR No: {aor.no}\")\n",
    "    print(f\"Description: {aor.description}\")\n",
    "    print(f\"Items: {aor.items}\")\n",
    "    print(f\"Budgets: {aor.budgets}\")\n",
    "    print(f\"Expiry Date: {aor.expiry_date}\")\n",
    "    print(\"---\")"
   ]
  },
  {
   "cell_type": "markdown",
   "metadata": {},
   "source": [
    "#### RAG-based chat "
   ]
  },
  {
   "cell_type": "code",
   "execution_count": 2,
   "metadata": {},
   "outputs": [
    {
     "name": "stderr",
     "output_type": "stream",
     "text": [
      "/opt/homebrew/anaconda3/lib/python3.11/site-packages/sentence_transformers/cross_encoder/CrossEncoder.py:11: TqdmExperimentalWarning: Using `tqdm.autonotebook.tqdm` in notebook mode. Use `tqdm.tqdm` instead to force console mode (e.g. in jupyter console)\n",
      "  from tqdm.autonotebook import tqdm, trange\n",
      "/opt/homebrew/anaconda3/lib/python3.11/site-packages/pandas/core/arrays/masked.py:60: UserWarning: Pandas requires version '1.3.6' or newer of 'bottleneck' (version '1.3.5' currently installed).\n",
      "  from pandas.core import (\n"
     ]
    },
    {
     "name": "stdout",
     "output_type": "stream",
     "text": [
      "------- Initializing Agent --------\n",
      "Calling Function:  search_aor_with_no  | Query:  DH928\n",
      "-------- **** ------- After search aor with no, AOR list:  [AOR(items=['Hardware for 2 FFSes', 'Software and Licenses for 2 FFSes', 'IT man-effort and Professional Services'], budgets=[100000.0, 15000.0, 90000.0], no='DH928/6/4', description='Approval of requirement specifications for the implementation of MMMM-Lite on two Frigates as a trial for potential scale-up.', expiry_date='2024-08-16', pdf_text='OFFICIAL (CLOSED)  \\n1  OFFICIAL (CLOSED)         Pasir Panjang DH928/6-4  Singapore 117439      16 Aug 2024    Tel: 6888 8888    DD XXX Signed   APPROV AL OF REQUIREMENT SPECIFICATIONS FOR THE IMPLEMENTATION OF MMMM    References:  1. DC888-11/22 dated 4 Jan 2024, “XXX-XXXX-XXX”. Approved by HD XX, YYY on 16 Mar 2023.     BACKGROUND    1. Quartermasters (QMs) handle a wide spectrum of important tasks from tracking attendance and whereabouts of personnel, contractors, and visitors to flying flags and making announcements to ensuring safety onboard ship, amongst others. Tracking of attendance for a crew of between 70 to 90 is a tedious task, and QMs are also responsible for keeping track of contractors and visitors as they come onboard for works throughout the day. If tracking of attendance for ship crew and visitors can be completely automated, this will free up cognitive workload for the QMs to focus on other tasks that cannot yet be automated (eg. flying of flags). A secure mobile digital platform known as the Mighty Mobile Master Manager (MMMM) has previously been implemented.    AIM    2. This paper seeks HD DO’s approval for the requirement specifications for the trial of the MMMM-Lite for two Frigates (FFSes).             OFFICIAL (CLOSED)  \\n2  OFFICIAL (CLOSED)  SCOPE OF WORK AND CONTRACT V ALUE    3. Scope. The scope will include the hardware, software and support required for the Proof of Concept (PoC) trial of the MMMM-Lite on two FFSes.     4. Contract Value.  The estimated contract value of this trial will not exceed $124,000 (see the breakdown in Table 1).    Table 1: Cost Breakdown  S/N  Description  Estimated Cost  1  Hardware for 2 FFSes  $100,000  2  Software and Licenses for 2 FFSes  $15,000  3  IT man-effort and Professional Services  $90,000   Total  $205,000    5. Contract Duration. Contractor has up to 3 months to complete development, supply, installation, after which trial duration is for 30 days. After the trial, the findings will be evaluated through a report within 1 month before relevant RSN stakeholders decide if there is value to expand this to other ships.     6. Option for Scale-Up. The Supplier shall provide an option for proliferation should the PoC be successful in the form of supply and commission of additional ship-sets of MMMM-Lite. The scale up was shaped on a per ship basis with assumption of similar scale. The option shall be valid for 1 year after submission and acceptance of trial report. Each ship’s installation shall be completed within 3 months of PO.  Maintenance on a per-ship basis shall also be quoted (starting after warranty expiry).    EV ALUATION METHODOLOGY    7. Evaluation will be based on the Contractor’s ability to comply with the technical requirements stated in the requirement specifications and price reasonableness in comparison with existing market rates and past purchase prices. Quality (including innovation components) is not considered as the evaluation criteria as the nature of these buys is such that the quality is not differentiable and price is the primary consideration.      OFFICIAL (CLOSED)  \\n3  OFFICIAL (CLOSED)      RECOMMENDATION     8. It is recommended that HD DO approves the requirement specifications and evaluation methodology for the PoC trial of the MMMM-Lite on two FFSes.         ME4 Ng Teng Ooi  Senior Combat System Engineer, RSS Steadfast    Consulted : ME6, ME5, ME4    Annexes:   A.  Requirement Specifications  OFFICIAL (CLOSED)  \\nA-1 OFFICIAL (CLOSED)      ANNEX A    REQUIREMENT SPECIFICATIONS FOR THE IMPLEMENTATION OF CREW MOBILE DIGITAL SERVICES LITE (MMMM-LITE) FOR FIRST FLOTILLA    GENERAL REQUIREMENT    1. Functional Requirements. The Supplier shall meet the following functional requirements for the implementation of MMMM-Lite for two FFSes.     a. Proof-of-Concept (PoC) of Logic-Based Gantry System. The PoC shall demonstrate the capability to determine the presence and the direction of movement of personnel through rule-based programming from RFID tag returns from several readers within FFS hangar. The system shall be able to accurately determine which direction the personnel is travelling towards through the computation of detection by respective readers placed at different exit points of the hangar.     b. PoC of Automated Safety Monitoring. The PoC shall demonstrate that when personnel enter the pre-determined out-of-bound compartment, the system notifies the Quartermaster (QM) via the Man-MachineInterface (MMI) that personnel have entered the compartment1.    c. Automated Attendance Tracking within Ship. The system shall be able to keep track of all ship crew entering or leaving ship and provide a MMI for ship’s QM to monitor the real-time attendance onboard ship at any given time.    d. Digitised Attendance and Visitor Records. The system shall enable QMs to extract the attendance and visitor movement on and off ship over a 24-hour window. The system shall also provide data storage to keep up to 3 months of attendance and visitor records.    e. Other Operation Management Aids. User defined checklists, Duty Roster (including QM, HOTO, Occurrence, Rounds Logs, as well as QM details) and secure content repository shall be available and accessible.     1 Connectivity to this specific compartment if not within immediate vicinity, can be facilitated through powerline modems with RSN identifying a compartment on the same powerline circuit as the hangar  OFFICIAL (CLOSED)  \\nA-2 OFFICIAL (CLOSED)  TECHNICAL REQUIREMENTS FOR TRIAL OF MMMM-LITE      2. Technical Requirements. The Supplier shall meet the following technical requirements:    a. Hardware. The supplier shall supply all hardware required to meet the above functional requirements which includes but is not limited to (1) RFID sensors (and mounting brackets) and tags, (2) cables, (3) servers (in the form of desktop or laptops) for storage of attendance and visitor logs, (4) MMI for QMs to monitor and access data and (5) power-line modems.    b. Software. The Supplier shall supply the software required to run the program algorithm and also a User Interface (UI) for QM to access (1) realtime manpower movement, (2) Attendance and visitor records for up to 3 months and (3) notifications when personnel enters out-of-bound compartment.    3. Scope of PoC.     a. Demonstrate the ability to determine the presence of a personnel onboard ship through rule-based programming. The system shall be able to accurately determine which direction the personnel is travelling towards through the computation of detection by respective sensors placed at different exit points of the hangar.    b. The PoC shall be conducted onboard two Frigates (FFSes). All hardware/infrastructure/software preparation/services costs shall be borne by the potential supplier.     c. Duration. Active trial period of 30 days after which results to be tabulated and verified.    d. The supplier shall verify the accuracy of the presence tracking of personnel with the logic-based gantry system.    4. Security Requirements. The Supplier shall meet the following security requirements:    OFFICIAL (CLOSED)  \\nA-3 OFFICIAL (CLOSED)  a. Connectivity. Standalone and “Air-gap” from Internet.    b. Security Clearance. Only personnel cleared by the Authority shall be permitted to come into contact with data.    c. Cyber Security. To abide by same cyber security posture as MMMM    DETAILS OF POST-TRIAL REPORT    5.  Measures of Effectiveness for Trial Report. The measures of effectiveness are as follows:    a. PoC of Logic-Based Gantry System. The system shall be able to determine the accuracy of presence whether personnel:  (1) Is within ship  (2) have exited the hangar and left the ship or conducting works on the helideck.    b. PoC of Automated Safety Monitoring. The system shall measure accuracy on whether personnel have entered identified hazard area prior to safety measures being taken (i.e. RADHAZ/weapon training enforced and pipe made). Secondly, system shall flag out any personnel who has entered this compartment within 30 secs to the QM via the MMI.    c. Automated Attendance Tracking within Ship. The accuracy of the system in providing attendance at any point of time and the movement of personnel will have to be derived.]    d. Digitised Attendance and Visitor Records. Attendance records shall be saved upon trigger by QM as well as and crew and visitor tracking every minute so that it is possible to track back on personnel who has been onboard ship through the day. This data shall also be available to the Authority at any time.     FAMILIARISATION     OFFICIAL (CLOSED)  \\nA-4 OFFICIAL (CLOSED)  6. Prior to the commencement of the trial, the Supplier shall provide a familiarisation session on the operation and usage of the hardware and software for up to 20 participants at the Authority’s premises.     PUBLICATIONS    7.  The Supplier shall provide the following documents as part of the tender submission:     a. User Manual    b. Handling Instructions    QUALITY, INSPECTION, AND ACCEPTANCE    8. Deliverables. The Supplier shall (1) deliver two fully operational MMMMLite systems with the above functional requirements within 3 months to commence active trial of 30 days, and (2) a comprehensive trial report on the PoC (1 month after active trial period) quantifying the system’s accuracy and efficiency (based on the time taken to determine the location of a transiting personnel).    WARRANTY    9. The Supplier shall provide a guarantee against any manufacturing defects for the trial period. The Supplier shall repair or replace any above-mentioned defects at no additional cost to the Authority during which the trial will be considered paused. Hardware warranty shall be for 1 year.    OPTION FOR SCALE-UP    10. Option for Scale-Up. The Supplier shall provide an option for proliferation should the PoC be successful in the form of supply and commission of additional ship-sets of MMMM-Lite. The scale up shall be quoted on a per ship basis with assumption of similar scale. The option shall be valid for 1 year after submission and acceptance of trial report. Each ship’s installation shall be completed within 3 months of PO. Maintenance on a per-ship basis shall also be quoted.    CLARIFICATIONS    OFFICIAL (CLOSED)  \\nA-5 OFFICIAL (CLOSED)  11. For clarifications regarding the Requirement Specifications, please contact the following personnel:    S/N  Rank/Name  Contact Details  1  ME4 YYY YYY YYY 98888888 2  ME5 XXX XX  98888889      ME4 YYY YYY YYY Senior Combat System Engineer With Inputs from : ME6, ME5, ME4    ', pdf_path='database/aor/AOR-sample1.pdf', cached_dict={})]\n",
      "Retrived Information: Found AORDH928/6/4 related to the query number DH928\n",
      "Calling Function:  direct_answer  | Query:  AOR no. DH928/6/4 has a budget for Hardware for 2 FFSes at 100000.0, a budget for Software and Licenses for 2 FFSes at 15000.0, and a budget for IT man-effort and Professional Services at 90000.0. The expiry date is 2024-08-16. It describes approval of requirement specifications for the implementation of MMMM-Lite on two Frigates as a trial for potential scale-up.\n",
      "Direct Answer\n",
      "Question:  \n",
      "Base on what you've found, provide your answer to the user query. Do you make up information, mention you did not find relevant information if the provided information is not relevant.\n",
      "\n",
      "Retrieved Invoice: \n",
      "\n",
      "Retrieved AOR: AOR no. DH928/6/4\n",
      "Budget for Hardware for 2 FFSes is 100000.0\n",
      "Budget for Software and Licenses for 2 FFSes is 15000.0\n",
      "Budget for IT man-effort and Professional Services is 90000.0\n",
      "Expiry date: 2024-08-16\n",
      "Description: Approval of requirement specifications for the implementation of MMMM-Lite on two Frigates as a trial for potential scale-up.\n",
      "\n",
      "User query: Tell me about AOR DH928\n",
      "\n",
      "Provide your thought and answer. For instance: \n",
      "Thought: xxx\n",
      "Answer: xxx\n",
      "\n",
      "        Thought: The user is asking for information about AOR DH928. The retrieved AOR provides detailed information about this particular AOR, including budget allocations, expiry date, and a description of the project.\n",
      "        Answer: AOR no. DH928/6/4 is related to the approval of requirement specifications for the implementation of MMMM-Lite on two Frigates as a trial for potential scale-up. The budget allocated includes 100,000 for hardware for two FFSes, 15,000 for software and licenses for the same, and 90,000 for IT man-effort and professional services. The AOR is set to expire on August 16, 2024.\n",
      "Final Answer: AOR no. DH928/6/4 is related to the approval of requirement specifications for the implementation of MMMM-Lite on two Frigates as a trial for potential scale-up. The budget allocated includes 100,000 for hardware for two FFSes, 15,000 for software and licenses for the same, and 90,000 for IT man-effort and professional services. The AOR is set to expire on August 16, 2024.\n",
      "Calling Function:  search_invoice_with_no  | Query:  01141833\n",
      "Retrived Information: Found Invoice01141833 related to the query number 01141833\n",
      "Calling Function:  query_invoice_detail  | Query:  01141833\n",
      "Final Answer: The invoice No. 01141833 is about an agency service fee and miscellaneous fee provided by Shanghai Kaiyuan International Logistics Co., Ltd. to Hongbai Trading (Shanghai) Co., Ltd.\n",
      "Calling Function:  search_invoice_with_no  | Query:  invoice number\n",
      "Retrived Information: No Invoice found related to the query number invoice number\n"
     ]
    },
    {
     "ename": "KeyboardInterrupt",
     "evalue": "",
     "output_type": "error",
     "traceback": [
      "\u001b[0;31m---------------------------------------------------------------------------\u001b[0m",
      "\u001b[0;31mKeyboardInterrupt\u001b[0m                         Traceback (most recent call last)",
      "Cell \u001b[0;32mIn[2], line 12\u001b[0m\n\u001b[1;32m      9\u001b[0m agent_response \u001b[38;5;241m=\u001b[39m agent\u001b[38;5;241m.\u001b[39mchat(user_message)\n\u001b[1;32m     11\u001b[0m user_message \u001b[38;5;241m=\u001b[39m \u001b[38;5;124m\"\u001b[39m\u001b[38;5;124mIs this invoice covered by the AOR?\u001b[39m\u001b[38;5;124m\"\u001b[39m\n\u001b[0;32m---> 12\u001b[0m agent_response \u001b[38;5;241m=\u001b[39m agent\u001b[38;5;241m.\u001b[39mchat(user_message)\n",
      "File \u001b[0;32m~/Implementation/payflow/src/agent.py:9\u001b[0m, in \u001b[0;36mRagAgent.chat\u001b[0;34m(self, user_message)\u001b[0m\n\u001b[1;32m      8\u001b[0m \u001b[38;5;28;01mdef\u001b[39;00m \u001b[38;5;21mchat\u001b[39m(\u001b[38;5;28mself\u001b[39m, user_message):\n\u001b[0;32m----> 9\u001b[0m     agent_response, \u001b[38;5;28mself\u001b[39m\u001b[38;5;241m.\u001b[39mmemory \u001b[38;5;241m=\u001b[39m query_memory(user_message, \u001b[38;5;28mself\u001b[39m\u001b[38;5;241m.\u001b[39mmemory)\n\u001b[1;32m     10\u001b[0m     \u001b[38;5;28mself\u001b[39m\u001b[38;5;241m.\u001b[39mmemory\u001b[38;5;241m.\u001b[39mupdate_user_response(user_message)\n\u001b[1;32m     11\u001b[0m     \u001b[38;5;28mself\u001b[39m\u001b[38;5;241m.\u001b[39mmemory\u001b[38;5;241m.\u001b[39mupdate_agent_response(agent_response)\n",
      "File \u001b[0;32m~/Implementation/payflow/src/search.py:646\u001b[0m, in \u001b[0;36mquery_memory\u001b[0;34m(query, memory)\u001b[0m\n\u001b[1;32m    644\u001b[0m memory\u001b[38;5;241m.\u001b[39mlast_call \u001b[38;5;241m=\u001b[39m []\n\u001b[1;32m    645\u001b[0m \u001b[38;5;28;01mwhile\u001b[39;00m \u001b[38;5;129;01mnot\u001b[39;00m terminate:\n\u001b[0;32m--> 646\u001b[0m     info_str, memory, terminate \u001b[38;5;241m=\u001b[39m query_memory_single(query, memory)\n\u001b[1;32m    647\u001b[0m     \u001b[38;5;28;01mif\u001b[39;00m \u001b[38;5;129;01mnot\u001b[39;00m terminate:\n\u001b[1;32m    648\u001b[0m         \u001b[38;5;28mprint\u001b[39m(\u001b[38;5;124mf\u001b[39m\u001b[38;5;124m\"\u001b[39m\u001b[38;5;124mRetrived Information: \u001b[39m\u001b[38;5;132;01m{\u001b[39;00minfo_str\u001b[38;5;132;01m}\u001b[39;00m\u001b[38;5;124m\"\u001b[39m)\n",
      "File \u001b[0;32m~/Implementation/payflow/src/search.py:601\u001b[0m, in \u001b[0;36mquery_memory_single\u001b[0;34m(user_query, memory)\u001b[0m\n\u001b[1;32m    598\u001b[0m \u001b[38;5;66;03m# Call Response \u001b[39;00m\n\u001b[1;32m    599\u001b[0m call_prompt \u001b[38;5;241m=\u001b[39m route_query(user_query, memory, first_query\u001b[38;5;241m=\u001b[39m\u001b[38;5;28;01mTrue\u001b[39;00m)\n\u001b[0;32m--> 601\u001b[0m response \u001b[38;5;241m=\u001b[39m get_oai_response(memory\u001b[38;5;241m.\u001b[39mupdate_user_response(call_prompt, temp\u001b[38;5;241m=\u001b[39m\u001b[38;5;28;01mTrue\u001b[39;00m), system_prompt\u001b[38;5;241m=\u001b[39mSYSTEM_PROMPT) \u001b[38;5;66;03m# Shove historical information into the memory (temporarily)\u001b[39;00m\n\u001b[1;32m    602\u001b[0m response_dict \u001b[38;5;241m=\u001b[39m parse_json_response(response)\n\u001b[1;32m    604\u001b[0m \u001b[38;5;66;03m# Extract function name and query\u001b[39;00m\n",
      "File \u001b[0;32m~/Implementation/payflow/src/utils.py:47\u001b[0m, in \u001b[0;36mget_oai_response\u001b[0;34m(prompt, system_prompt, img, img_type)\u001b[0m\n\u001b[1;32m     40\u001b[0m     text_content \u001b[38;5;241m=\u001b[39m [{\u001b[38;5;124m\"\u001b[39m\u001b[38;5;124mtype\u001b[39m\u001b[38;5;124m\"\u001b[39m: \u001b[38;5;124m\"\u001b[39m\u001b[38;5;124mtext\u001b[39m\u001b[38;5;124m\"\u001b[39m, \u001b[38;5;124m\"\u001b[39m\u001b[38;5;124mtext\u001b[39m\u001b[38;5;124m\"\u001b[39m: text}]\n\u001b[1;32m     42\u001b[0m     msg\u001b[38;5;241m.\u001b[39mappend({\n\u001b[1;32m     43\u001b[0m         \u001b[38;5;124m\"\u001b[39m\u001b[38;5;124mrole\u001b[39m\u001b[38;5;124m\"\u001b[39m: \u001b[38;5;124m\"\u001b[39m\u001b[38;5;124muser\u001b[39m\u001b[38;5;124m\"\u001b[39m,\n\u001b[1;32m     44\u001b[0m         \u001b[38;5;124m\"\u001b[39m\u001b[38;5;124mcontent\u001b[39m\u001b[38;5;124m\"\u001b[39m: text_content \u001b[38;5;241m+\u001b[39m image_content,\n\u001b[1;32m     45\u001b[0m     })\n\u001b[0;32m---> 47\u001b[0m response \u001b[38;5;241m=\u001b[39m oai_client\u001b[38;5;241m.\u001b[39mchat\u001b[38;5;241m.\u001b[39mcompletions\u001b[38;5;241m.\u001b[39mcreate(\n\u001b[1;32m     48\u001b[0m     model\u001b[38;5;241m=\u001b[39m\u001b[38;5;124m\"\u001b[39m\u001b[38;5;124mgpt-4o-2024-08-06\u001b[39m\u001b[38;5;124m\"\u001b[39m,\n\u001b[1;32m     49\u001b[0m     messages\u001b[38;5;241m=\u001b[39mmsg,\n\u001b[1;32m     50\u001b[0m )\n\u001b[1;32m     52\u001b[0m \u001b[38;5;66;03m# print(\"Response: \", response.choices[0].message.content)\u001b[39;00m\n\u001b[1;32m     54\u001b[0m \u001b[38;5;28;01mreturn\u001b[39;00m response\u001b[38;5;241m.\u001b[39mchoices[\u001b[38;5;241m0\u001b[39m]\u001b[38;5;241m.\u001b[39mmessage\u001b[38;5;241m.\u001b[39mcontent\n",
      "File \u001b[0;32m/opt/homebrew/anaconda3/lib/python3.11/site-packages/openai/_utils/_utils.py:277\u001b[0m, in \u001b[0;36mrequired_args.<locals>.inner.<locals>.wrapper\u001b[0;34m(*args, **kwargs)\u001b[0m\n\u001b[1;32m    275\u001b[0m             msg \u001b[38;5;241m=\u001b[39m \u001b[38;5;124mf\u001b[39m\u001b[38;5;124m\"\u001b[39m\u001b[38;5;124mMissing required argument: \u001b[39m\u001b[38;5;132;01m{\u001b[39;00mquote(missing[\u001b[38;5;241m0\u001b[39m])\u001b[38;5;132;01m}\u001b[39;00m\u001b[38;5;124m\"\u001b[39m\n\u001b[1;32m    276\u001b[0m     \u001b[38;5;28;01mraise\u001b[39;00m \u001b[38;5;167;01mTypeError\u001b[39;00m(msg)\n\u001b[0;32m--> 277\u001b[0m \u001b[38;5;28;01mreturn\u001b[39;00m func(\u001b[38;5;241m*\u001b[39margs, \u001b[38;5;241m*\u001b[39m\u001b[38;5;241m*\u001b[39mkwargs)\n",
      "File \u001b[0;32m/opt/homebrew/anaconda3/lib/python3.11/site-packages/openai/resources/chat/completions.py:606\u001b[0m, in \u001b[0;36mCompletions.create\u001b[0;34m(self, messages, model, frequency_penalty, function_call, functions, logit_bias, logprobs, max_tokens, n, parallel_tool_calls, presence_penalty, response_format, seed, stop, stream, stream_options, temperature, tool_choice, tools, top_logprobs, top_p, user, extra_headers, extra_query, extra_body, timeout)\u001b[0m\n\u001b[1;32m    573\u001b[0m \u001b[38;5;129m@required_args\u001b[39m([\u001b[38;5;124m\"\u001b[39m\u001b[38;5;124mmessages\u001b[39m\u001b[38;5;124m\"\u001b[39m, \u001b[38;5;124m\"\u001b[39m\u001b[38;5;124mmodel\u001b[39m\u001b[38;5;124m\"\u001b[39m], [\u001b[38;5;124m\"\u001b[39m\u001b[38;5;124mmessages\u001b[39m\u001b[38;5;124m\"\u001b[39m, \u001b[38;5;124m\"\u001b[39m\u001b[38;5;124mmodel\u001b[39m\u001b[38;5;124m\"\u001b[39m, \u001b[38;5;124m\"\u001b[39m\u001b[38;5;124mstream\u001b[39m\u001b[38;5;124m\"\u001b[39m])\n\u001b[1;32m    574\u001b[0m \u001b[38;5;28;01mdef\u001b[39;00m \u001b[38;5;21mcreate\u001b[39m(\n\u001b[1;32m    575\u001b[0m     \u001b[38;5;28mself\u001b[39m,\n\u001b[0;32m   (...)\u001b[0m\n\u001b[1;32m    604\u001b[0m     timeout: \u001b[38;5;28mfloat\u001b[39m \u001b[38;5;241m|\u001b[39m httpx\u001b[38;5;241m.\u001b[39mTimeout \u001b[38;5;241m|\u001b[39m \u001b[38;5;28;01mNone\u001b[39;00m \u001b[38;5;241m|\u001b[39m NotGiven \u001b[38;5;241m=\u001b[39m NOT_GIVEN,\n\u001b[1;32m    605\u001b[0m ) \u001b[38;5;241m-\u001b[39m\u001b[38;5;241m>\u001b[39m ChatCompletion \u001b[38;5;241m|\u001b[39m Stream[ChatCompletionChunk]:\n\u001b[0;32m--> 606\u001b[0m     \u001b[38;5;28;01mreturn\u001b[39;00m \u001b[38;5;28mself\u001b[39m\u001b[38;5;241m.\u001b[39m_post(\n\u001b[1;32m    607\u001b[0m         \u001b[38;5;124m\"\u001b[39m\u001b[38;5;124m/chat/completions\u001b[39m\u001b[38;5;124m\"\u001b[39m,\n\u001b[1;32m    608\u001b[0m         body\u001b[38;5;241m=\u001b[39mmaybe_transform(\n\u001b[1;32m    609\u001b[0m             {\n\u001b[1;32m    610\u001b[0m                 \u001b[38;5;124m\"\u001b[39m\u001b[38;5;124mmessages\u001b[39m\u001b[38;5;124m\"\u001b[39m: messages,\n\u001b[1;32m    611\u001b[0m                 \u001b[38;5;124m\"\u001b[39m\u001b[38;5;124mmodel\u001b[39m\u001b[38;5;124m\"\u001b[39m: model,\n\u001b[1;32m    612\u001b[0m                 \u001b[38;5;124m\"\u001b[39m\u001b[38;5;124mfrequency_penalty\u001b[39m\u001b[38;5;124m\"\u001b[39m: frequency_penalty,\n\u001b[1;32m    613\u001b[0m                 \u001b[38;5;124m\"\u001b[39m\u001b[38;5;124mfunction_call\u001b[39m\u001b[38;5;124m\"\u001b[39m: function_call,\n\u001b[1;32m    614\u001b[0m                 \u001b[38;5;124m\"\u001b[39m\u001b[38;5;124mfunctions\u001b[39m\u001b[38;5;124m\"\u001b[39m: functions,\n\u001b[1;32m    615\u001b[0m                 \u001b[38;5;124m\"\u001b[39m\u001b[38;5;124mlogit_bias\u001b[39m\u001b[38;5;124m\"\u001b[39m: logit_bias,\n\u001b[1;32m    616\u001b[0m                 \u001b[38;5;124m\"\u001b[39m\u001b[38;5;124mlogprobs\u001b[39m\u001b[38;5;124m\"\u001b[39m: logprobs,\n\u001b[1;32m    617\u001b[0m                 \u001b[38;5;124m\"\u001b[39m\u001b[38;5;124mmax_tokens\u001b[39m\u001b[38;5;124m\"\u001b[39m: max_tokens,\n\u001b[1;32m    618\u001b[0m                 \u001b[38;5;124m\"\u001b[39m\u001b[38;5;124mn\u001b[39m\u001b[38;5;124m\"\u001b[39m: n,\n\u001b[1;32m    619\u001b[0m                 \u001b[38;5;124m\"\u001b[39m\u001b[38;5;124mparallel_tool_calls\u001b[39m\u001b[38;5;124m\"\u001b[39m: parallel_tool_calls,\n\u001b[1;32m    620\u001b[0m                 \u001b[38;5;124m\"\u001b[39m\u001b[38;5;124mpresence_penalty\u001b[39m\u001b[38;5;124m\"\u001b[39m: presence_penalty,\n\u001b[1;32m    621\u001b[0m                 \u001b[38;5;124m\"\u001b[39m\u001b[38;5;124mresponse_format\u001b[39m\u001b[38;5;124m\"\u001b[39m: response_format,\n\u001b[1;32m    622\u001b[0m                 \u001b[38;5;124m\"\u001b[39m\u001b[38;5;124mseed\u001b[39m\u001b[38;5;124m\"\u001b[39m: seed,\n\u001b[1;32m    623\u001b[0m                 \u001b[38;5;124m\"\u001b[39m\u001b[38;5;124mstop\u001b[39m\u001b[38;5;124m\"\u001b[39m: stop,\n\u001b[1;32m    624\u001b[0m                 \u001b[38;5;124m\"\u001b[39m\u001b[38;5;124mstream\u001b[39m\u001b[38;5;124m\"\u001b[39m: stream,\n\u001b[1;32m    625\u001b[0m                 \u001b[38;5;124m\"\u001b[39m\u001b[38;5;124mstream_options\u001b[39m\u001b[38;5;124m\"\u001b[39m: stream_options,\n\u001b[1;32m    626\u001b[0m                 \u001b[38;5;124m\"\u001b[39m\u001b[38;5;124mtemperature\u001b[39m\u001b[38;5;124m\"\u001b[39m: temperature,\n\u001b[1;32m    627\u001b[0m                 \u001b[38;5;124m\"\u001b[39m\u001b[38;5;124mtool_choice\u001b[39m\u001b[38;5;124m\"\u001b[39m: tool_choice,\n\u001b[1;32m    628\u001b[0m                 \u001b[38;5;124m\"\u001b[39m\u001b[38;5;124mtools\u001b[39m\u001b[38;5;124m\"\u001b[39m: tools,\n\u001b[1;32m    629\u001b[0m                 \u001b[38;5;124m\"\u001b[39m\u001b[38;5;124mtop_logprobs\u001b[39m\u001b[38;5;124m\"\u001b[39m: top_logprobs,\n\u001b[1;32m    630\u001b[0m                 \u001b[38;5;124m\"\u001b[39m\u001b[38;5;124mtop_p\u001b[39m\u001b[38;5;124m\"\u001b[39m: top_p,\n\u001b[1;32m    631\u001b[0m                 \u001b[38;5;124m\"\u001b[39m\u001b[38;5;124muser\u001b[39m\u001b[38;5;124m\"\u001b[39m: user,\n\u001b[1;32m    632\u001b[0m             },\n\u001b[1;32m    633\u001b[0m             completion_create_params\u001b[38;5;241m.\u001b[39mCompletionCreateParams,\n\u001b[1;32m    634\u001b[0m         ),\n\u001b[1;32m    635\u001b[0m         options\u001b[38;5;241m=\u001b[39mmake_request_options(\n\u001b[1;32m    636\u001b[0m             extra_headers\u001b[38;5;241m=\u001b[39mextra_headers, extra_query\u001b[38;5;241m=\u001b[39mextra_query, extra_body\u001b[38;5;241m=\u001b[39mextra_body, timeout\u001b[38;5;241m=\u001b[39mtimeout\n\u001b[1;32m    637\u001b[0m         ),\n\u001b[1;32m    638\u001b[0m         cast_to\u001b[38;5;241m=\u001b[39mChatCompletion,\n\u001b[1;32m    639\u001b[0m         stream\u001b[38;5;241m=\u001b[39mstream \u001b[38;5;129;01mor\u001b[39;00m \u001b[38;5;28;01mFalse\u001b[39;00m,\n\u001b[1;32m    640\u001b[0m         stream_cls\u001b[38;5;241m=\u001b[39mStream[ChatCompletionChunk],\n\u001b[1;32m    641\u001b[0m     )\n",
      "File \u001b[0;32m/opt/homebrew/anaconda3/lib/python3.11/site-packages/openai/_base_client.py:1240\u001b[0m, in \u001b[0;36mSyncAPIClient.post\u001b[0;34m(self, path, cast_to, body, options, files, stream, stream_cls)\u001b[0m\n\u001b[1;32m   1226\u001b[0m \u001b[38;5;28;01mdef\u001b[39;00m \u001b[38;5;21mpost\u001b[39m(\n\u001b[1;32m   1227\u001b[0m     \u001b[38;5;28mself\u001b[39m,\n\u001b[1;32m   1228\u001b[0m     path: \u001b[38;5;28mstr\u001b[39m,\n\u001b[0;32m   (...)\u001b[0m\n\u001b[1;32m   1235\u001b[0m     stream_cls: \u001b[38;5;28mtype\u001b[39m[_StreamT] \u001b[38;5;241m|\u001b[39m \u001b[38;5;28;01mNone\u001b[39;00m \u001b[38;5;241m=\u001b[39m \u001b[38;5;28;01mNone\u001b[39;00m,\n\u001b[1;32m   1236\u001b[0m ) \u001b[38;5;241m-\u001b[39m\u001b[38;5;241m>\u001b[39m ResponseT \u001b[38;5;241m|\u001b[39m _StreamT:\n\u001b[1;32m   1237\u001b[0m     opts \u001b[38;5;241m=\u001b[39m FinalRequestOptions\u001b[38;5;241m.\u001b[39mconstruct(\n\u001b[1;32m   1238\u001b[0m         method\u001b[38;5;241m=\u001b[39m\u001b[38;5;124m\"\u001b[39m\u001b[38;5;124mpost\u001b[39m\u001b[38;5;124m\"\u001b[39m, url\u001b[38;5;241m=\u001b[39mpath, json_data\u001b[38;5;241m=\u001b[39mbody, files\u001b[38;5;241m=\u001b[39mto_httpx_files(files), \u001b[38;5;241m*\u001b[39m\u001b[38;5;241m*\u001b[39moptions\n\u001b[1;32m   1239\u001b[0m     )\n\u001b[0;32m-> 1240\u001b[0m     \u001b[38;5;28;01mreturn\u001b[39;00m cast(ResponseT, \u001b[38;5;28mself\u001b[39m\u001b[38;5;241m.\u001b[39mrequest(cast_to, opts, stream\u001b[38;5;241m=\u001b[39mstream, stream_cls\u001b[38;5;241m=\u001b[39mstream_cls))\n",
      "File \u001b[0;32m/opt/homebrew/anaconda3/lib/python3.11/site-packages/openai/_base_client.py:921\u001b[0m, in \u001b[0;36mSyncAPIClient.request\u001b[0;34m(self, cast_to, options, remaining_retries, stream, stream_cls)\u001b[0m\n\u001b[1;32m    912\u001b[0m \u001b[38;5;28;01mdef\u001b[39;00m \u001b[38;5;21mrequest\u001b[39m(\n\u001b[1;32m    913\u001b[0m     \u001b[38;5;28mself\u001b[39m,\n\u001b[1;32m    914\u001b[0m     cast_to: Type[ResponseT],\n\u001b[0;32m   (...)\u001b[0m\n\u001b[1;32m    919\u001b[0m     stream_cls: \u001b[38;5;28mtype\u001b[39m[_StreamT] \u001b[38;5;241m|\u001b[39m \u001b[38;5;28;01mNone\u001b[39;00m \u001b[38;5;241m=\u001b[39m \u001b[38;5;28;01mNone\u001b[39;00m,\n\u001b[1;32m    920\u001b[0m ) \u001b[38;5;241m-\u001b[39m\u001b[38;5;241m>\u001b[39m ResponseT \u001b[38;5;241m|\u001b[39m _StreamT:\n\u001b[0;32m--> 921\u001b[0m     \u001b[38;5;28;01mreturn\u001b[39;00m \u001b[38;5;28mself\u001b[39m\u001b[38;5;241m.\u001b[39m_request(\n\u001b[1;32m    922\u001b[0m         cast_to\u001b[38;5;241m=\u001b[39mcast_to,\n\u001b[1;32m    923\u001b[0m         options\u001b[38;5;241m=\u001b[39moptions,\n\u001b[1;32m    924\u001b[0m         stream\u001b[38;5;241m=\u001b[39mstream,\n\u001b[1;32m    925\u001b[0m         stream_cls\u001b[38;5;241m=\u001b[39mstream_cls,\n\u001b[1;32m    926\u001b[0m         remaining_retries\u001b[38;5;241m=\u001b[39mremaining_retries,\n\u001b[1;32m    927\u001b[0m     )\n",
      "File \u001b[0;32m/opt/homebrew/anaconda3/lib/python3.11/site-packages/openai/_base_client.py:952\u001b[0m, in \u001b[0;36mSyncAPIClient._request\u001b[0;34m(self, cast_to, options, remaining_retries, stream, stream_cls)\u001b[0m\n\u001b[1;32m    949\u001b[0m log\u001b[38;5;241m.\u001b[39mdebug(\u001b[38;5;124m\"\u001b[39m\u001b[38;5;124mSending HTTP Request: \u001b[39m\u001b[38;5;132;01m%s\u001b[39;00m\u001b[38;5;124m \u001b[39m\u001b[38;5;132;01m%s\u001b[39;00m\u001b[38;5;124m\"\u001b[39m, request\u001b[38;5;241m.\u001b[39mmethod, request\u001b[38;5;241m.\u001b[39murl)\n\u001b[1;32m    951\u001b[0m \u001b[38;5;28;01mtry\u001b[39;00m:\n\u001b[0;32m--> 952\u001b[0m     response \u001b[38;5;241m=\u001b[39m \u001b[38;5;28mself\u001b[39m\u001b[38;5;241m.\u001b[39m_client\u001b[38;5;241m.\u001b[39msend(\n\u001b[1;32m    953\u001b[0m         request,\n\u001b[1;32m    954\u001b[0m         stream\u001b[38;5;241m=\u001b[39mstream \u001b[38;5;129;01mor\u001b[39;00m \u001b[38;5;28mself\u001b[39m\u001b[38;5;241m.\u001b[39m_should_stream_response_body(request\u001b[38;5;241m=\u001b[39mrequest),\n\u001b[1;32m    955\u001b[0m         \u001b[38;5;241m*\u001b[39m\u001b[38;5;241m*\u001b[39mkwargs,\n\u001b[1;32m    956\u001b[0m     )\n\u001b[1;32m    957\u001b[0m \u001b[38;5;28;01mexcept\u001b[39;00m httpx\u001b[38;5;241m.\u001b[39mTimeoutException \u001b[38;5;28;01mas\u001b[39;00m err:\n\u001b[1;32m    958\u001b[0m     log\u001b[38;5;241m.\u001b[39mdebug(\u001b[38;5;124m\"\u001b[39m\u001b[38;5;124mEncountered httpx.TimeoutException\u001b[39m\u001b[38;5;124m\"\u001b[39m, exc_info\u001b[38;5;241m=\u001b[39m\u001b[38;5;28;01mTrue\u001b[39;00m)\n",
      "File \u001b[0;32m/opt/homebrew/anaconda3/lib/python3.11/site-packages/httpx/_client.py:914\u001b[0m, in \u001b[0;36mClient.send\u001b[0;34m(self, request, stream, auth, follow_redirects)\u001b[0m\n\u001b[1;32m    906\u001b[0m follow_redirects \u001b[38;5;241m=\u001b[39m (\n\u001b[1;32m    907\u001b[0m     \u001b[38;5;28mself\u001b[39m\u001b[38;5;241m.\u001b[39mfollow_redirects\n\u001b[1;32m    908\u001b[0m     \u001b[38;5;28;01mif\u001b[39;00m \u001b[38;5;28misinstance\u001b[39m(follow_redirects, UseClientDefault)\n\u001b[1;32m    909\u001b[0m     \u001b[38;5;28;01melse\u001b[39;00m follow_redirects\n\u001b[1;32m    910\u001b[0m )\n\u001b[1;32m    912\u001b[0m auth \u001b[38;5;241m=\u001b[39m \u001b[38;5;28mself\u001b[39m\u001b[38;5;241m.\u001b[39m_build_request_auth(request, auth)\n\u001b[0;32m--> 914\u001b[0m response \u001b[38;5;241m=\u001b[39m \u001b[38;5;28mself\u001b[39m\u001b[38;5;241m.\u001b[39m_send_handling_auth(\n\u001b[1;32m    915\u001b[0m     request,\n\u001b[1;32m    916\u001b[0m     auth\u001b[38;5;241m=\u001b[39mauth,\n\u001b[1;32m    917\u001b[0m     follow_redirects\u001b[38;5;241m=\u001b[39mfollow_redirects,\n\u001b[1;32m    918\u001b[0m     history\u001b[38;5;241m=\u001b[39m[],\n\u001b[1;32m    919\u001b[0m )\n\u001b[1;32m    920\u001b[0m \u001b[38;5;28;01mtry\u001b[39;00m:\n\u001b[1;32m    921\u001b[0m     \u001b[38;5;28;01mif\u001b[39;00m \u001b[38;5;129;01mnot\u001b[39;00m stream:\n",
      "File \u001b[0;32m/opt/homebrew/anaconda3/lib/python3.11/site-packages/httpx/_client.py:942\u001b[0m, in \u001b[0;36mClient._send_handling_auth\u001b[0;34m(self, request, auth, follow_redirects, history)\u001b[0m\n\u001b[1;32m    939\u001b[0m request \u001b[38;5;241m=\u001b[39m \u001b[38;5;28mnext\u001b[39m(auth_flow)\n\u001b[1;32m    941\u001b[0m \u001b[38;5;28;01mwhile\u001b[39;00m \u001b[38;5;28;01mTrue\u001b[39;00m:\n\u001b[0;32m--> 942\u001b[0m     response \u001b[38;5;241m=\u001b[39m \u001b[38;5;28mself\u001b[39m\u001b[38;5;241m.\u001b[39m_send_handling_redirects(\n\u001b[1;32m    943\u001b[0m         request,\n\u001b[1;32m    944\u001b[0m         follow_redirects\u001b[38;5;241m=\u001b[39mfollow_redirects,\n\u001b[1;32m    945\u001b[0m         history\u001b[38;5;241m=\u001b[39mhistory,\n\u001b[1;32m    946\u001b[0m     )\n\u001b[1;32m    947\u001b[0m     \u001b[38;5;28;01mtry\u001b[39;00m:\n\u001b[1;32m    948\u001b[0m         \u001b[38;5;28;01mtry\u001b[39;00m:\n",
      "File \u001b[0;32m/opt/homebrew/anaconda3/lib/python3.11/site-packages/httpx/_client.py:979\u001b[0m, in \u001b[0;36mClient._send_handling_redirects\u001b[0;34m(self, request, follow_redirects, history)\u001b[0m\n\u001b[1;32m    976\u001b[0m \u001b[38;5;28;01mfor\u001b[39;00m hook \u001b[38;5;129;01min\u001b[39;00m \u001b[38;5;28mself\u001b[39m\u001b[38;5;241m.\u001b[39m_event_hooks[\u001b[38;5;124m\"\u001b[39m\u001b[38;5;124mrequest\u001b[39m\u001b[38;5;124m\"\u001b[39m]:\n\u001b[1;32m    977\u001b[0m     hook(request)\n\u001b[0;32m--> 979\u001b[0m response \u001b[38;5;241m=\u001b[39m \u001b[38;5;28mself\u001b[39m\u001b[38;5;241m.\u001b[39m_send_single_request(request)\n\u001b[1;32m    980\u001b[0m \u001b[38;5;28;01mtry\u001b[39;00m:\n\u001b[1;32m    981\u001b[0m     \u001b[38;5;28;01mfor\u001b[39;00m hook \u001b[38;5;129;01min\u001b[39;00m \u001b[38;5;28mself\u001b[39m\u001b[38;5;241m.\u001b[39m_event_hooks[\u001b[38;5;124m\"\u001b[39m\u001b[38;5;124mresponse\u001b[39m\u001b[38;5;124m\"\u001b[39m]:\n",
      "File \u001b[0;32m/opt/homebrew/anaconda3/lib/python3.11/site-packages/httpx/_client.py:1015\u001b[0m, in \u001b[0;36mClient._send_single_request\u001b[0;34m(self, request)\u001b[0m\n\u001b[1;32m   1010\u001b[0m     \u001b[38;5;28;01mraise\u001b[39;00m \u001b[38;5;167;01mRuntimeError\u001b[39;00m(\n\u001b[1;32m   1011\u001b[0m         \u001b[38;5;124m\"\u001b[39m\u001b[38;5;124mAttempted to send an async request with a sync Client instance.\u001b[39m\u001b[38;5;124m\"\u001b[39m\n\u001b[1;32m   1012\u001b[0m     )\n\u001b[1;32m   1014\u001b[0m \u001b[38;5;28;01mwith\u001b[39;00m request_context(request\u001b[38;5;241m=\u001b[39mrequest):\n\u001b[0;32m-> 1015\u001b[0m     response \u001b[38;5;241m=\u001b[39m transport\u001b[38;5;241m.\u001b[39mhandle_request(request)\n\u001b[1;32m   1017\u001b[0m \u001b[38;5;28;01massert\u001b[39;00m \u001b[38;5;28misinstance\u001b[39m(response\u001b[38;5;241m.\u001b[39mstream, SyncByteStream)\n\u001b[1;32m   1019\u001b[0m response\u001b[38;5;241m.\u001b[39mrequest \u001b[38;5;241m=\u001b[39m request\n",
      "File \u001b[0;32m/opt/homebrew/anaconda3/lib/python3.11/site-packages/httpx/_transports/default.py:233\u001b[0m, in \u001b[0;36mHTTPTransport.handle_request\u001b[0;34m(self, request)\u001b[0m\n\u001b[1;32m    220\u001b[0m req \u001b[38;5;241m=\u001b[39m httpcore\u001b[38;5;241m.\u001b[39mRequest(\n\u001b[1;32m    221\u001b[0m     method\u001b[38;5;241m=\u001b[39mrequest\u001b[38;5;241m.\u001b[39mmethod,\n\u001b[1;32m    222\u001b[0m     url\u001b[38;5;241m=\u001b[39mhttpcore\u001b[38;5;241m.\u001b[39mURL(\n\u001b[0;32m   (...)\u001b[0m\n\u001b[1;32m    230\u001b[0m     extensions\u001b[38;5;241m=\u001b[39mrequest\u001b[38;5;241m.\u001b[39mextensions,\n\u001b[1;32m    231\u001b[0m )\n\u001b[1;32m    232\u001b[0m \u001b[38;5;28;01mwith\u001b[39;00m map_httpcore_exceptions():\n\u001b[0;32m--> 233\u001b[0m     resp \u001b[38;5;241m=\u001b[39m \u001b[38;5;28mself\u001b[39m\u001b[38;5;241m.\u001b[39m_pool\u001b[38;5;241m.\u001b[39mhandle_request(req)\n\u001b[1;32m    235\u001b[0m \u001b[38;5;28;01massert\u001b[39;00m \u001b[38;5;28misinstance\u001b[39m(resp\u001b[38;5;241m.\u001b[39mstream, typing\u001b[38;5;241m.\u001b[39mIterable)\n\u001b[1;32m    237\u001b[0m \u001b[38;5;28;01mreturn\u001b[39;00m Response(\n\u001b[1;32m    238\u001b[0m     status_code\u001b[38;5;241m=\u001b[39mresp\u001b[38;5;241m.\u001b[39mstatus,\n\u001b[1;32m    239\u001b[0m     headers\u001b[38;5;241m=\u001b[39mresp\u001b[38;5;241m.\u001b[39mheaders,\n\u001b[1;32m    240\u001b[0m     stream\u001b[38;5;241m=\u001b[39mResponseStream(resp\u001b[38;5;241m.\u001b[39mstream),\n\u001b[1;32m    241\u001b[0m     extensions\u001b[38;5;241m=\u001b[39mresp\u001b[38;5;241m.\u001b[39mextensions,\n\u001b[1;32m    242\u001b[0m )\n",
      "File \u001b[0;32m/opt/homebrew/anaconda3/lib/python3.11/site-packages/httpcore/_sync/connection_pool.py:216\u001b[0m, in \u001b[0;36mConnectionPool.handle_request\u001b[0;34m(self, request)\u001b[0m\n\u001b[1;32m    213\u001b[0m         closing \u001b[38;5;241m=\u001b[39m \u001b[38;5;28mself\u001b[39m\u001b[38;5;241m.\u001b[39m_assign_requests_to_connections()\n\u001b[1;32m    215\u001b[0m     \u001b[38;5;28mself\u001b[39m\u001b[38;5;241m.\u001b[39m_close_connections(closing)\n\u001b[0;32m--> 216\u001b[0m     \u001b[38;5;28;01mraise\u001b[39;00m exc \u001b[38;5;28;01mfrom\u001b[39;00m \u001b[38;5;28;01mNone\u001b[39;00m\n\u001b[1;32m    218\u001b[0m \u001b[38;5;66;03m# Return the response. Note that in this case we still have to manage\u001b[39;00m\n\u001b[1;32m    219\u001b[0m \u001b[38;5;66;03m# the point at which the response is closed.\u001b[39;00m\n\u001b[1;32m    220\u001b[0m \u001b[38;5;28;01massert\u001b[39;00m \u001b[38;5;28misinstance\u001b[39m(response\u001b[38;5;241m.\u001b[39mstream, Iterable)\n",
      "File \u001b[0;32m/opt/homebrew/anaconda3/lib/python3.11/site-packages/httpcore/_sync/connection_pool.py:196\u001b[0m, in \u001b[0;36mConnectionPool.handle_request\u001b[0;34m(self, request)\u001b[0m\n\u001b[1;32m    192\u001b[0m connection \u001b[38;5;241m=\u001b[39m pool_request\u001b[38;5;241m.\u001b[39mwait_for_connection(timeout\u001b[38;5;241m=\u001b[39mtimeout)\n\u001b[1;32m    194\u001b[0m \u001b[38;5;28;01mtry\u001b[39;00m:\n\u001b[1;32m    195\u001b[0m     \u001b[38;5;66;03m# Send the request on the assigned connection.\u001b[39;00m\n\u001b[0;32m--> 196\u001b[0m     response \u001b[38;5;241m=\u001b[39m connection\u001b[38;5;241m.\u001b[39mhandle_request(\n\u001b[1;32m    197\u001b[0m         pool_request\u001b[38;5;241m.\u001b[39mrequest\n\u001b[1;32m    198\u001b[0m     )\n\u001b[1;32m    199\u001b[0m \u001b[38;5;28;01mexcept\u001b[39;00m ConnectionNotAvailable:\n\u001b[1;32m    200\u001b[0m     \u001b[38;5;66;03m# In some cases a connection may initially be available to\u001b[39;00m\n\u001b[1;32m    201\u001b[0m     \u001b[38;5;66;03m# handle a request, but then become unavailable.\u001b[39;00m\n\u001b[1;32m    202\u001b[0m     \u001b[38;5;66;03m#\u001b[39;00m\n\u001b[1;32m    203\u001b[0m     \u001b[38;5;66;03m# In this case we clear the connection and try again.\u001b[39;00m\n\u001b[1;32m    204\u001b[0m     pool_request\u001b[38;5;241m.\u001b[39mclear_connection()\n",
      "File \u001b[0;32m/opt/homebrew/anaconda3/lib/python3.11/site-packages/httpcore/_sync/connection.py:101\u001b[0m, in \u001b[0;36mHTTPConnection.handle_request\u001b[0;34m(self, request)\u001b[0m\n\u001b[1;32m     98\u001b[0m     \u001b[38;5;28mself\u001b[39m\u001b[38;5;241m.\u001b[39m_connect_failed \u001b[38;5;241m=\u001b[39m \u001b[38;5;28;01mTrue\u001b[39;00m\n\u001b[1;32m     99\u001b[0m     \u001b[38;5;28;01mraise\u001b[39;00m exc\n\u001b[0;32m--> 101\u001b[0m \u001b[38;5;28;01mreturn\u001b[39;00m \u001b[38;5;28mself\u001b[39m\u001b[38;5;241m.\u001b[39m_connection\u001b[38;5;241m.\u001b[39mhandle_request(request)\n",
      "File \u001b[0;32m/opt/homebrew/anaconda3/lib/python3.11/site-packages/httpcore/_sync/http11.py:143\u001b[0m, in \u001b[0;36mHTTP11Connection.handle_request\u001b[0;34m(self, request)\u001b[0m\n\u001b[1;32m    141\u001b[0m     \u001b[38;5;28;01mwith\u001b[39;00m Trace(\u001b[38;5;124m\"\u001b[39m\u001b[38;5;124mresponse_closed\u001b[39m\u001b[38;5;124m\"\u001b[39m, logger, request) \u001b[38;5;28;01mas\u001b[39;00m trace:\n\u001b[1;32m    142\u001b[0m         \u001b[38;5;28mself\u001b[39m\u001b[38;5;241m.\u001b[39m_response_closed()\n\u001b[0;32m--> 143\u001b[0m \u001b[38;5;28;01mraise\u001b[39;00m exc\n",
      "File \u001b[0;32m/opt/homebrew/anaconda3/lib/python3.11/site-packages/httpcore/_sync/http11.py:113\u001b[0m, in \u001b[0;36mHTTP11Connection.handle_request\u001b[0;34m(self, request)\u001b[0m\n\u001b[1;32m    102\u001b[0m     \u001b[38;5;28;01mpass\u001b[39;00m\n\u001b[1;32m    104\u001b[0m \u001b[38;5;28;01mwith\u001b[39;00m Trace(\n\u001b[1;32m    105\u001b[0m     \u001b[38;5;124m\"\u001b[39m\u001b[38;5;124mreceive_response_headers\u001b[39m\u001b[38;5;124m\"\u001b[39m, logger, request, kwargs\n\u001b[1;32m    106\u001b[0m ) \u001b[38;5;28;01mas\u001b[39;00m trace:\n\u001b[1;32m    107\u001b[0m     (\n\u001b[1;32m    108\u001b[0m         http_version,\n\u001b[1;32m    109\u001b[0m         status,\n\u001b[1;32m    110\u001b[0m         reason_phrase,\n\u001b[1;32m    111\u001b[0m         headers,\n\u001b[1;32m    112\u001b[0m         trailing_data,\n\u001b[0;32m--> 113\u001b[0m     ) \u001b[38;5;241m=\u001b[39m \u001b[38;5;28mself\u001b[39m\u001b[38;5;241m.\u001b[39m_receive_response_headers(\u001b[38;5;241m*\u001b[39m\u001b[38;5;241m*\u001b[39mkwargs)\n\u001b[1;32m    114\u001b[0m     trace\u001b[38;5;241m.\u001b[39mreturn_value \u001b[38;5;241m=\u001b[39m (\n\u001b[1;32m    115\u001b[0m         http_version,\n\u001b[1;32m    116\u001b[0m         status,\n\u001b[1;32m    117\u001b[0m         reason_phrase,\n\u001b[1;32m    118\u001b[0m         headers,\n\u001b[1;32m    119\u001b[0m     )\n\u001b[1;32m    121\u001b[0m network_stream \u001b[38;5;241m=\u001b[39m \u001b[38;5;28mself\u001b[39m\u001b[38;5;241m.\u001b[39m_network_stream\n",
      "File \u001b[0;32m/opt/homebrew/anaconda3/lib/python3.11/site-packages/httpcore/_sync/http11.py:186\u001b[0m, in \u001b[0;36mHTTP11Connection._receive_response_headers\u001b[0;34m(self, request)\u001b[0m\n\u001b[1;32m    183\u001b[0m timeout \u001b[38;5;241m=\u001b[39m timeouts\u001b[38;5;241m.\u001b[39mget(\u001b[38;5;124m\"\u001b[39m\u001b[38;5;124mread\u001b[39m\u001b[38;5;124m\"\u001b[39m, \u001b[38;5;28;01mNone\u001b[39;00m)\n\u001b[1;32m    185\u001b[0m \u001b[38;5;28;01mwhile\u001b[39;00m \u001b[38;5;28;01mTrue\u001b[39;00m:\n\u001b[0;32m--> 186\u001b[0m     event \u001b[38;5;241m=\u001b[39m \u001b[38;5;28mself\u001b[39m\u001b[38;5;241m.\u001b[39m_receive_event(timeout\u001b[38;5;241m=\u001b[39mtimeout)\n\u001b[1;32m    187\u001b[0m     \u001b[38;5;28;01mif\u001b[39;00m \u001b[38;5;28misinstance\u001b[39m(event, h11\u001b[38;5;241m.\u001b[39mResponse):\n\u001b[1;32m    188\u001b[0m         \u001b[38;5;28;01mbreak\u001b[39;00m\n",
      "File \u001b[0;32m/opt/homebrew/anaconda3/lib/python3.11/site-packages/httpcore/_sync/http11.py:224\u001b[0m, in \u001b[0;36mHTTP11Connection._receive_event\u001b[0;34m(self, timeout)\u001b[0m\n\u001b[1;32m    221\u001b[0m     event \u001b[38;5;241m=\u001b[39m \u001b[38;5;28mself\u001b[39m\u001b[38;5;241m.\u001b[39m_h11_state\u001b[38;5;241m.\u001b[39mnext_event()\n\u001b[1;32m    223\u001b[0m \u001b[38;5;28;01mif\u001b[39;00m event \u001b[38;5;129;01mis\u001b[39;00m h11\u001b[38;5;241m.\u001b[39mNEED_DATA:\n\u001b[0;32m--> 224\u001b[0m     data \u001b[38;5;241m=\u001b[39m \u001b[38;5;28mself\u001b[39m\u001b[38;5;241m.\u001b[39m_network_stream\u001b[38;5;241m.\u001b[39mread(\n\u001b[1;32m    225\u001b[0m         \u001b[38;5;28mself\u001b[39m\u001b[38;5;241m.\u001b[39mREAD_NUM_BYTES, timeout\u001b[38;5;241m=\u001b[39mtimeout\n\u001b[1;32m    226\u001b[0m     )\n\u001b[1;32m    228\u001b[0m     \u001b[38;5;66;03m# If we feed this case through h11 we'll raise an exception like:\u001b[39;00m\n\u001b[1;32m    229\u001b[0m     \u001b[38;5;66;03m#\u001b[39;00m\n\u001b[1;32m    230\u001b[0m     \u001b[38;5;66;03m#     httpcore.RemoteProtocolError: can't handle event type\u001b[39;00m\n\u001b[0;32m   (...)\u001b[0m\n\u001b[1;32m    234\u001b[0m     \u001b[38;5;66;03m# perspective. Instead we handle this case distinctly and treat\u001b[39;00m\n\u001b[1;32m    235\u001b[0m     \u001b[38;5;66;03m# it as a ConnectError.\u001b[39;00m\n\u001b[1;32m    236\u001b[0m     \u001b[38;5;28;01mif\u001b[39;00m data \u001b[38;5;241m==\u001b[39m \u001b[38;5;124mb\u001b[39m\u001b[38;5;124m\"\u001b[39m\u001b[38;5;124m\"\u001b[39m \u001b[38;5;129;01mand\u001b[39;00m \u001b[38;5;28mself\u001b[39m\u001b[38;5;241m.\u001b[39m_h11_state\u001b[38;5;241m.\u001b[39mtheir_state \u001b[38;5;241m==\u001b[39m h11\u001b[38;5;241m.\u001b[39mSEND_RESPONSE:\n",
      "File \u001b[0;32m/opt/homebrew/anaconda3/lib/python3.11/site-packages/httpcore/_backends/sync.py:126\u001b[0m, in \u001b[0;36mSyncStream.read\u001b[0;34m(self, max_bytes, timeout)\u001b[0m\n\u001b[1;32m    124\u001b[0m \u001b[38;5;28;01mwith\u001b[39;00m map_exceptions(exc_map):\n\u001b[1;32m    125\u001b[0m     \u001b[38;5;28mself\u001b[39m\u001b[38;5;241m.\u001b[39m_sock\u001b[38;5;241m.\u001b[39msettimeout(timeout)\n\u001b[0;32m--> 126\u001b[0m     \u001b[38;5;28;01mreturn\u001b[39;00m \u001b[38;5;28mself\u001b[39m\u001b[38;5;241m.\u001b[39m_sock\u001b[38;5;241m.\u001b[39mrecv(max_bytes)\n",
      "File \u001b[0;32m/opt/homebrew/anaconda3/lib/python3.11/ssl.py:1296\u001b[0m, in \u001b[0;36mSSLSocket.recv\u001b[0;34m(self, buflen, flags)\u001b[0m\n\u001b[1;32m   1292\u001b[0m     \u001b[38;5;28;01mif\u001b[39;00m flags \u001b[38;5;241m!=\u001b[39m \u001b[38;5;241m0\u001b[39m:\n\u001b[1;32m   1293\u001b[0m         \u001b[38;5;28;01mraise\u001b[39;00m \u001b[38;5;167;01mValueError\u001b[39;00m(\n\u001b[1;32m   1294\u001b[0m             \u001b[38;5;124m\"\u001b[39m\u001b[38;5;124mnon-zero flags not allowed in calls to recv() on \u001b[39m\u001b[38;5;132;01m%s\u001b[39;00m\u001b[38;5;124m\"\u001b[39m \u001b[38;5;241m%\u001b[39m\n\u001b[1;32m   1295\u001b[0m             \u001b[38;5;28mself\u001b[39m\u001b[38;5;241m.\u001b[39m\u001b[38;5;18m__class__\u001b[39m)\n\u001b[0;32m-> 1296\u001b[0m     \u001b[38;5;28;01mreturn\u001b[39;00m \u001b[38;5;28mself\u001b[39m\u001b[38;5;241m.\u001b[39mread(buflen)\n\u001b[1;32m   1297\u001b[0m \u001b[38;5;28;01melse\u001b[39;00m:\n\u001b[1;32m   1298\u001b[0m     \u001b[38;5;28;01mreturn\u001b[39;00m \u001b[38;5;28msuper\u001b[39m()\u001b[38;5;241m.\u001b[39mrecv(buflen, flags)\n",
      "File \u001b[0;32m/opt/homebrew/anaconda3/lib/python3.11/ssl.py:1169\u001b[0m, in \u001b[0;36mSSLSocket.read\u001b[0;34m(self, len, buffer)\u001b[0m\n\u001b[1;32m   1167\u001b[0m         \u001b[38;5;28;01mreturn\u001b[39;00m \u001b[38;5;28mself\u001b[39m\u001b[38;5;241m.\u001b[39m_sslobj\u001b[38;5;241m.\u001b[39mread(\u001b[38;5;28mlen\u001b[39m, buffer)\n\u001b[1;32m   1168\u001b[0m     \u001b[38;5;28;01melse\u001b[39;00m:\n\u001b[0;32m-> 1169\u001b[0m         \u001b[38;5;28;01mreturn\u001b[39;00m \u001b[38;5;28mself\u001b[39m\u001b[38;5;241m.\u001b[39m_sslobj\u001b[38;5;241m.\u001b[39mread(\u001b[38;5;28mlen\u001b[39m)\n\u001b[1;32m   1170\u001b[0m \u001b[38;5;28;01mexcept\u001b[39;00m SSLError \u001b[38;5;28;01mas\u001b[39;00m x:\n\u001b[1;32m   1171\u001b[0m     \u001b[38;5;28;01mif\u001b[39;00m x\u001b[38;5;241m.\u001b[39margs[\u001b[38;5;241m0\u001b[39m] \u001b[38;5;241m==\u001b[39m SSL_ERROR_EOF \u001b[38;5;129;01mand\u001b[39;00m \u001b[38;5;28mself\u001b[39m\u001b[38;5;241m.\u001b[39msuppress_ragged_eofs:\n",
      "\u001b[0;31mKeyboardInterrupt\u001b[0m: "
     ]
    }
   ],
   "source": [
    "from src.agent import RagAgent \n",
    "\n",
    "# Example usage\n",
    "agent = RagAgent()\n",
    "user_message = \"Tell me about AOR DH928\"\n",
    "agent_response = agent.chat(user_message)\n",
    "\n",
    "user_message = \"What is the invoice no.01141833 about?\"\n",
    "agent_response = agent.chat(user_message)\n",
    "\n",
    "user_message = \"Is this invoice covered by the AOR?\"\n",
    "agent_response = agent.chat(user_message)"
   ]
  },
  {
   "cell_type": "code",
   "execution_count": 4,
   "metadata": {},
   "outputs": [
    {
     "name": "stdout",
     "output_type": "stream",
     "text": [
      "Calling Function:  search_aor_with_item  | Query:  CAMP 1 OPS COST REQUIREMENTS\n",
      "Line 90: Item matching aors:  [AOR(items=['Telco Subscription', 'Bank charges (Cheque Book and annual bank statement)', 'Newspaper and magazine Subscription', 'HSP', 'Antigen Test Kit and PCR Test', 'Annual Airport pass', 'Purchase of Stationaries, office equipment and birthday cards', 'Ad-hoc Service and Maintenance', 'Printing of Name Card', 'Dip Bag via MFA'], budgets=[424361.0, 1103.0, 947.0, 981.0, 611.0, 1184.0, 194.0, 1343.0, 699.0, 1158.0], no='CAMP 1 OPS COST REQUIREMENTS', description='Approval of requirement for Operations Cost requirements at an estimated cost.', expiry_date='Not specified', pdf_text=\"Message Classification: Restricted\\r\\n\\r\\nApproved. Tks.\\r\\n\\r\\nBest,\\r\\nHDM\\r\\n\\r\\nFrom: Seow Yuxin <yuxin.seow@temus.com>\\r\\nDate: Thursday, 15 August 2024 at 5:01\\u202fPM\\r\\nTo: Yu Fangyuan <Fangyuan.Yu@temus.com>\\r\\nSubject: [SAMPLE AOR] [For HDM's approval] APPROVAL OF REQUIREMENT FOR CAMP 1 OPS COST REQUIREMENTS [Restricted]\\r\\nMessage Classification: Restricted\\r\\n\\r\\nHDM sir,\\r\\n\\r\\nAPPROVAL OF REQUIREMENT FOR  OPS COST REQUIREMENTS FOR CAMP 1\\r\\n\\r\\nAIM:\\r\\n1. To seek HDM’s approval for Ops Cost requirements at an estimated cost of S$16,290 (26.56THB to 1 SGD)  – MAS Ex Rate for 2024.\\r\\n\\r\\nCOST BREAKDOWN AND JUSTIFICATION\\r\\n2. Approval is sought for the following requirements:\\r\\n\\r\\nItems\\r\\nForecast for 2022\\r\\n2022 Actual Expenditure (THB)\\r\\nForecast for FY23/24 (THB)\\r\\nRemarks\\r\\nTelco Subscription\\r\\n               339,488.00\\r\\n                                               282,907.00\\r\\n                                       424,361.00\\r\\nProjected amount derived from total monthly subscription (12 mths) + projected roaming package for official duty\\r\\nBank charges (Cheque Book and annual bank statement)\\r\\n                         882.00\\r\\n                                                          735.00\\r\\n                                             1,103.00\\r\\nDecrease in projected amount Estimated 3 – 4 cheque books required\\r\\nAllowance model and continued usage of Corporate Credit card for payment.\\r\\nNewspaper and magazine Subscription\\r\\n                         757.00\\r\\n                                                          631.00\\r\\n                                                 947.00\\r\\nReduced the subscription  from 3 copies to 2 copies in subsequently reduced to 1 copy\\r\\nHSP\\r\\n                         785.00\\r\\n                                                          654.00\\r\\n                                                 981.00\\r\\nAntigen Test Kit and PCR Test\\r\\n                         488.00\\r\\n                                                          407.00\\r\\n                                                 611.00\\r\\n\\r\\nAnnual Airport pass\\r\\n                         947.00\\r\\n                                                          789.00\\r\\n                                             1,184.00\\r\\nNo Change in Projection\\r\\nPurchase of Stationaries, office equipment and birthday cards\\r\\n                         155.00\\r\\n                                                          129.00\\r\\n                                                 194.00\\r\\nNo Change in Projection\\r\\nAd-hoc Service and Maintenance\\r\\n                     1,074.00\\r\\n                                                          895.00\\r\\n                                             1,343.00\\r\\nNo Change in Projection\\r\\nPrinting of Name Card\\r\\n                         559.00\\r\\n                                                          466.00\\r\\n                                                 699.00\\r\\nNo Change in Projection\\r\\nDip Bag via MFA\\r\\n                         926.00\\r\\n                                                          772.00\\r\\n                                             1,158.00\\r\\nTOTAL\\r\\n               346,061.00\\r\\n                                               288,385.00\\r\\n                                       432,581.00\\r\\n\\r\\n\\r\\n3. Supported by Director Yong Shan. Request is lower after review of past year’s expenditure and adjusted requirements.\\r\\n\\r\\n4. Submitted for HDM’s approval, please.\\r\\n\\r\\nENDORSEMENT BY AO(F) / URO\\r\\n\\r\\n  1.  Fund Sources and Amount: Cost Centre/IO: CAMP 1, S$17,000  (rounded up to nearest S$’000)\\r\\n  2.  I have checked that there are sufficient funds to support this requirement.\\r\\n  3.  Details of AO(F)/URO:\\r\\n(1) Rank & Name: Procurement Officer, Adam Khoo\\r\\n(2) Appointment: Sergeant\\r\\n(3) Date: <<as reflected in email>>\\r\\n\", pdf_path='database/aor/AOR-sample2.eml', cached_dict={})]\n",
      "-------- **** ------- After search AOR with Item, AOR list:  [AOR(items=['Telco Subscription', 'Bank charges (Cheque Book and annual bank statement)', 'Newspaper and magazine Subscription', 'HSP', 'Antigen Test Kit and PCR Test', 'Annual Airport pass', 'Purchase of Stationaries, office equipment and birthday cards', 'Ad-hoc Service and Maintenance', 'Printing of Name Card', 'Dip Bag via MFA'], budgets=[424361.0, 1103.0, 947.0, 981.0, 611.0, 1184.0, 194.0, 1343.0, 699.0, 1158.0], no='CAMP 1 OPS COST REQUIREMENTS', description='Approval of requirement for Operations Cost requirements at an estimated cost.', expiry_date='Not specified', pdf_text=\"Message Classification: Restricted\\r\\n\\r\\nApproved. Tks.\\r\\n\\r\\nBest,\\r\\nHDM\\r\\n\\r\\nFrom: Seow Yuxin <yuxin.seow@temus.com>\\r\\nDate: Thursday, 15 August 2024 at 5:01\\u202fPM\\r\\nTo: Yu Fangyuan <Fangyuan.Yu@temus.com>\\r\\nSubject: [SAMPLE AOR] [For HDM's approval] APPROVAL OF REQUIREMENT FOR CAMP 1 OPS COST REQUIREMENTS [Restricted]\\r\\nMessage Classification: Restricted\\r\\n\\r\\nHDM sir,\\r\\n\\r\\nAPPROVAL OF REQUIREMENT FOR  OPS COST REQUIREMENTS FOR CAMP 1\\r\\n\\r\\nAIM:\\r\\n1. To seek HDM’s approval for Ops Cost requirements at an estimated cost of S$16,290 (26.56THB to 1 SGD)  – MAS Ex Rate for 2024.\\r\\n\\r\\nCOST BREAKDOWN AND JUSTIFICATION\\r\\n2. Approval is sought for the following requirements:\\r\\n\\r\\nItems\\r\\nForecast for 2022\\r\\n2022 Actual Expenditure (THB)\\r\\nForecast for FY23/24 (THB)\\r\\nRemarks\\r\\nTelco Subscription\\r\\n               339,488.00\\r\\n                                               282,907.00\\r\\n                                       424,361.00\\r\\nProjected amount derived from total monthly subscription (12 mths) + projected roaming package for official duty\\r\\nBank charges (Cheque Book and annual bank statement)\\r\\n                         882.00\\r\\n                                                          735.00\\r\\n                                             1,103.00\\r\\nDecrease in projected amount Estimated 3 – 4 cheque books required\\r\\nAllowance model and continued usage of Corporate Credit card for payment.\\r\\nNewspaper and magazine Subscription\\r\\n                         757.00\\r\\n                                                          631.00\\r\\n                                                 947.00\\r\\nReduced the subscription  from 3 copies to 2 copies in subsequently reduced to 1 copy\\r\\nHSP\\r\\n                         785.00\\r\\n                                                          654.00\\r\\n                                                 981.00\\r\\nAntigen Test Kit and PCR Test\\r\\n                         488.00\\r\\n                                                          407.00\\r\\n                                                 611.00\\r\\n\\r\\nAnnual Airport pass\\r\\n                         947.00\\r\\n                                                          789.00\\r\\n                                             1,184.00\\r\\nNo Change in Projection\\r\\nPurchase of Stationaries, office equipment and birthday cards\\r\\n                         155.00\\r\\n                                                          129.00\\r\\n                                                 194.00\\r\\nNo Change in Projection\\r\\nAd-hoc Service and Maintenance\\r\\n                     1,074.00\\r\\n                                                          895.00\\r\\n                                             1,343.00\\r\\nNo Change in Projection\\r\\nPrinting of Name Card\\r\\n                         559.00\\r\\n                                                          466.00\\r\\n                                                 699.00\\r\\nNo Change in Projection\\r\\nDip Bag via MFA\\r\\n                         926.00\\r\\n                                                          772.00\\r\\n                                             1,158.00\\r\\nTOTAL\\r\\n               346,061.00\\r\\n                                               288,385.00\\r\\n                                       432,581.00\\r\\n\\r\\n\\r\\n3. Supported by Director Yong Shan. Request is lower after review of past year’s expenditure and adjusted requirements.\\r\\n\\r\\n4. Submitted for HDM’s approval, please.\\r\\n\\r\\nENDORSEMENT BY AO(F) / URO\\r\\n\\r\\n  1.  Fund Sources and Amount: Cost Centre/IO: CAMP 1, S$17,000  (rounded up to nearest S$’000)\\r\\n  2.  I have checked that there are sufficient funds to support this requirement.\\r\\n  3.  Details of AO(F)/URO:\\r\\n(1) Rank & Name: Procurement Officer, Adam Khoo\\r\\n(2) Appointment: Sergeant\\r\\n(3) Date: <<as reflected in email>>\\r\\n\", pdf_path='database/aor/AOR-sample2.eml', cached_dict={})]\n",
      "Retrived Information: Found AORCAMP 1 OPS COST REQUIREMENTS related to the item CAMP 1 OPS COST REQUIREMENTS\n",
      "Calling Function:  direct_answer  | Query:  The AOR no. CAMP 1 OPS COST REQUIREMENTS includes the following budget allocations: Telco Subscription (424361.0), Bank charges (Cheque Book and annual bank statement) (1103.0), Newspaper and magazine Subscription (947.0), HSP (981.0), Antigen Test Kit and PCR Test (611.0), Annual Airport pass (1184.0), Purchase of Stationaries, office equipment and birthday cards (194.0), Ad-hoc Service and Maintenance (1343.0), Printing of Name Card (699.0), and Dip Bag via MFA (1158.0). The description of this AOR is an approval of requirement for Operations Cost requirements at an estimated cost. The expiry date is not specified.\n",
      "Direct Answer\n",
      "Question:  \n",
      "Base on what you've found, provide your answer to the user query. Do you make up information, mention you did not find relevant information if the provided information is not relevant.\n",
      "\n",
      "Retrieved Invoice: \n",
      "\n",
      "Retrieved AOR: AOR no. CAMP 1 OPS COST REQUIREMENTS\n",
      "Budget for Telco Subscription is 424361.0\n",
      "Budget for Bank charges (Cheque Book and annual bank statement) is 1103.0\n",
      "Budget for Newspaper and magazine Subscription is 947.0\n",
      "Budget for HSP is 981.0\n",
      "Budget for Antigen Test Kit and PCR Test is 611.0\n",
      "Budget for Annual Airport pass is 1184.0\n",
      "Budget for Purchase of Stationaries, office equipment and birthday cards is 194.0\n",
      "Budget for Ad-hoc Service and Maintenance is 1343.0\n",
      "Budget for Printing of Name Card is 699.0\n",
      "Budget for Dip Bag via MFA is 1158.0\n",
      "Expiry date: Not specified\n",
      "Description: Approval of requirement for Operations Cost requirements at an estimated cost.\n",
      "\n",
      "User query: Tell me about AOR CAMP 1 OPS COST REQUIREMENTS\n",
      "\n",
      "Provide your thought and answer. For instance: \n",
      "Thought: xxx\n",
      "Answer: xxx\n",
      "\n",
      "        Thought: The user is asking for details about the AOR titled \"CAMP 1 OPS COST REQUIREMENTS.\" I have retrieved the relevant AOR information that outlines the budget allocations for various operational cost requirements.\n",
      "        Answer: The AOR \"CAMP 1 OPS COST REQUIREMENTS\" lists budget allocations for several operational expenses. The budget details are as follows:\n",
      "\n",
      "- Telco Subscription: 424,361.0\n",
      "- Bank charges (Cheque Book and annual bank statement): 1,103.0\n",
      "- Newspaper and magazine Subscription: 947.0\n",
      "- HSP: 981.0\n",
      "- Antigen Test Kit and PCR Test: 611.0\n",
      "- Annual Airport pass: 1,184.0\n",
      "- Purchase of Stationaries, office equipment and birthday cards: 194.0\n",
      "- Ad-hoc Service and Maintenance: 1,343.0\n",
      "- Printing of Name Card: 699.0\n",
      "- Dip Bag via MFA: 1,158.0\n",
      "\n",
      "The AOR does not specify an expiry date. It is an approval of requirements for operations cost at an estimated cost.\n",
      "Final Answer: The AOR \"CAMP 1 OPS COST REQUIREMENTS\" lists budget allocations for several operational expenses. The budget details are as follows:\n",
      "\n",
      "- Telco Subscription: 424,361.0\n",
      "- Bank charges (Cheque Book and annual bank statement): 1,103.0\n",
      "- Newspaper and magazine Subscription: 947.0\n",
      "- HSP: 981.0\n",
      "- Antigen Test Kit and PCR Test: 611.0\n",
      "- Annual Airport pass: 1,184.0\n",
      "- Purchase of Stationaries, office equipment and birthday cards: 194.0\n",
      "- Ad-hoc Service and Maintenance: 1,343.0\n",
      "- Printing of Name Card: 699.0\n",
      "- Dip Bag via MFA: 1,158.0\n",
      "\n",
      "The AOR does not specify an expiry date. It is an approval of requirements for operations cost at an estimated cost.\n",
      "Calling Function:  search_invoice_with_no  | Query:  1234567\n",
      "Retrived Information: Found Invoice1234567 related to the query number 1234567\n",
      "Calling Function:  query_invoice_detail  | Query:  Invoice no. 1234567\n",
      "Final Answer: The invoice no. 1234567 from Temus is for various fees and services, including telecom service, bank statement and annual report fees, membership for journals, service fees, antigen and PCR tests, an annual pass card, cooling and office equipment purchases, filing and archiving service, card printing, and express document service, totaling 484,490.72 THB including VAT.\n"
     ]
    }
   ],
   "source": [
    "from src.agent import RagAgent \n",
    "\n",
    "agent = RagAgent()\n",
    "user_message = \"Tell me about AOR CAMP 1 OPS COST REQUIREMENTS\"\n",
    "agent_response = agent.chat(user_message)\n",
    "\n",
    "user_message = \"What is the invoice no.1234567 about?\"\n",
    "agent_response = agent.chat(user_message)\n",
    "\n",
    "# user_message = \"Is this invoice covered by the AOR?\"\n",
    "# agent_response = agent.chat(user_message)"
   ]
  },
  {
   "cell_type": "code",
   "execution_count": 6,
   "metadata": {},
   "outputs": [
    {
     "data": {
      "text/plain": [
       "[AOR(items=['Telco Subscription', 'Bank charges (Cheque Book and annual bank statement)', 'Newspaper and magazine Subscription', 'HSP', 'Antigen Test Kit and PCR Test', 'Annual Airport pass', 'Purchase of Stationaries, office equipment and birthday cards', 'Ad-hoc Service and Maintenance', 'Printing of Name Card', 'Dip Bag via MFA'], budgets=[424361.0, 1103.0, 947.0, 981.0, 611.0, 1184.0, 194.0, 1343.0, 699.0, 1158.0], no='CAMP 1 OPS COST REQUIREMENTS', description='Approval of requirement for Operations Cost requirements at an estimated cost.', expiry_date='Not specified', pdf_text=\"Message Classification: Restricted\\r\\n\\r\\nApproved. Tks.\\r\\n\\r\\nBest,\\r\\nHDM\\r\\n\\r\\nFrom: Seow Yuxin <yuxin.seow@temus.com>\\r\\nDate: Thursday, 15 August 2024 at 5:01\\u202fPM\\r\\nTo: Yu Fangyuan <Fangyuan.Yu@temus.com>\\r\\nSubject: [SAMPLE AOR] [For HDM's approval] APPROVAL OF REQUIREMENT FOR CAMP 1 OPS COST REQUIREMENTS [Restricted]\\r\\nMessage Classification: Restricted\\r\\n\\r\\nHDM sir,\\r\\n\\r\\nAPPROVAL OF REQUIREMENT FOR  OPS COST REQUIREMENTS FOR CAMP 1\\r\\n\\r\\nAIM:\\r\\n1. To seek HDM’s approval for Ops Cost requirements at an estimated cost of S$16,290 (26.56THB to 1 SGD)  – MAS Ex Rate for 2024.\\r\\n\\r\\nCOST BREAKDOWN AND JUSTIFICATION\\r\\n2. Approval is sought for the following requirements:\\r\\n\\r\\nItems\\r\\nForecast for 2022\\r\\n2022 Actual Expenditure (THB)\\r\\nForecast for FY23/24 (THB)\\r\\nRemarks\\r\\nTelco Subscription\\r\\n               339,488.00\\r\\n                                               282,907.00\\r\\n                                       424,361.00\\r\\nProjected amount derived from total monthly subscription (12 mths) + projected roaming package for official duty\\r\\nBank charges (Cheque Book and annual bank statement)\\r\\n                         882.00\\r\\n                                                          735.00\\r\\n                                             1,103.00\\r\\nDecrease in projected amount Estimated 3 – 4 cheque books required\\r\\nAllowance model and continued usage of Corporate Credit card for payment.\\r\\nNewspaper and magazine Subscription\\r\\n                         757.00\\r\\n                                                          631.00\\r\\n                                                 947.00\\r\\nReduced the subscription  from 3 copies to 2 copies in subsequently reduced to 1 copy\\r\\nHSP\\r\\n                         785.00\\r\\n                                                          654.00\\r\\n                                                 981.00\\r\\nAntigen Test Kit and PCR Test\\r\\n                         488.00\\r\\n                                                          407.00\\r\\n                                                 611.00\\r\\n\\r\\nAnnual Airport pass\\r\\n                         947.00\\r\\n                                                          789.00\\r\\n                                             1,184.00\\r\\nNo Change in Projection\\r\\nPurchase of Stationaries, office equipment and birthday cards\\r\\n                         155.00\\r\\n                                                          129.00\\r\\n                                                 194.00\\r\\nNo Change in Projection\\r\\nAd-hoc Service and Maintenance\\r\\n                     1,074.00\\r\\n                                                          895.00\\r\\n                                             1,343.00\\r\\nNo Change in Projection\\r\\nPrinting of Name Card\\r\\n                         559.00\\r\\n                                                          466.00\\r\\n                                                 699.00\\r\\nNo Change in Projection\\r\\nDip Bag via MFA\\r\\n                         926.00\\r\\n                                                          772.00\\r\\n                                             1,158.00\\r\\nTOTAL\\r\\n               346,061.00\\r\\n                                               288,385.00\\r\\n                                       432,581.00\\r\\n\\r\\n\\r\\n3. Supported by Director Yong Shan. Request is lower after review of past year’s expenditure and adjusted requirements.\\r\\n\\r\\n4. Submitted for HDM’s approval, please.\\r\\n\\r\\nENDORSEMENT BY AO(F) / URO\\r\\n\\r\\n  1.  Fund Sources and Amount: Cost Centre/IO: CAMP 1, S$17,000  (rounded up to nearest S$’000)\\r\\n  2.  I have checked that there are sufficient funds to support this requirement.\\r\\n  3.  Details of AO(F)/URO:\\r\\n(1) Rank & Name: Procurement Officer, Adam Khoo\\r\\n(2) Appointment: Sergeant\\r\\n(3) Date: <<as reflected in email>>\\r\\n\", pdf_path='database/aor/AOR-sample2.eml', cached_dict={})]"
      ]
     },
     "execution_count": 6,
     "metadata": {},
     "output_type": "execute_result"
    }
   ],
   "source": [
    "agent.memory.aor_list"
   ]
  },
  {
   "cell_type": "code",
   "execution_count": 7,
   "metadata": {},
   "outputs": [
    {
     "data": {
      "text/plain": [
       "[Invoice(no='1234567', date='2024-08-15', currency='Thai Baht', seller='Temus', items=['Telecom service fee', 'Bank statement and annual report fee', 'Membership fee for journals and publications', 'Service fee', 'Antigen test kit and PCR test', 'Annual pass card', 'Purchase of cooling equipment, office equipment and ERP', 'Filing and archiving service', 'Card printing service', 'Express document service'], amounts=[424361.0, 1103.0, 947.0, 981.0, 611.0, 1184.0, 194.0, 1343.0, 699.0, 1158.0], description='', invoice_text='Invoice\\nCompany Name: Temus\\nAddress: Pasir Panjang\\nInvoice Number: 1234567\\nInvoice Date: 15 August 2024\\n\\nItems\\nTelecom service fee: 424,361.00 THB\\nBank statement and annual report fee: 1,103.00 THB\\nMembership fee for journals and publications: 947.00 THB\\nService fee: 981.00 THB\\nAntigen test kit and PCR test: 611.00 THB\\nAnnual pass card: 1,184.00 THB\\nPurchase of cooling equipment, office equipment and ERP: 194.00 THB\\nFiling and archiving service: 1,343.00 THB\\nCard printing service: 699.00 THB\\nExpress document service: 1,158.00 THB\\n\\nSubtotal: 432,581.00\\nVAT 12%: 51,909.72\\nTotal: 484,490.72\\n\\nPayment Terms: NET 30\\nPayment Method: Cheque\\nDue Date: 15 September 2024', invoice_path='database/invoice/invoice_thai.pdf')]"
      ]
     },
     "execution_count": 7,
     "metadata": {},
     "output_type": "execute_result"
    }
   ],
   "source": [
    "agent.memory.invoice_list"
   ]
  },
  {
   "cell_type": "code",
   "execution_count": 15,
   "metadata": {},
   "outputs": [],
   "source": [
    "from src.utils import *\n",
    "import glob \n",
    "\n",
    "eml_files = glob.glob(\"database/aor/*.eml\")\n",
    "eml_file_path = eml_files[0]\n",
    "email_data = read_eml(eml_file_path)\n",
    "\n",
    "email_txt = email_data.get('body')\n",
    "prompt = PARSE_AOR_PROMPT.format(pdf_txt=email_txt)\n",
    "response = get_oai_response(prompt)\n",
    "parsed_aor_dict = parse_json_response(response)\n",
    "aor = AOR(**parsed_aor_dict)\n",
    "\n",
    "\n",
    "# print(email_data)"
   ]
  },
  {
   "cell_type": "code",
   "execution_count": 24,
   "metadata": {},
   "outputs": [],
   "source": []
  },
  {
   "cell_type": "code",
   "execution_count": 13,
   "metadata": {},
   "outputs": [
    {
     "data": {
      "text/plain": [
       "\"Message Classification: Restricted\\r\\n\\r\\nApproved. Tks.\\r\\n\\r\\nBest,\\r\\nHDM\\r\\n\\r\\nFrom: Seow Yuxin <yuxin.seow@temus.com>\\r\\nDate: Thursday, 15 August 2024 at 5:01\\u202fPM\\r\\nTo: Yu Fangyuan <Fangyuan.Yu@temus.com>\\r\\nSubject: [SAMPLE AOR] [For HDM's approval] APPROVAL OF REQUIREMENT FOR CAMP 1 OPS COST REQUIREMENTS [Restricted]\\r\\nMessage Classification: Restricted\\r\\n\\r\\nHDM sir,\\r\\n\\r\\nAPPROVAL OF REQUIREMENT FOR  OPS COST REQUIREMENTS FOR CAMP 1\\r\\n\\r\\nAIM:\\r\\n1. To seek HDM’s approval for Ops Cost requirements at an estimated cost of S$16,290 (26.56THB to 1 SGD)  – MAS Ex Rate for 2024.\\r\\n\\r\\nCOST BREAKDOWN AND JUSTIFICATION\\r\\n2. Approval is sought for the following requirements:\\r\\n\\r\\nItems\\r\\nForecast for 2022\\r\\n2022 Actual Expenditure (THB)\\r\\nForecast for FY23/24 (THB)\\r\\nRemarks\\r\\nTelco Subscription\\r\\n               339,488.00\\r\\n                                               282,907.00\\r\\n                                       424,361.00\\r\\nProjected amount derived from total monthly subscription (12 mths) + projected roaming package for official duty\\r\\nBank charges (Cheque Book and annual bank statement)\\r\\n                         882.00\\r\\n                                                          735.00\\r\\n                                             1,103.00\\r\\nDecrease in projected amount Estimated 3 – 4 cheque books required\\r\\nAllowance model and continued usage of Corporate Credit card for payment.\\r\\nNewspaper and magazine Subscription\\r\\n                         757.00\\r\\n                                                          631.00\\r\\n                                                 947.00\\r\\nReduced the subscription  from 3 copies to 2 copies in subsequently reduced to 1 copy\\r\\nHSP\\r\\n                         785.00\\r\\n                                                          654.00\\r\\n                                                 981.00\\r\\nAntigen Test Kit and PCR Test\\r\\n                         488.00\\r\\n                                                          407.00\\r\\n                                                 611.00\\r\\n\\r\\nAnnual Airport pass\\r\\n                         947.00\\r\\n                                                          789.00\\r\\n                                             1,184.00\\r\\nNo Change in Projection\\r\\nPurchase of Stationaries, office equipment and birthday cards\\r\\n                         155.00\\r\\n                                                          129.00\\r\\n                                                 194.00\\r\\nNo Change in Projection\\r\\nAd-hoc Service and Maintenance\\r\\n                     1,074.00\\r\\n                                                          895.00\\r\\n                                             1,343.00\\r\\nNo Change in Projection\\r\\nPrinting of Name Card\\r\\n                         559.00\\r\\n                                                          466.00\\r\\n                                                 699.00\\r\\nNo Change in Projection\\r\\nDip Bag via MFA\\r\\n                         926.00\\r\\n                                                          772.00\\r\\n                                             1,158.00\\r\\nTOTAL\\r\\n               346,061.00\\r\\n                                               288,385.00\\r\\n                                       432,581.00\\r\\n\\r\\n\\r\\n3. Supported by Director Yong Shan. Request is lower after review of past year’s expenditure and adjusted requirements.\\r\\n\\r\\n4. Submitted for HDM’s approval, please.\\r\\n\\r\\nENDORSEMENT BY AO(F) / URO\\r\\n\\r\\n  1.  Fund Sources and Amount: Cost Centre/IO: CAMP 1, S$17,000  (rounded up to nearest S$’000)\\r\\n  2.  I have checked that there are sufficient funds to support this requirement.\\r\\n  3.  Details of AO(F)/URO:\\r\\n(1) Rank & Name: Procurement Officer, Adam Khoo\\r\\n(2) Appointment: Sergeant\\r\\n(3) Date: <<as reflected in email>>\\r\\n\""
      ]
     },
     "execution_count": 13,
     "metadata": {},
     "output_type": "execute_result"
    }
   ],
   "source": [
    "# type(email_data)\n",
    "email_data['body']"
   ]
  },
  {
   "cell_type": "code",
   "execution_count": null,
   "metadata": {},
   "outputs": [],
   "source": [
    "from PIL import Image\n",
    "import glob\n",
    "# glob.glob(\"assets/*\")[1]\n",
    "icon_path = \"assets/flow-agent.png\"\n",
    "icon = Image.open(icon_path)"
   ]
  },
  {
   "cell_type": "markdown",
   "metadata": {},
   "source": [
    "#### Invoice Processor"
   ]
  },
  {
   "cell_type": "code",
   "execution_count": null,
   "metadata": {},
   "outputs": [],
   "source": [
    "# this is the last query to solve, before the front-end deployment \n",
    "# query = \"Is the invoice no.01141833 covered by any of the AORs?\"\n",
    "# query = \"What is the invoice no.01141883 about?\"\n",
    "\n",
    "# use_message = \"Is the invoice no.01141833 covered by any of the AORs?\"\n",
    "agent_response = agent.chat(\"Is the invoice no.01141833 covered by any of the AORs?\")"
   ]
  },
  {
   "cell_type": "code",
   "execution_count": null,
   "metadata": {},
   "outputs": [],
   "source": [
    "# Chainlit front-end interface with logo change now\n"
   ]
  },
  {
   "cell_type": "code",
   "execution_count": null,
   "metadata": {},
   "outputs": [],
   "source": []
  }
 ],
 "metadata": {
  "kernelspec": {
   "display_name": "Python 3",
   "language": "python",
   "name": "python3"
  },
  "language_info": {
   "codemirror_mode": {
    "name": "ipython",
    "version": 3
   },
   "file_extension": ".py",
   "mimetype": "text/x-python",
   "name": "python",
   "nbconvert_exporter": "python",
   "pygments_lexer": "ipython3",
   "version": "3.11.5"
  }
 },
 "nbformat": 4,
 "nbformat_minor": 2
}
